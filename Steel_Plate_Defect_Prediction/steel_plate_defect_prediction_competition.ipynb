{
 "nbformat": 4,
 "nbformat_minor": 0,
 "metadata": {
  "colab": {
   "provenance": [],
   "collapsed_sections": [
    "gigmAXjADhYS",
    "cRuXW9p1OALc",
    "ZxuqUGqQDPb3",
    "9p9PzmWfSUaJ",
    "ruDHQ_c5SV2z",
    "_6hvn-NqAqGc",
    "4PcJK7vBDv50",
    "ndmBv2fEq1ae"
   ],
   "gpuType": "T4"
  },
  "kernelspec": {
   "name": "python3",
   "language": "python",
   "display_name": "Python 3 (ipykernel)"
  },
  "language_info": {
   "name": "python"
  },
  "accelerator": "GPU"
 },
 "cells": [
  {
   "cell_type": "markdown",
   "source": [
    "## Kaggle Connection And Dataset Download\n",
    "\n",
    "--> **[Competition link](https://www.kaggle.com/competitions/playground-series-s4e3/overview)** <--"
   ],
   "metadata": {
    "id": "gigmAXjADhYS"
   }
  },
  {
   "cell_type": "code",
   "execution_count": 1,
   "metadata": {
    "id": "_ulj-fo8DZSI",
    "ExecuteTime": {
     "end_time": "2024-03-11T17:12:07.082470200Z",
     "start_time": "2024-03-11T17:12:07.005524900Z"
    }
   },
   "outputs": [],
   "source": [
    "from IPython.display import clear_output\n",
    "import os"
   ]
  },
  {
   "cell_type": "code",
   "source": [
    "!pip install kaggle -U\n",
    "clear_output()"
   ],
   "metadata": {
    "id": "zCQZLIk-D05h"
   },
   "execution_count": 2,
   "outputs": []
  },
  {
   "cell_type": "code",
   "source": [
    "os.environ['KAGGLE_USERNAME'] = 'zephyrus1'\n",
    "os.environ['KAGGLE_KEY']      = 'b6a3a1e5eabda31b6793a9ead78e5f63'\n",
    "\n",
    "data_path = '/content/drive/MyDrive/kaggle'"
   ],
   "metadata": {
    "id": "-O1wLTF3D3ea",
    "ExecuteTime": {
     "end_time": "2024-03-11T17:12:14.590816200Z",
     "start_time": "2024-03-11T17:12:14.569224900Z"
    }
   },
   "execution_count": 3,
   "outputs": []
  },
  {
   "cell_type": "code",
   "source": [
    "!kaggle competitions download -c playground-series-s4e3"
   ],
   "metadata": {
    "colab": {
     "base_uri": "https://localhost:8080/"
    },
    "id": "KPLiiSfUEkYv",
    "outputId": "56390ce7-3f06-480f-b58b-845af040f0d8",
    "ExecuteTime": {
     "end_time": "2024-03-11T17:12:16.821317300Z",
     "start_time": "2024-03-11T17:12:14.576226200Z"
    }
   },
   "execution_count": 4,
   "outputs": [
    {
     "name": "stdout",
     "output_type": "stream",
     "text": [
      "playground-series-s4e3.zip: Skipping, found more recently modified local copy (use --force to force download)\n"
     ]
    }
   ]
  },
  {
   "cell_type": "code",
   "source": [
    "import zipfile\n",
    "\n",
    "downloaded_path = 'playground-series-s4e3.zip'\n",
    "\n",
    "with zipfile.ZipFile(downloaded_path, 'r') as extract:\n",
    "  extract.extractall(data_path)"
   ],
   "metadata": {
    "id": "ejCSwrJFEnu0",
    "ExecuteTime": {
     "end_time": "2024-03-11T17:12:16.917517400Z",
     "start_time": "2024-03-11T17:12:16.822317800Z"
    }
   },
   "execution_count": 5,
   "outputs": []
  },
  {
   "cell_type": "code",
   "source": [
    "import pandas as pd\n",
    "import numpy as np\n",
    "import matplotlib.pyplot as plt\n",
    "import plotly.express as px\n",
    "import seaborn as sns\n",
    "import warnings\n",
    "warnings.filterwarnings('ignore')\n",
    "sns.set_theme(style=\"darkgrid\", rc={\"axes.facecolor\": \"#eaeaf2\"})"
   ],
   "metadata": {
    "id": "ZelAoqkIG91A",
    "ExecuteTime": {
     "end_time": "2024-03-11T17:12:17.027399500Z",
     "start_time": "2024-03-11T17:12:16.871196700Z"
    }
   },
   "execution_count": 6,
   "outputs": []
  },
  {
   "cell_type": "markdown",
   "source": [
    "## First Look"
   ],
   "metadata": {
    "id": "cRuXW9p1OALc"
   }
  },
  {
   "cell_type": "code",
   "source": [
    "train             = pd.read_csv(data_path + '/train.csv')\n",
    "test              = pd.read_csv(data_path + '/test.csv')\n",
    "sample_submission = pd.read_csv(data_path + '/sample_submission.csv')\n",
    "original          = pd.read_csv(r'C:\\Users\\ekber\\OneDrive\\Masaüstü\\KaggleCompetitions\\Steel_Plate_Defect_Prediction\\original.csv')\n",
    "target            = [\"Pastry\",\"Z_Scratch\",\"K_Scatch\",\"Stains\",\"Dirtiness\",\"Bumps\",\"Other_Faults\"]"
   ],
   "metadata": {
    "id": "nz3mUut2Gbcw",
    "ExecuteTime": {
     "end_time": "2024-03-11T17:12:17.207245700Z",
     "start_time": "2024-03-11T17:12:17.033397900Z"
    }
   },
   "execution_count": 7,
   "outputs": []
  },
  {
   "cell_type": "code",
   "source": [
    "train=pd.concat([train,original],axis=0)\n",
    "train.reset_index(inplace=True,drop=True)"
   ],
   "metadata": {
    "id": "vhkiHfVTI1_r",
    "ExecuteTime": {
     "end_time": "2024-03-11T17:12:17.232996700Z",
     "start_time": "2024-03-11T17:12:17.216237900Z"
    }
   },
   "execution_count": 8,
   "outputs": []
  },
  {
   "cell_type": "code",
   "source": [
    "train"
   ],
   "metadata": {
    "colab": {
     "base_uri": "https://localhost:8080/",
     "height": 0
    },
    "id": "gXpvpkqSAQgM",
    "outputId": "78ab6448-bf30-4f9a-9c41-981abf01d2e5",
    "ExecuteTime": {
     "end_time": "2024-03-11T17:12:17.344657600Z",
     "start_time": "2024-03-11T17:12:17.239517500Z"
    }
   },
   "execution_count": 9,
   "outputs": [
    {
     "data": {
      "text/plain": "         id  X_Minimum  X_Maximum  Y_Minimum  Y_Maximum  Pixels_Areas  \\\n0         0        584        590     909972     909977            16   \n1         1        808        816     728350     728372           433   \n2         2         39        192    2212076    2212144         11388   \n3         3        781        789    3353146    3353173           210   \n4         4       1540       1560     618457     618502           521   \n...     ...        ...        ...        ...        ...           ...   \n21155  1936        249        277     325780     325796           273   \n21156  1937        144        175     340581     340598           287   \n21157  1938        145        174     386779     386794           292   \n21158  1939        137        170     422497     422528           419   \n21159  1940       1261       1281      87951      87967           103   \n\n       X_Perimeter  Y_Perimeter  Sum_of_Luminosity  Minimum_of_Luminosity  \\\n0                8            5               2274                    113   \n1               20           54              44478                     70   \n2              705          420            1311391                     29   \n3               16           29               3202                    114   \n4               72           67              48231                     82   \n...            ...          ...                ...                    ...   \n21155           54           22              35033                    119   \n21156           44           24              34599                    112   \n21157           40           22              37572                    120   \n21158           97           47              52715                    117   \n21159           26           22              11682                    101   \n\n       ...  Luminosity_Index  SigmoidOfAreas  Pastry  Z_Scratch  K_Scatch  \\\n0      ...           -0.0104          0.1417       0          0         0   \n1      ...           -0.2997          0.9491       0          0         0   \n2      ...           -0.0944          1.0000       0          0         1   \n3      ...           -0.0402          0.4025       0          0         1   \n4      ...           -0.2455          0.9998       0          0         0   \n...    ...               ...             ...     ...        ...       ...   \n21155  ...            0.0026          0.7254       0          0         0   \n21156  ...           -0.0582          0.8173       0          0         0   \n21157  ...            0.0052          0.7079       0          0         0   \n21158  ...           -0.0171          0.9919       0          0         0   \n21159  ...           -0.1139          0.5296       0          0         0   \n\n       Stains  Dirtiness  Bumps  Other_Faults  Unnamed: 0  \n0           1          0      0             0         NaN  \n1           0          0      0             1         NaN  \n2           0          0      0             0         NaN  \n3           0          0      0             0         NaN  \n4           0          0      0             1         NaN  \n...       ...        ...    ...           ...         ...  \n21155       0          0      0             1      1936.0  \n21156       0          0      0             1      1937.0  \n21157       0          0      0             1      1938.0  \n21158       0          0      0             1      1939.0  \n21159       0          0      0             1      1940.0  \n\n[21160 rows x 36 columns]",
      "text/html": "<div>\n<style scoped>\n    .dataframe tbody tr th:only-of-type {\n        vertical-align: middle;\n    }\n\n    .dataframe tbody tr th {\n        vertical-align: top;\n    }\n\n    .dataframe thead th {\n        text-align: right;\n    }\n</style>\n<table border=\"1\" class=\"dataframe\">\n  <thead>\n    <tr style=\"text-align: right;\">\n      <th></th>\n      <th>id</th>\n      <th>X_Minimum</th>\n      <th>X_Maximum</th>\n      <th>Y_Minimum</th>\n      <th>Y_Maximum</th>\n      <th>Pixels_Areas</th>\n      <th>X_Perimeter</th>\n      <th>Y_Perimeter</th>\n      <th>Sum_of_Luminosity</th>\n      <th>Minimum_of_Luminosity</th>\n      <th>...</th>\n      <th>Luminosity_Index</th>\n      <th>SigmoidOfAreas</th>\n      <th>Pastry</th>\n      <th>Z_Scratch</th>\n      <th>K_Scatch</th>\n      <th>Stains</th>\n      <th>Dirtiness</th>\n      <th>Bumps</th>\n      <th>Other_Faults</th>\n      <th>Unnamed: 0</th>\n    </tr>\n  </thead>\n  <tbody>\n    <tr>\n      <th>0</th>\n      <td>0</td>\n      <td>584</td>\n      <td>590</td>\n      <td>909972</td>\n      <td>909977</td>\n      <td>16</td>\n      <td>8</td>\n      <td>5</td>\n      <td>2274</td>\n      <td>113</td>\n      <td>...</td>\n      <td>-0.0104</td>\n      <td>0.1417</td>\n      <td>0</td>\n      <td>0</td>\n      <td>0</td>\n      <td>1</td>\n      <td>0</td>\n      <td>0</td>\n      <td>0</td>\n      <td>NaN</td>\n    </tr>\n    <tr>\n      <th>1</th>\n      <td>1</td>\n      <td>808</td>\n      <td>816</td>\n      <td>728350</td>\n      <td>728372</td>\n      <td>433</td>\n      <td>20</td>\n      <td>54</td>\n      <td>44478</td>\n      <td>70</td>\n      <td>...</td>\n      <td>-0.2997</td>\n      <td>0.9491</td>\n      <td>0</td>\n      <td>0</td>\n      <td>0</td>\n      <td>0</td>\n      <td>0</td>\n      <td>0</td>\n      <td>1</td>\n      <td>NaN</td>\n    </tr>\n    <tr>\n      <th>2</th>\n      <td>2</td>\n      <td>39</td>\n      <td>192</td>\n      <td>2212076</td>\n      <td>2212144</td>\n      <td>11388</td>\n      <td>705</td>\n      <td>420</td>\n      <td>1311391</td>\n      <td>29</td>\n      <td>...</td>\n      <td>-0.0944</td>\n      <td>1.0000</td>\n      <td>0</td>\n      <td>0</td>\n      <td>1</td>\n      <td>0</td>\n      <td>0</td>\n      <td>0</td>\n      <td>0</td>\n      <td>NaN</td>\n    </tr>\n    <tr>\n      <th>3</th>\n      <td>3</td>\n      <td>781</td>\n      <td>789</td>\n      <td>3353146</td>\n      <td>3353173</td>\n      <td>210</td>\n      <td>16</td>\n      <td>29</td>\n      <td>3202</td>\n      <td>114</td>\n      <td>...</td>\n      <td>-0.0402</td>\n      <td>0.4025</td>\n      <td>0</td>\n      <td>0</td>\n      <td>1</td>\n      <td>0</td>\n      <td>0</td>\n      <td>0</td>\n      <td>0</td>\n      <td>NaN</td>\n    </tr>\n    <tr>\n      <th>4</th>\n      <td>4</td>\n      <td>1540</td>\n      <td>1560</td>\n      <td>618457</td>\n      <td>618502</td>\n      <td>521</td>\n      <td>72</td>\n      <td>67</td>\n      <td>48231</td>\n      <td>82</td>\n      <td>...</td>\n      <td>-0.2455</td>\n      <td>0.9998</td>\n      <td>0</td>\n      <td>0</td>\n      <td>0</td>\n      <td>0</td>\n      <td>0</td>\n      <td>0</td>\n      <td>1</td>\n      <td>NaN</td>\n    </tr>\n    <tr>\n      <th>...</th>\n      <td>...</td>\n      <td>...</td>\n      <td>...</td>\n      <td>...</td>\n      <td>...</td>\n      <td>...</td>\n      <td>...</td>\n      <td>...</td>\n      <td>...</td>\n      <td>...</td>\n      <td>...</td>\n      <td>...</td>\n      <td>...</td>\n      <td>...</td>\n      <td>...</td>\n      <td>...</td>\n      <td>...</td>\n      <td>...</td>\n      <td>...</td>\n      <td>...</td>\n      <td>...</td>\n    </tr>\n    <tr>\n      <th>21155</th>\n      <td>1936</td>\n      <td>249</td>\n      <td>277</td>\n      <td>325780</td>\n      <td>325796</td>\n      <td>273</td>\n      <td>54</td>\n      <td>22</td>\n      <td>35033</td>\n      <td>119</td>\n      <td>...</td>\n      <td>0.0026</td>\n      <td>0.7254</td>\n      <td>0</td>\n      <td>0</td>\n      <td>0</td>\n      <td>0</td>\n      <td>0</td>\n      <td>0</td>\n      <td>1</td>\n      <td>1936.0</td>\n    </tr>\n    <tr>\n      <th>21156</th>\n      <td>1937</td>\n      <td>144</td>\n      <td>175</td>\n      <td>340581</td>\n      <td>340598</td>\n      <td>287</td>\n      <td>44</td>\n      <td>24</td>\n      <td>34599</td>\n      <td>112</td>\n      <td>...</td>\n      <td>-0.0582</td>\n      <td>0.8173</td>\n      <td>0</td>\n      <td>0</td>\n      <td>0</td>\n      <td>0</td>\n      <td>0</td>\n      <td>0</td>\n      <td>1</td>\n      <td>1937.0</td>\n    </tr>\n    <tr>\n      <th>21157</th>\n      <td>1938</td>\n      <td>145</td>\n      <td>174</td>\n      <td>386779</td>\n      <td>386794</td>\n      <td>292</td>\n      <td>40</td>\n      <td>22</td>\n      <td>37572</td>\n      <td>120</td>\n      <td>...</td>\n      <td>0.0052</td>\n      <td>0.7079</td>\n      <td>0</td>\n      <td>0</td>\n      <td>0</td>\n      <td>0</td>\n      <td>0</td>\n      <td>0</td>\n      <td>1</td>\n      <td>1938.0</td>\n    </tr>\n    <tr>\n      <th>21158</th>\n      <td>1939</td>\n      <td>137</td>\n      <td>170</td>\n      <td>422497</td>\n      <td>422528</td>\n      <td>419</td>\n      <td>97</td>\n      <td>47</td>\n      <td>52715</td>\n      <td>117</td>\n      <td>...</td>\n      <td>-0.0171</td>\n      <td>0.9919</td>\n      <td>0</td>\n      <td>0</td>\n      <td>0</td>\n      <td>0</td>\n      <td>0</td>\n      <td>0</td>\n      <td>1</td>\n      <td>1939.0</td>\n    </tr>\n    <tr>\n      <th>21159</th>\n      <td>1940</td>\n      <td>1261</td>\n      <td>1281</td>\n      <td>87951</td>\n      <td>87967</td>\n      <td>103</td>\n      <td>26</td>\n      <td>22</td>\n      <td>11682</td>\n      <td>101</td>\n      <td>...</td>\n      <td>-0.1139</td>\n      <td>0.5296</td>\n      <td>0</td>\n      <td>0</td>\n      <td>0</td>\n      <td>0</td>\n      <td>0</td>\n      <td>0</td>\n      <td>1</td>\n      <td>1940.0</td>\n    </tr>\n  </tbody>\n</table>\n<p>21160 rows × 36 columns</p>\n</div>"
     },
     "execution_count": 9,
     "metadata": {},
     "output_type": "execute_result"
    }
   ]
  },
  {
   "cell_type": "code",
   "source": [
    "def inspect_null_values(data):\n",
    "  null_count = data.isna().sum()\n",
    "  null_percentage = data.isna().sum() / len(data)\n",
    "  null_percentage = null_percentage.apply(lambda x: f\"{x:.1%}\")\n",
    "  print(\"Duplicated Data: \", data.duplicated().sum())\n",
    "  result = pd.concat([null_count, null_percentage], axis=1)\n",
    "  result.columns = ['Null Count', 'Null Percentage']\n",
    "  return result"
   ],
   "metadata": {
    "id": "B5qcKq_4IrwI",
    "ExecuteTime": {
     "end_time": "2024-03-11T17:12:17.358716700Z",
     "start_time": "2024-03-11T17:12:17.315079100Z"
    }
   },
   "execution_count": 10,
   "outputs": []
  },
  {
   "cell_type": "code",
   "source": [
    "inspect_null_values(train)"
   ],
   "metadata": {
    "colab": {
     "base_uri": "https://localhost:8080/",
     "height": 0
    },
    "id": "BTLNNlAUJgUe",
    "outputId": "4ff4a468-c3d2-41e9-899a-b002c1703edd",
    "ExecuteTime": {
     "end_time": "2024-03-11T17:12:17.528061300Z",
     "start_time": "2024-03-11T17:12:17.324609400Z"
    }
   },
   "execution_count": 11,
   "outputs": [
    {
     "name": "stdout",
     "output_type": "stream",
     "text": [
      "Duplicated Data:  0\n"
     ]
    },
    {
     "data": {
      "text/plain": "                       Null Count Null Percentage\nid                              0            0.0%\nX_Minimum                       0            0.0%\nX_Maximum                       0            0.0%\nY_Minimum                       0            0.0%\nY_Maximum                       0            0.0%\nPixels_Areas                    0            0.0%\nX_Perimeter                     0            0.0%\nY_Perimeter                     0            0.0%\nSum_of_Luminosity               0            0.0%\nMinimum_of_Luminosity           0            0.0%\nMaximum_of_Luminosity           0            0.0%\nLength_of_Conveyer              0            0.0%\nTypeOfSteel_A300                0            0.0%\nTypeOfSteel_A400                0            0.0%\nSteel_Plate_Thickness           0            0.0%\nEdges_Index                     0            0.0%\nEmpty_Index                     0            0.0%\nSquare_Index                    0            0.0%\nOutside_X_Index                 0            0.0%\nEdges_X_Index                   0            0.0%\nEdges_Y_Index                   0            0.0%\nOutside_Global_Index            0            0.0%\nLogOfAreas                      0            0.0%\nLog_X_Index                     0            0.0%\nLog_Y_Index                     0            0.0%\nOrientation_Index               0            0.0%\nLuminosity_Index                0            0.0%\nSigmoidOfAreas                  0            0.0%\nPastry                          0            0.0%\nZ_Scratch                       0            0.0%\nK_Scatch                        0            0.0%\nStains                          0            0.0%\nDirtiness                       0            0.0%\nBumps                           0            0.0%\nOther_Faults                    0            0.0%\nUnnamed: 0                  19219           90.8%",
      "text/html": "<div>\n<style scoped>\n    .dataframe tbody tr th:only-of-type {\n        vertical-align: middle;\n    }\n\n    .dataframe tbody tr th {\n        vertical-align: top;\n    }\n\n    .dataframe thead th {\n        text-align: right;\n    }\n</style>\n<table border=\"1\" class=\"dataframe\">\n  <thead>\n    <tr style=\"text-align: right;\">\n      <th></th>\n      <th>Null Count</th>\n      <th>Null Percentage</th>\n    </tr>\n  </thead>\n  <tbody>\n    <tr>\n      <th>id</th>\n      <td>0</td>\n      <td>0.0%</td>\n    </tr>\n    <tr>\n      <th>X_Minimum</th>\n      <td>0</td>\n      <td>0.0%</td>\n    </tr>\n    <tr>\n      <th>X_Maximum</th>\n      <td>0</td>\n      <td>0.0%</td>\n    </tr>\n    <tr>\n      <th>Y_Minimum</th>\n      <td>0</td>\n      <td>0.0%</td>\n    </tr>\n    <tr>\n      <th>Y_Maximum</th>\n      <td>0</td>\n      <td>0.0%</td>\n    </tr>\n    <tr>\n      <th>Pixels_Areas</th>\n      <td>0</td>\n      <td>0.0%</td>\n    </tr>\n    <tr>\n      <th>X_Perimeter</th>\n      <td>0</td>\n      <td>0.0%</td>\n    </tr>\n    <tr>\n      <th>Y_Perimeter</th>\n      <td>0</td>\n      <td>0.0%</td>\n    </tr>\n    <tr>\n      <th>Sum_of_Luminosity</th>\n      <td>0</td>\n      <td>0.0%</td>\n    </tr>\n    <tr>\n      <th>Minimum_of_Luminosity</th>\n      <td>0</td>\n      <td>0.0%</td>\n    </tr>\n    <tr>\n      <th>Maximum_of_Luminosity</th>\n      <td>0</td>\n      <td>0.0%</td>\n    </tr>\n    <tr>\n      <th>Length_of_Conveyer</th>\n      <td>0</td>\n      <td>0.0%</td>\n    </tr>\n    <tr>\n      <th>TypeOfSteel_A300</th>\n      <td>0</td>\n      <td>0.0%</td>\n    </tr>\n    <tr>\n      <th>TypeOfSteel_A400</th>\n      <td>0</td>\n      <td>0.0%</td>\n    </tr>\n    <tr>\n      <th>Steel_Plate_Thickness</th>\n      <td>0</td>\n      <td>0.0%</td>\n    </tr>\n    <tr>\n      <th>Edges_Index</th>\n      <td>0</td>\n      <td>0.0%</td>\n    </tr>\n    <tr>\n      <th>Empty_Index</th>\n      <td>0</td>\n      <td>0.0%</td>\n    </tr>\n    <tr>\n      <th>Square_Index</th>\n      <td>0</td>\n      <td>0.0%</td>\n    </tr>\n    <tr>\n      <th>Outside_X_Index</th>\n      <td>0</td>\n      <td>0.0%</td>\n    </tr>\n    <tr>\n      <th>Edges_X_Index</th>\n      <td>0</td>\n      <td>0.0%</td>\n    </tr>\n    <tr>\n      <th>Edges_Y_Index</th>\n      <td>0</td>\n      <td>0.0%</td>\n    </tr>\n    <tr>\n      <th>Outside_Global_Index</th>\n      <td>0</td>\n      <td>0.0%</td>\n    </tr>\n    <tr>\n      <th>LogOfAreas</th>\n      <td>0</td>\n      <td>0.0%</td>\n    </tr>\n    <tr>\n      <th>Log_X_Index</th>\n      <td>0</td>\n      <td>0.0%</td>\n    </tr>\n    <tr>\n      <th>Log_Y_Index</th>\n      <td>0</td>\n      <td>0.0%</td>\n    </tr>\n    <tr>\n      <th>Orientation_Index</th>\n      <td>0</td>\n      <td>0.0%</td>\n    </tr>\n    <tr>\n      <th>Luminosity_Index</th>\n      <td>0</td>\n      <td>0.0%</td>\n    </tr>\n    <tr>\n      <th>SigmoidOfAreas</th>\n      <td>0</td>\n      <td>0.0%</td>\n    </tr>\n    <tr>\n      <th>Pastry</th>\n      <td>0</td>\n      <td>0.0%</td>\n    </tr>\n    <tr>\n      <th>Z_Scratch</th>\n      <td>0</td>\n      <td>0.0%</td>\n    </tr>\n    <tr>\n      <th>K_Scatch</th>\n      <td>0</td>\n      <td>0.0%</td>\n    </tr>\n    <tr>\n      <th>Stains</th>\n      <td>0</td>\n      <td>0.0%</td>\n    </tr>\n    <tr>\n      <th>Dirtiness</th>\n      <td>0</td>\n      <td>0.0%</td>\n    </tr>\n    <tr>\n      <th>Bumps</th>\n      <td>0</td>\n      <td>0.0%</td>\n    </tr>\n    <tr>\n      <th>Other_Faults</th>\n      <td>0</td>\n      <td>0.0%</td>\n    </tr>\n    <tr>\n      <th>Unnamed: 0</th>\n      <td>19219</td>\n      <td>90.8%</td>\n    </tr>\n  </tbody>\n</table>\n</div>"
     },
     "execution_count": 11,
     "metadata": {},
     "output_type": "execute_result"
    }
   ]
  },
  {
   "cell_type": "code",
   "source": [
    "inspect_null_values(test)"
   ],
   "metadata": {
    "colab": {
     "base_uri": "https://localhost:8080/",
     "height": 0
    },
    "id": "iM_cpiSNJiWS",
    "outputId": "065ae208-1664-4819-dd32-e9ae1a6f2449",
    "ExecuteTime": {
     "end_time": "2024-03-11T17:12:17.683941900Z",
     "start_time": "2024-03-11T17:12:17.406520800Z"
    }
   },
   "execution_count": 12,
   "outputs": [
    {
     "name": "stdout",
     "output_type": "stream",
     "text": [
      "Duplicated Data:  0\n"
     ]
    },
    {
     "data": {
      "text/plain": "                       Null Count Null Percentage\nid                              0            0.0%\nX_Minimum                       0            0.0%\nX_Maximum                       0            0.0%\nY_Minimum                       0            0.0%\nY_Maximum                       0            0.0%\nPixels_Areas                    0            0.0%\nX_Perimeter                     0            0.0%\nY_Perimeter                     0            0.0%\nSum_of_Luminosity               0            0.0%\nMinimum_of_Luminosity           0            0.0%\nMaximum_of_Luminosity           0            0.0%\nLength_of_Conveyer              0            0.0%\nTypeOfSteel_A300                0            0.0%\nTypeOfSteel_A400                0            0.0%\nSteel_Plate_Thickness           0            0.0%\nEdges_Index                     0            0.0%\nEmpty_Index                     0            0.0%\nSquare_Index                    0            0.0%\nOutside_X_Index                 0            0.0%\nEdges_X_Index                   0            0.0%\nEdges_Y_Index                   0            0.0%\nOutside_Global_Index            0            0.0%\nLogOfAreas                      0            0.0%\nLog_X_Index                     0            0.0%\nLog_Y_Index                     0            0.0%\nOrientation_Index               0            0.0%\nLuminosity_Index                0            0.0%\nSigmoidOfAreas                  0            0.0%",
      "text/html": "<div>\n<style scoped>\n    .dataframe tbody tr th:only-of-type {\n        vertical-align: middle;\n    }\n\n    .dataframe tbody tr th {\n        vertical-align: top;\n    }\n\n    .dataframe thead th {\n        text-align: right;\n    }\n</style>\n<table border=\"1\" class=\"dataframe\">\n  <thead>\n    <tr style=\"text-align: right;\">\n      <th></th>\n      <th>Null Count</th>\n      <th>Null Percentage</th>\n    </tr>\n  </thead>\n  <tbody>\n    <tr>\n      <th>id</th>\n      <td>0</td>\n      <td>0.0%</td>\n    </tr>\n    <tr>\n      <th>X_Minimum</th>\n      <td>0</td>\n      <td>0.0%</td>\n    </tr>\n    <tr>\n      <th>X_Maximum</th>\n      <td>0</td>\n      <td>0.0%</td>\n    </tr>\n    <tr>\n      <th>Y_Minimum</th>\n      <td>0</td>\n      <td>0.0%</td>\n    </tr>\n    <tr>\n      <th>Y_Maximum</th>\n      <td>0</td>\n      <td>0.0%</td>\n    </tr>\n    <tr>\n      <th>Pixels_Areas</th>\n      <td>0</td>\n      <td>0.0%</td>\n    </tr>\n    <tr>\n      <th>X_Perimeter</th>\n      <td>0</td>\n      <td>0.0%</td>\n    </tr>\n    <tr>\n      <th>Y_Perimeter</th>\n      <td>0</td>\n      <td>0.0%</td>\n    </tr>\n    <tr>\n      <th>Sum_of_Luminosity</th>\n      <td>0</td>\n      <td>0.0%</td>\n    </tr>\n    <tr>\n      <th>Minimum_of_Luminosity</th>\n      <td>0</td>\n      <td>0.0%</td>\n    </tr>\n    <tr>\n      <th>Maximum_of_Luminosity</th>\n      <td>0</td>\n      <td>0.0%</td>\n    </tr>\n    <tr>\n      <th>Length_of_Conveyer</th>\n      <td>0</td>\n      <td>0.0%</td>\n    </tr>\n    <tr>\n      <th>TypeOfSteel_A300</th>\n      <td>0</td>\n      <td>0.0%</td>\n    </tr>\n    <tr>\n      <th>TypeOfSteel_A400</th>\n      <td>0</td>\n      <td>0.0%</td>\n    </tr>\n    <tr>\n      <th>Steel_Plate_Thickness</th>\n      <td>0</td>\n      <td>0.0%</td>\n    </tr>\n    <tr>\n      <th>Edges_Index</th>\n      <td>0</td>\n      <td>0.0%</td>\n    </tr>\n    <tr>\n      <th>Empty_Index</th>\n      <td>0</td>\n      <td>0.0%</td>\n    </tr>\n    <tr>\n      <th>Square_Index</th>\n      <td>0</td>\n      <td>0.0%</td>\n    </tr>\n    <tr>\n      <th>Outside_X_Index</th>\n      <td>0</td>\n      <td>0.0%</td>\n    </tr>\n    <tr>\n      <th>Edges_X_Index</th>\n      <td>0</td>\n      <td>0.0%</td>\n    </tr>\n    <tr>\n      <th>Edges_Y_Index</th>\n      <td>0</td>\n      <td>0.0%</td>\n    </tr>\n    <tr>\n      <th>Outside_Global_Index</th>\n      <td>0</td>\n      <td>0.0%</td>\n    </tr>\n    <tr>\n      <th>LogOfAreas</th>\n      <td>0</td>\n      <td>0.0%</td>\n    </tr>\n    <tr>\n      <th>Log_X_Index</th>\n      <td>0</td>\n      <td>0.0%</td>\n    </tr>\n    <tr>\n      <th>Log_Y_Index</th>\n      <td>0</td>\n      <td>0.0%</td>\n    </tr>\n    <tr>\n      <th>Orientation_Index</th>\n      <td>0</td>\n      <td>0.0%</td>\n    </tr>\n    <tr>\n      <th>Luminosity_Index</th>\n      <td>0</td>\n      <td>0.0%</td>\n    </tr>\n    <tr>\n      <th>SigmoidOfAreas</th>\n      <td>0</td>\n      <td>0.0%</td>\n    </tr>\n  </tbody>\n</table>\n</div>"
     },
     "execution_count": 12,
     "metadata": {},
     "output_type": "execute_result"
    }
   ]
  },
  {
   "cell_type": "markdown",
   "source": [
    "**Analysing Columns Skewness And Kurtosis**"
   ],
   "metadata": {
    "id": "9SDGkLE6Pxel"
   }
  },
  {
   "cell_type": "code",
   "source": [
    "for column in train.columns:\n",
    "    if 'id' in column:\n",
    "      continue\n",
    "    print(\"-\" * 45)\n",
    "    print(f\"Skewness of {column}: {train[column].skew()}\")\n",
    "    print(f\"Kurtosis of {column}: {train[column].kurtosis()}\")\n",
    "    print(\"-\" * 45)\n",
    "\n",
    "    # Use sns.histplot on the entire DataFrame\n",
    "    sns.histplot(train[column], bins=30, alpha=0.7, color='b', kde=True)\n",
    "\n",
    "    plt.xlabel(f'{column}')\n",
    "    plt.ylabel('Frequency')\n",
    "    plt.title(f'Histogram of {column}')\n",
    "    plt.show()\n",
    "    clear_output(wait=False)"
   ],
   "metadata": {
    "id": "4hXWJz2UJlTO",
    "colab": {
     "base_uri": "https://localhost:8080/",
     "height": 0
    },
    "outputId": "aa6d7bfc-75d8-4254-c1a6-898a6df8fdd8"
   },
   "execution_count": 13,
   "outputs": []
  },
  {
   "cell_type": "markdown",
   "source": [
    "## Feature Engineering"
   ],
   "metadata": {
    "id": "ZxuqUGqQDPb3"
   }
  },
  {
   "cell_type": "code",
   "source": [
    "train_corr = train.corr()\n",
    "train_corr.style.background_gradient(cmap='cividis')"
   ],
   "metadata": {
    "id": "R7p8beGDDQ-1",
    "colab": {
     "base_uri": "https://localhost:8080/",
     "height": 0
    },
    "outputId": "c2302c9c-a3cf-435d-cf80-5d9e248d28a2",
    "ExecuteTime": {
     "end_time": "2024-03-11T17:12:33.970139200Z",
     "start_time": "2024-03-11T17:12:33.716319200Z"
    }
   },
   "execution_count": 14,
   "outputs": [
    {
     "data": {
      "text/plain": "<pandas.io.formats.style.Styler at 0x23be1916750>",
      "text/html": "<style type=\"text/css\">\n#T_f71d8_row0_col0, #T_f71d8_row0_col35, #T_f71d8_row1_col1, #T_f71d8_row2_col2, #T_f71d8_row3_col3, #T_f71d8_row4_col4, #T_f71d8_row5_col5, #T_f71d8_row6_col6, #T_f71d8_row7_col7, #T_f71d8_row8_col8, #T_f71d8_row9_col9, #T_f71d8_row10_col10, #T_f71d8_row11_col11, #T_f71d8_row12_col12, #T_f71d8_row13_col13, #T_f71d8_row14_col14, #T_f71d8_row15_col15, #T_f71d8_row16_col16, #T_f71d8_row17_col17, #T_f71d8_row18_col18, #T_f71d8_row19_col19, #T_f71d8_row20_col20, #T_f71d8_row21_col21, #T_f71d8_row22_col22, #T_f71d8_row23_col23, #T_f71d8_row24_col24, #T_f71d8_row25_col25, #T_f71d8_row26_col26, #T_f71d8_row27_col27, #T_f71d8_row28_col28, #T_f71d8_row29_col29, #T_f71d8_row30_col30, #T_f71d8_row31_col31, #T_f71d8_row32_col32, #T_f71d8_row33_col33, #T_f71d8_row34_col34, #T_f71d8_row35_col0, #T_f71d8_row35_col35 {\n  background-color: #fee838;\n  color: #000000;\n}\n#T_f71d8_row0_col1, #T_f71d8_row3_col8, #T_f71d8_row4_col8, #T_f71d8_row11_col34, #T_f71d8_row26_col35, #T_f71d8_row29_col27 {\n  background-color: #5f636f;\n  color: #f1f1f1;\n}\n#T_f71d8_row0_col2, #T_f71d8_row11_col17, #T_f71d8_row12_col34, #T_f71d8_row13_col28, #T_f71d8_row17_col2, #T_f71d8_row29_col30, #T_f71d8_row31_col2, #T_f71d8_row31_col6, #T_f71d8_row31_col8, #T_f71d8_row32_col19 {\n  background-color: #565c6d;\n  color: #f1f1f1;\n}\n#T_f71d8_row0_col3, #T_f71d8_row6_col1, #T_f71d8_row8_col1, #T_f71d8_row8_col9, #T_f71d8_row22_col4, #T_f71d8_row22_col26, #T_f71d8_row30_col9, #T_f71d8_row35_col4 {\n  background-color: #002e6c;\n  color: #f1f1f1;\n}\n#T_f71d8_row0_col4, #T_f71d8_row6_col9, #T_f71d8_row8_col14, #T_f71d8_row11_col3, #T_f71d8_row27_col19, #T_f71d8_row30_col3, #T_f71d8_row30_col25 {\n  background-color: #002f6d;\n  color: #f1f1f1;\n}\n#T_f71d8_row0_col5, #T_f71d8_row3_col5, #T_f71d8_row4_col5, #T_f71d8_row9_col33, #T_f71d8_row17_col15, #T_f71d8_row26_col6, #T_f71d8_row28_col2, #T_f71d8_row29_col16, #T_f71d8_row32_col27, #T_f71d8_row33_col35 {\n  background-color: #62656f;\n  color: #f1f1f1;\n}\n#T_f71d8_row0_col6, #T_f71d8_row3_col6, #T_f71d8_row4_col6, #T_f71d8_row9_col21, #T_f71d8_row10_col20, #T_f71d8_row10_col27, #T_f71d8_row12_col15, #T_f71d8_row14_col28, #T_f71d8_row17_col30, #T_f71d8_row19_col11, #T_f71d8_row28_col22, #T_f71d8_row29_col18, #T_f71d8_row31_col18, #T_f71d8_row32_col1, #T_f71d8_row32_col21, #T_f71d8_row34_col11 {\n  background-color: #61656f;\n  color: #f1f1f1;\n}\n#T_f71d8_row0_col7, #T_f71d8_row3_col7, #T_f71d8_row4_col7, #T_f71d8_row11_col18, #T_f71d8_row17_col7, #T_f71d8_row22_col28, #T_f71d8_row23_col19, #T_f71d8_row31_col16, #T_f71d8_row31_col35, #T_f71d8_row32_col7 {\n  background-color: #49536c;\n  color: #f1f1f1;\n}\n#T_f71d8_row0_col8, #T_f71d8_row1_col14, #T_f71d8_row14_col19, #T_f71d8_row17_col1, #T_f71d8_row17_col18, #T_f71d8_row19_col2, #T_f71d8_row26_col5, #T_f71d8_row26_col16, #T_f71d8_row31_col1, #T_f71d8_row33_col13, #T_f71d8_row35_col23 {\n  background-color: #60646f;\n  color: #f1f1f1;\n}\n#T_f71d8_row0_col9, #T_f71d8_row13_col16, #T_f71d8_row14_col2, #T_f71d8_row17_col13, #T_f71d8_row26_col30, #T_f71d8_row28_col11, #T_f71d8_row32_col23 {\n  background-color: #696b71;\n  color: #f1f1f1;\n}\n#T_f71d8_row0_col10, #T_f71d8_row2_col6, #T_f71d8_row2_col22, #T_f71d8_row5_col21, #T_f71d8_row5_col31, #T_f71d8_row5_col35, #T_f71d8_row8_col26, #T_f71d8_row8_col31, #T_f71d8_row15_col22, #T_f71d8_row16_col15, #T_f71d8_row24_col32 {\n  background-color: #2b406d;\n  color: #f1f1f1;\n}\n#T_f71d8_row0_col11, #T_f71d8_row0_col33, #T_f71d8_row1_col17, #T_f71d8_row14_col22, #T_f71d8_row15_col14, #T_f71d8_row16_col34, #T_f71d8_row17_col29, #T_f71d8_row20_col31, #T_f71d8_row26_col1, #T_f71d8_row26_col24, #T_f71d8_row33_col18, #T_f71d8_row34_col22, #T_f71d8_row35_col17 {\n  background-color: #4f576c;\n  color: #f1f1f1;\n}\n#T_f71d8_row0_col12, #T_f71d8_row5_col16, #T_f71d8_row14_col25, #T_f71d8_row14_col35, #T_f71d8_row20_col11, #T_f71d8_row25_col28, #T_f71d8_row35_col1 {\n  background-color: #7d7c78;\n  color: #f1f1f1;\n}\n#T_f71d8_row0_col13, #T_f71d8_row25_col24, #T_f71d8_row33_col19 {\n  background-color: #7c7b78;\n  color: #f1f1f1;\n}\n#T_f71d8_row0_col14, #T_f71d8_row17_col16, #T_f71d8_row17_col21, #T_f71d8_row31_col7 {\n  background-color: #3f4c6c;\n  color: #f1f1f1;\n}\n#T_f71d8_row0_col15, #T_f71d8_row3_col16, #T_f71d8_row4_col16, #T_f71d8_row6_col17, #T_f71d8_row7_col28, #T_f71d8_row14_col27, #T_f71d8_row14_col33, #T_f71d8_row25_col22, #T_f71d8_row27_col28, #T_f71d8_row27_col29, #T_f71d8_row28_col14, #T_f71d8_row32_col35 {\n  background-color: #4e566c;\n  color: #f1f1f1;\n}\n#T_f71d8_row0_col16, #T_f71d8_row3_col28, #T_f71d8_row4_col25, #T_f71d8_row4_col28, #T_f71d8_row9_col28, #T_f71d8_row10_col31, #T_f71d8_row12_col28, #T_f71d8_row25_col33, #T_f71d8_row31_col26 {\n  background-color: #535a6d;\n  color: #f1f1f1;\n}\n#T_f71d8_row0_col17, #T_f71d8_row7_col10, #T_f71d8_row7_col29, #T_f71d8_row11_col22, #T_f71d8_row21_col8, #T_f71d8_row21_col35, #T_f71d8_row32_col29 {\n  background-color: #47516c;\n  color: #f1f1f1;\n}\n#T_f71d8_row0_col18, #T_f71d8_row2_col33, #T_f71d8_row11_col33, #T_f71d8_row13_col7, #T_f71d8_row21_col11, #T_f71d8_row25_col11, #T_f71d8_row28_col24 {\n  background-color: #6c6d72;\n  color: #f1f1f1;\n}\n#T_f71d8_row0_col19, #T_f71d8_row0_col24, #T_f71d8_row0_col30, #T_f71d8_row1_col13, #T_f71d8_row2_col15, #T_f71d8_row2_col28, #T_f71d8_row2_col34, #T_f71d8_row3_col9, #T_f71d8_row4_col9, #T_f71d8_row10_col19, #T_f71d8_row10_col24, #T_f71d8_row12_col17, #T_f71d8_row15_col25, #T_f71d8_row17_col8, #T_f71d8_row19_col31, #T_f71d8_row20_col34, #T_f71d8_row29_col13, #T_f71d8_row29_col25, #T_f71d8_row31_col15, #T_f71d8_row33_col17 {\n  background-color: #656870;\n  color: #f1f1f1;\n}\n#T_f71d8_row0_col20, #T_f71d8_row1_col19, #T_f71d8_row11_col19, #T_f71d8_row12_col9, #T_f71d8_row12_col33, #T_f71d8_row14_col11 {\n  background-color: #757575;\n  color: #f1f1f1;\n}\n#T_f71d8_row0_col21, #T_f71d8_row3_col25, #T_f71d8_row9_col11, #T_f71d8_row9_col17, #T_f71d8_row13_col20, #T_f71d8_row18_col19, #T_f71d8_row19_col30, #T_f71d8_row19_col34, #T_f71d8_row30_col12, #T_f71d8_row32_col16, #T_f71d8_row34_col18, #T_f71d8_row34_col24 {\n  background-color: #52596d;\n  color: #f1f1f1;\n}\n#T_f71d8_row0_col22, #T_f71d8_row1_col34, #T_f71d8_row2_col13, #T_f71d8_row3_col30, #T_f71d8_row4_col30, #T_f71d8_row17_col6, #T_f71d8_row19_col33, #T_f71d8_row34_col2, #T_f71d8_row34_col25 {\n  background-color: #686a71;\n  color: #f1f1f1;\n}\n#T_f71d8_row0_col23, #T_f71d8_row1_col21, #T_f71d8_row10_col8, #T_f71d8_row16_col7, #T_f71d8_row19_col15, #T_f71d8_row30_col16, #T_f71d8_row32_col9, #T_f71d8_row34_col1 {\n  background-color: #727374;\n  color: #f1f1f1;\n}\n#T_f71d8_row0_col25, #T_f71d8_row19_col23, #T_f71d8_row24_col28, #T_f71d8_row25_col15, #T_f71d8_row25_col29, #T_f71d8_row28_col18 {\n  background-color: #5b606e;\n  color: #f1f1f1;\n}\n#T_f71d8_row0_col26, #T_f71d8_row1_col23, #T_f71d8_row1_col24, #T_f71d8_row5_col25, #T_f71d8_row6_col26, #T_f71d8_row7_col31, #T_f71d8_row12_col30, #T_f71d8_row13_col2, #T_f71d8_row19_col8, #T_f71d8_row19_col10, #T_f71d8_row24_col10, #T_f71d8_row25_col23, #T_f71d8_row29_col11, #T_f71d8_row33_col7 {\n  background-color: #2e416d;\n  color: #f1f1f1;\n}\n#T_f71d8_row0_col27, #T_f71d8_row17_col11, #T_f71d8_row26_col8, #T_f71d8_row28_col23, #T_f71d8_row31_col23, #T_f71d8_row33_col25 {\n  background-color: #5e636f;\n  color: #f1f1f1;\n}\n#T_f71d8_row0_col28, #T_f71d8_row3_col2, #T_f71d8_row3_col35, #T_f71d8_row4_col35, #T_f71d8_row20_col17, #T_f71d8_row28_col5, #T_f71d8_row28_col6, #T_f71d8_row28_col30, #T_f71d8_row31_col17, #T_f71d8_row34_col16, #T_f71d8_row35_col18 {\n  background-color: #555b6d;\n  color: #f1f1f1;\n}\n#T_f71d8_row0_col29, #T_f71d8_row3_col17, #T_f71d8_row3_col21, #T_f71d8_row3_col29, #T_f71d8_row4_col17, #T_f71d8_row4_col21, #T_f71d8_row4_col29, #T_f71d8_row5_col10, #T_f71d8_row10_col34, #T_f71d8_row11_col13, #T_f71d8_row11_col24, #T_f71d8_row13_col19, #T_f71d8_row13_col35, #T_f71d8_row21_col6 {\n  background-color: #4b546c;\n  color: #f1f1f1;\n}\n#T_f71d8_row0_col31, #T_f71d8_row16_col25, #T_f71d8_row16_col28, #T_f71d8_row18_col28, #T_f71d8_row25_col5, #T_f71d8_row30_col28, #T_f71d8_row35_col24 {\n  background-color: #3d4a6c;\n  color: #f1f1f1;\n}\n#T_f71d8_row0_col32, #T_f71d8_row2_col26, #T_f71d8_row9_col23, #T_f71d8_row22_col19 {\n  background-color: #163770;\n  color: #f1f1f1;\n}\n#T_f71d8_row0_col34, #T_f71d8_row12_col23, #T_f71d8_row17_col31, #T_f71d8_row26_col27, #T_f71d8_row32_col28, #T_f71d8_row34_col27 {\n  background-color: #4d556c;\n  color: #f1f1f1;\n}\n#T_f71d8_row1_col0, #T_f71d8_row6_col3, #T_f71d8_row7_col4, #T_f71d8_row8_col3, #T_f71d8_row18_col20, #T_f71d8_row19_col7, #T_f71d8_row28_col4, #T_f71d8_row30_col32 {\n  background-color: #002c66;\n  color: #f1f1f1;\n}\n#T_f71d8_row1_col2, #T_f71d8_row2_col1 {\n  background-color: #fee636;\n  color: #000000;\n}\n#T_f71d8_row1_col3, #T_f71d8_row1_col4, #T_f71d8_row18_col3, #T_f71d8_row21_col26, #T_f71d8_row22_col14, #T_f71d8_row23_col3, #T_f71d8_row27_col2, #T_f71d8_row29_col32 {\n  background-color: #003170;\n  color: #f1f1f1;\n}\n#T_f71d8_row1_col5, #T_f71d8_row1_col8, #T_f71d8_row7_col32, #T_f71d8_row12_col4, #T_f71d8_row13_col14, #T_f71d8_row13_col33, #T_f71d8_row16_col32, #T_f71d8_row25_col17, #T_f71d8_row28_col10, #T_f71d8_row30_col11 {\n  background-color: #123570;\n  color: #f1f1f1;\n}\n#T_f71d8_row1_col6, #T_f71d8_row1_col22, #T_f71d8_row2_col7, #T_f71d8_row3_col32, #T_f71d8_row4_col32, #T_f71d8_row5_col20, #T_f71d8_row16_col11, #T_f71d8_row27_col11, #T_f71d8_row33_col3, #T_f71d8_row33_col10 {\n  background-color: #18376f;\n  color: #f1f1f1;\n}\n#T_f71d8_row1_col7, #T_f71d8_row2_col3, #T_f71d8_row2_col4, #T_f71d8_row14_col10, #T_f71d8_row18_col4, #T_f71d8_row23_col4, #T_f71d8_row24_col2, #T_f71d8_row25_col26, #T_f71d8_row35_col32 {\n  background-color: #003171;\n  color: #f1f1f1;\n}\n#T_f71d8_row1_col9, #T_f71d8_row29_col12 {\n  background-color: #958f77;\n  color: #f1f1f1;\n}\n#T_f71d8_row1_col10, #T_f71d8_row5_col32, #T_f71d8_row6_col14, #T_f71d8_row9_col18, #T_f71d8_row11_col4, #T_f71d8_row11_col32, #T_f71d8_row27_col26, #T_f71d8_row30_col4 {\n  background-color: #00306f;\n  color: #f1f1f1;\n}\n#T_f71d8_row1_col11, #T_f71d8_row1_col25, #T_f71d8_row12_col19, #T_f71d8_row25_col1, #T_f71d8_row28_col25 {\n  background-color: #807f78;\n  color: #f1f1f1;\n}\n#T_f71d8_row1_col12, #T_f71d8_row10_col13, #T_f71d8_row18_col7, #T_f71d8_row23_col16, #T_f71d8_row26_col13 {\n  background-color: #969077;\n  color: #f1f1f1;\n}\n#T_f71d8_row1_col15, #T_f71d8_row11_col14, #T_f71d8_row11_col35, #T_f71d8_row14_col13, #T_f71d8_row17_col33, #T_f71d8_row19_col1, #T_f71d8_row25_col14, #T_f71d8_row28_col1 {\n  background-color: #6b6d72;\n  color: #f1f1f1;\n}\n#T_f71d8_row1_col16, #T_f71d8_row2_col18, #T_f71d8_row2_col29, #T_f71d8_row3_col31, #T_f71d8_row11_col7, #T_f71d8_row12_col24, #T_f71d8_row14_col7, #T_f71d8_row15_col16, #T_f71d8_row19_col5, #T_f71d8_row20_col32, #T_f71d8_row25_col16, #T_f71d8_row30_col26, #T_f71d8_row32_col10 {\n  background-color: #34456c;\n  color: #f1f1f1;\n}\n#T_f71d8_row1_col18, #T_f71d8_row2_col30, #T_f71d8_row7_col14, #T_f71d8_row10_col32, #T_f71d8_row11_col31, #T_f71d8_row12_col7, #T_f71d8_row18_col34, #T_f71d8_row19_col22, #T_f71d8_row22_col35, #T_f71d8_row25_col19, #T_f71d8_row27_col14, #T_f71d8_row27_col20, #T_f71d8_row28_col17, #T_f71d8_row28_col34 {\n  background-color: #213b6e;\n  color: #f1f1f1;\n}\n#T_f71d8_row1_col20, #T_f71d8_row9_col20, #T_f71d8_row27_col6, #T_f71d8_row30_col27 {\n  background-color: #afa471;\n  color: #f1f1f1;\n}\n#T_f71d8_row1_col26, #T_f71d8_row6_col20, #T_f71d8_row20_col24, #T_f71d8_row22_col11, #T_f71d8_row24_col33, #T_f71d8_row33_col4 {\n  background-color: #1a386f;\n  color: #f1f1f1;\n}\n#T_f71d8_row1_col27, #T_f71d8_row8_col20, #T_f71d8_row14_col32, #T_f71d8_row15_col7, #T_f71d8_row25_col31, #T_f71d8_row27_col33, #T_f71d8_row33_col26 {\n  background-color: #1e3a6f;\n  color: #f1f1f1;\n}\n#T_f71d8_row1_col28, #T_f71d8_row10_col15, #T_f71d8_row19_col13, #T_f71d8_row32_col22 {\n  background-color: #676a71;\n  color: #f1f1f1;\n}\n#T_f71d8_row1_col29, #T_f71d8_row7_col19, #T_f71d8_row7_col34, #T_f71d8_row8_col19, #T_f71d8_row11_col27, #T_f71d8_row12_col6, #T_f71d8_row16_col20, #T_f71d8_row17_col24, #T_f71d8_row17_col25, #T_f71d8_row22_col25, #T_f71d8_row30_col29, #T_f71d8_row32_col34, #T_f71d8_row33_col28, #T_f71d8_row34_col26 {\n  background-color: #38476c;\n  color: #f1f1f1;\n}\n#T_f71d8_row1_col30, #T_f71d8_row23_col11, #T_f71d8_row29_col10, #T_f71d8_row30_col33 {\n  background-color: #0c3470;\n  color: #f1f1f1;\n}\n#T_f71d8_row1_col31, #T_f71d8_row10_col25, #T_f71d8_row10_col28, #T_f71d8_row11_col6, #T_f71d8_row13_col21, #T_f71d8_row21_col5, #T_f71d8_row29_col17, #T_f71d8_row31_col25, #T_f71d8_row31_col29, #T_f71d8_row32_col11, #T_f71d8_row34_col5 {\n  background-color: #46516c;\n  color: #f1f1f1;\n}\n#T_f71d8_row1_col32, #T_f71d8_row5_col26, #T_f71d8_row6_col11, #T_f71d8_row6_col31, #T_f71d8_row6_col34, #T_f71d8_row7_col26, #T_f71d8_row8_col11, #T_f71d8_row14_col31, #T_f71d8_row24_col11, #T_f71d8_row24_col14, #T_f71d8_row30_col31, #T_f71d8_row34_col29 {\n  background-color: #2a3f6d;\n  color: #f1f1f1;\n}\n#T_f71d8_row1_col33, #T_f71d8_row4_col18, #T_f71d8_row9_col34, #T_f71d8_row20_col33, #T_f71d8_row35_col14 {\n  background-color: #6f7073;\n  color: #f1f1f1;\n}\n#T_f71d8_row1_col35, #T_f71d8_row7_col16, #T_f71d8_row12_col1, #T_f71d8_row21_col24 {\n  background-color: #787877;\n  color: #f1f1f1;\n}\n#T_f71d8_row2_col0, #T_f71d8_row5_col3, #T_f71d8_row6_col4, #T_f71d8_row8_col2, #T_f71d8_row8_col4, #T_f71d8_row9_col30, #T_f71d8_row18_col32, #T_f71d8_row20_col3, #T_f71d8_row24_col9, #T_f71d8_row27_col31, #T_f71d8_row30_col35 {\n  background-color: #002d68;\n  color: #f1f1f1;\n}\n#T_f71d8_row2_col5, #T_f71d8_row5_col11, #T_f71d8_row8_col34, #T_f71d8_row18_col31, #T_f71d8_row19_col6, #T_f71d8_row26_col11, #T_f71d8_row26_col32, #T_f71d8_row29_col34, #T_f71d8_row32_col17 {\n  background-color: #273e6e;\n  color: #f1f1f1;\n}\n#T_f71d8_row2_col8, #T_f71d8_row3_col26, #T_f71d8_row4_col10, #T_f71d8_row4_col26, #T_f71d8_row5_col34, #T_f71d8_row12_col27, #T_f71d8_row25_col30, #T_f71d8_row26_col14 {\n  background-color: #263d6e;\n  color: #f1f1f1;\n}\n#T_f71d8_row2_col9, #T_f71d8_row13_col5, #T_f71d8_row24_col16, #T_f71d8_row27_col7 {\n  background-color: #8c8878;\n  color: #f1f1f1;\n}\n#T_f71d8_row2_col10, #T_f71d8_row6_col15, #T_f71d8_row6_col32, #T_f71d8_row8_col15, #T_f71d8_row8_col32, #T_f71d8_row21_col10, #T_f71d8_row22_col20, #T_f71d8_row25_col10, #T_f71d8_row28_col32, #T_f71d8_row30_col21 {\n  background-color: #003070;\n  color: #f1f1f1;\n}\n#T_f71d8_row2_col11, #T_f71d8_row8_col16, #T_f71d8_row10_col23, #T_f71d8_row17_col20, #T_f71d8_row25_col9, #T_f71d8_row28_col13, #T_f71d8_row32_col20 {\n  background-color: #7e7c78;\n  color: #f1f1f1;\n}\n#T_f71d8_row2_col12 {\n  background-color: #928d78;\n  color: #f1f1f1;\n}\n#T_f71d8_row2_col14, #T_f71d8_row3_col1, #T_f71d8_row9_col31, #T_f71d8_row12_col14, #T_f71d8_row12_col35, #T_f71d8_row13_col26, #T_f71d8_row15_col11, #T_f71d8_row26_col31, #T_f71d8_row32_col30 {\n  background-color: #5d616e;\n  color: #f1f1f1;\n}\n#T_f71d8_row2_col16, #T_f71d8_row5_col19, #T_f71d8_row10_col2, #T_f71d8_row14_col30, #T_f71d8_row24_col20, #T_f71d8_row35_col7, #T_f71d8_row35_col8 {\n  background-color: #3a486c;\n  color: #f1f1f1;\n}\n#T_f71d8_row2_col17, #T_f71d8_row8_col10, #T_f71d8_row8_col17, #T_f71d8_row14_col29, #T_f71d8_row24_col29, #T_f71d8_row27_col25, #T_f71d8_row30_col10, #T_f71d8_row31_col28 {\n  background-color: #4c556c;\n  color: #f1f1f1;\n}\n#T_f71d8_row2_col19, #T_f71d8_row3_col20, #T_f71d8_row4_col20, #T_f71d8_row11_col25, #T_f71d8_row15_col1, #T_f71d8_row20_col28, #T_f71d8_row28_col21, #T_f71d8_row32_col12, #T_f71d8_row35_col2 {\n  background-color: #737475;\n  color: #f1f1f1;\n}\n#T_f71d8_row2_col20, #T_f71d8_row24_col13 {\n  background-color: #a59c74;\n  color: #f1f1f1;\n}\n#T_f71d8_row2_col21, #T_f71d8_row3_col19, #T_f71d8_row4_col19, #T_f71d8_row10_col22, #T_f71d8_row11_col28, #T_f71d8_row12_col2, #T_f71d8_row15_col33, #T_f71d8_row20_col14, #T_f71d8_row21_col2, #T_f71d8_row33_col11 {\n  background-color: #6d6f72;\n  color: #f1f1f1;\n}\n#T_f71d8_row2_col23, #T_f71d8_row15_col18, #T_f71d8_row16_col1, #T_f71d8_row21_col23, #T_f71d8_row29_col14, #T_f71d8_row32_col33, #T_f71d8_row33_col16 {\n  background-color: #3c4a6c;\n  color: #f1f1f1;\n}\n#T_f71d8_row2_col24, #T_f71d8_row7_col11, #T_f71d8_row13_col15, #T_f71d8_row17_col28, #T_f71d8_row21_col18, #T_f71d8_row21_col30, #T_f71d8_row21_col32, #T_f71d8_row23_col35, #T_f71d8_row32_col26 {\n  background-color: #39486c;\n  color: #f1f1f1;\n}\n#T_f71d8_row2_col25, #T_f71d8_row29_col20 {\n  background-color: #7a7a78;\n  color: #f1f1f1;\n}\n#T_f71d8_row2_col27, #T_f71d8_row7_col9, #T_f71d8_row11_col29, #T_f71d8_row15_col24, #T_f71d8_row16_col17, #T_f71d8_row28_col33, #T_f71d8_row31_col14, #T_f71d8_row34_col10, #T_f71d8_row35_col30, #T_f71d8_row35_col31 {\n  background-color: #2d416d;\n  color: #f1f1f1;\n}\n#T_f71d8_row2_col31, #T_f71d8_row8_col28, #T_f71d8_row10_col1, #T_f71d8_row11_col5, #T_f71d8_row16_col10, #T_f71d8_row22_col29, #T_f71d8_row29_col1, #T_f71d8_row31_col22, #T_f71d8_row33_col24, #T_f71d8_row34_col8, #T_f71d8_row35_col22, #T_f71d8_row35_col27 {\n  background-color: #45506c;\n  color: #f1f1f1;\n}\n#T_f71d8_row2_col32, #T_f71d8_row7_col1, #T_f71d8_row16_col21, #T_f71d8_row25_col18 {\n  background-color: #293f6e;\n  color: #f1f1f1;\n}\n#T_f71d8_row2_col35, #T_f71d8_row3_col23, #T_f71d8_row4_col23, #T_f71d8_row21_col9, #T_f71d8_row21_col13, #T_f71d8_row25_col13, #T_f71d8_row34_col13, #T_f71d8_row35_col13 {\n  background-color: #767676;\n  color: #f1f1f1;\n}\n#T_f71d8_row3_col0, #T_f71d8_row14_col0, #T_f71d8_row19_col32, #T_f71d8_row23_col15, #T_f71d8_row25_col4, #T_f71d8_row31_col3, #T_f71d8_row31_col4 {\n  background-color: #002758;\n  color: #f1f1f1;\n}\n#T_f71d8_row3_col4, #T_f71d8_row4_col3 {\n  background-color: #fbe138;\n  color: #000000;\n}\n#T_f71d8_row3_col10, #T_f71d8_row8_col35, #T_f71d8_row13_col29, #T_f71d8_row15_col27, #T_f71d8_row22_col34, #T_f71d8_row23_col34, #T_f71d8_row33_col31 {\n  background-color: #243c6e;\n  color: #f1f1f1;\n}\n#T_f71d8_row3_col11, #T_f71d8_row4_col11, #T_f71d8_row7_col25, #T_f71d8_row10_col17, #T_f71d8_row11_col23, #T_f71d8_row15_col28, #T_f71d8_row21_col27, #T_f71d8_row30_col19 {\n  background-color: #51586d;\n  color: #f1f1f1;\n}\n#T_f71d8_row3_col12, #T_f71d8_row4_col12, #T_f71d8_row16_col30, #T_f71d8_row18_col16 {\n  background-color: #817f78;\n  color: #f1f1f1;\n}\n#T_f71d8_row3_col13, #T_f71d8_row4_col13, #T_f71d8_row10_col6, #T_f71d8_row10_col18, #T_f71d8_row21_col28 {\n  background-color: #777776;\n  color: #f1f1f1;\n}\n#T_f71d8_row3_col14, #T_f71d8_row4_col14, #T_f71d8_row6_col19, #T_f71d8_row10_col11, #T_f71d8_row15_col5, #T_f71d8_row15_col8, #T_f71d8_row15_col32, #T_f71d8_row16_col31, #T_f71d8_row21_col16, #T_f71d8_row23_col17, #T_f71d8_row34_col28 {\n  background-color: #2f426d;\n  color: #f1f1f1;\n}\n#T_f71d8_row3_col15, #T_f71d8_row4_col2, #T_f71d8_row4_col15, #T_f71d8_row14_col23, #T_f71d8_row21_col22, #T_f71d8_row22_col12, #T_f71d8_row25_col27, #T_f71d8_row26_col34, #T_f71d8_row28_col8 {\n  background-color: #545a6d;\n  color: #f1f1f1;\n}\n#T_f71d8_row3_col18, #T_f71d8_row12_col29, #T_f71d8_row14_col21, #T_f71d8_row14_col34, #T_f71d8_row15_col13, #T_f71d8_row26_col15, #T_f71d8_row29_col9, #T_f71d8_row32_col25, #T_f71d8_row35_col15 {\n  background-color: #707173;\n  color: #f1f1f1;\n}\n#T_f71d8_row3_col22, #T_f71d8_row4_col22, #T_f71d8_row11_col9, #T_f71d8_row34_col19 {\n  background-color: #6a6c71;\n  color: #f1f1f1;\n}\n#T_f71d8_row3_col24, #T_f71d8_row4_col24, #T_f71d8_row10_col16, #T_f71d8_row12_col25, #T_f71d8_row29_col22 {\n  background-color: #636670;\n  color: #f1f1f1;\n}\n#T_f71d8_row3_col27, #T_f71d8_row4_col1, #T_f71d8_row4_col27, #T_f71d8_row5_col12, #T_f71d8_row11_col15, #T_f71d8_row13_col9, #T_f71d8_row14_col15, #T_f71d8_row15_col17, #T_f71d8_row15_col26, #T_f71d8_row16_col9, #T_f71d8_row17_col35, #T_f71d8_row31_col30, #T_f71d8_row32_col5, #T_f71d8_row32_col6, #T_f71d8_row34_col15, #T_f71d8_row34_col21, #T_f71d8_row34_col23, #T_f71d8_row35_col33 {\n  background-color: #5c616e;\n  color: #f1f1f1;\n}\n#T_f71d8_row3_col33, #T_f71d8_row4_col33, #T_f71d8_row9_col14, #T_f71d8_row15_col21, #T_f71d8_row20_col29, #T_f71d8_row24_col12, #T_f71d8_row26_col22, #T_f71d8_row28_col19, #T_f71d8_row29_col5, #T_f71d8_row29_col8, #T_f71d8_row32_col2 {\n  background-color: #575d6d;\n  color: #f1f1f1;\n}\n#T_f71d8_row3_col34, #T_f71d8_row4_col34, #T_f71d8_row7_col21, #T_f71d8_row26_col7, #T_f71d8_row26_col25, #T_f71d8_row29_col28, #T_f71d8_row31_col10, #T_f71d8_row33_col22, #T_f71d8_row34_col6, #T_f71d8_row35_col6 {\n  background-color: #48526c;\n  color: #f1f1f1;\n}\n#T_f71d8_row4_col0, #T_f71d8_row9_col0, #T_f71d8_row16_col3, #T_f71d8_row17_col0, #T_f71d8_row19_col27, #T_f71d8_row20_col0, #T_f71d8_row24_col17 {\n  background-color: #002859;\n  color: #f1f1f1;\n}\n#T_f71d8_row4_col31, #T_f71d8_row6_col21, #T_f71d8_row8_col25, #T_f71d8_row9_col32, #T_f71d8_row13_col32, #T_f71d8_row15_col6, #T_f71d8_row16_col14, #T_f71d8_row16_col33, #T_f71d8_row17_col14, #T_f71d8_row18_col35, #T_f71d8_row29_col31, #T_f71d8_row31_col21, #T_f71d8_row33_col29 {\n  background-color: #33446d;\n  color: #f1f1f1;\n}\n#T_f71d8_row5_col0, #T_f71d8_row9_col5, #T_f71d8_row9_col8, #T_f71d8_row11_col26, #T_f71d8_row18_col1, #T_f71d8_row22_col2, #T_f71d8_row27_col0, #T_f71d8_row30_col1, #T_f71d8_row32_col0 {\n  background-color: #002553;\n  color: #f1f1f1;\n}\n#T_f71d8_row5_col1, #T_f71d8_row7_col3, #T_f71d8_row9_col27, #T_f71d8_row12_col32, #T_f71d8_row20_col10, #T_f71d8_row28_col3, #T_f71d8_row30_col34 {\n  background-color: #002c64;\n  color: #f1f1f1;\n}\n#T_f71d8_row5_col2, #T_f71d8_row9_col3, #T_f71d8_row9_col4, #T_f71d8_row9_col24, #T_f71d8_row18_col15, #T_f71d8_row23_col32, #T_f71d8_row24_col26, #T_f71d8_row27_col4, #T_f71d8_row29_col3, #T_f71d8_row30_col15, #T_f71d8_row34_col4 {\n  background-color: #002a61;\n  color: #f1f1f1;\n}\n#T_f71d8_row5_col4, #T_f71d8_row5_col14, #T_f71d8_row5_col15, #T_f71d8_row6_col2, #T_f71d8_row19_col21, #T_f71d8_row19_col25, #T_f71d8_row20_col4, #T_f71d8_row22_col3, #T_f71d8_row32_col3, #T_f71d8_row32_col4, #T_f71d8_row35_col3 {\n  background-color: #002e6a;\n  color: #f1f1f1;\n}\n#T_f71d8_row5_col6, #T_f71d8_row6_col5, #T_f71d8_row21_col25 {\n  background-color: #e8d24f;\n  color: #000000;\n}\n#T_f71d8_row5_col7, #T_f71d8_row30_col5 {\n  background-color: #c9b965;\n  color: #000000;\n}\n#T_f71d8_row5_col8, #T_f71d8_row8_col5 {\n  background-color: #e1cc55;\n  color: #000000;\n}\n#T_f71d8_row5_col9, #T_f71d8_row24_col4, #T_f71d8_row27_col15, #T_f71d8_row29_col4 {\n  background-color: #002b62;\n  color: #f1f1f1;\n}\n#T_f71d8_row5_col13, #T_f71d8_row7_col30, #T_f71d8_row10_col9, #T_f71d8_row27_col16 {\n  background-color: #a09875;\n  color: #f1f1f1;\n}\n#T_f71d8_row5_col17, #T_f71d8_row14_col16, #T_f71d8_row14_col18, #T_f71d8_row17_col22, #T_f71d8_row17_col34, #T_f71d8_row28_col15, #T_f71d8_row35_col25 {\n  background-color: #4a536c;\n  color: #f1f1f1;\n}\n#T_f71d8_row5_col18, #T_f71d8_row22_col5, #T_f71d8_row30_col22 {\n  background-color: #d6c35d;\n  color: #000000;\n}\n#T_f71d8_row5_col22, #T_f71d8_row18_col30 {\n  background-color: #d9c55c;\n  color: #000000;\n}\n#T_f71d8_row5_col23 {\n  background-color: #d7c45c;\n  color: #000000;\n}\n#T_f71d8_row5_col24, #T_f71d8_row6_col30, #T_f71d8_row7_col8, #T_f71d8_row26_col9 {\n  background-color: #c3b369;\n  color: #000000;\n}\n#T_f71d8_row5_col27, #T_f71d8_row6_col27 {\n  background-color: #aea371;\n  color: #f1f1f1;\n}\n#T_f71d8_row5_col28, #T_f71d8_row6_col28, #T_f71d8_row7_col17, #T_f71d8_row7_col35, #T_f71d8_row9_col16, #T_f71d8_row11_col8, #T_f71d8_row15_col23, #T_f71d8_row25_col32, #T_f71d8_row25_col35, #T_f71d8_row26_col29, #T_f71d8_row28_col7, #T_f71d8_row29_col7, #T_f71d8_row33_col6 {\n  background-color: #444f6c;\n  color: #f1f1f1;\n}\n#T_f71d8_row5_col29, #T_f71d8_row11_col30, #T_f71d8_row14_col8, #T_f71d8_row33_col14, #T_f71d8_row35_col26 {\n  background-color: #404c6c;\n  color: #f1f1f1;\n}\n#T_f71d8_row5_col30 {\n  background-color: #cbb965;\n  color: #000000;\n}\n#T_f71d8_row5_col33, #T_f71d8_row18_col26, #T_f71d8_row23_col33, #T_f71d8_row27_col32 {\n  background-color: #203a6f;\n  color: #f1f1f1;\n}\n#T_f71d8_row6_col0, #T_f71d8_row9_col22, #T_f71d8_row18_col0, #T_f71d8_row20_col7, #T_f71d8_row22_col0, #T_f71d8_row23_col0, #T_f71d8_row24_col0, #T_f71d8_row30_col0 {\n  background-color: #002451;\n  color: #f1f1f1;\n}\n#T_f71d8_row6_col7, #T_f71d8_row35_col34 {\n  background-color: #dec958;\n  color: #000000;\n}\n#T_f71d8_row6_col8, #T_f71d8_row10_col26, #T_f71d8_row18_col22, #T_f71d8_row26_col10, #T_f71d8_row30_col23, #T_f71d8_row34_col35 {\n  background-color: #dfca57;\n  color: #000000;\n}\n#T_f71d8_row6_col10, #T_f71d8_row13_col25, #T_f71d8_row15_col10 {\n  background-color: #50576c;\n  color: #f1f1f1;\n}\n#T_f71d8_row6_col12, #T_f71d8_row8_col12, #T_f71d8_row10_col7, #T_f71d8_row13_col10, #T_f71d8_row16_col29, #T_f71d8_row20_col13, #T_f71d8_row20_col35, #T_f71d8_row25_col34, #T_f71d8_row29_col19 {\n  background-color: #5e626e;\n  color: #f1f1f1;\n}\n#T_f71d8_row6_col13, #T_f71d8_row8_col13, #T_f71d8_row20_col1, #T_f71d8_row20_col12 {\n  background-color: #9e9676;\n  color: #f1f1f1;\n}\n#T_f71d8_row6_col16, #T_f71d8_row15_col19, #T_f71d8_row19_col20, #T_f71d8_row34_col9 {\n  background-color: #848279;\n  color: #f1f1f1;\n}\n#T_f71d8_row6_col18, #T_f71d8_row8_col23, #T_f71d8_row22_col6, #T_f71d8_row23_col5 {\n  background-color: #d2c060;\n  color: #000000;\n}\n#T_f71d8_row6_col22, #T_f71d8_row6_col23, #T_f71d8_row23_col27 {\n  background-color: #d4c15f;\n  color: #000000;\n}\n#T_f71d8_row6_col24, #T_f71d8_row8_col30 {\n  background-color: #c4b468;\n  color: #000000;\n}\n#T_f71d8_row6_col25, #T_f71d8_row12_col22, #T_f71d8_row13_col1, #T_f71d8_row19_col14, #T_f71d8_row22_col10, #T_f71d8_row27_col35, #T_f71d8_row29_col2, #T_f71d8_row32_col31 {\n  background-color: #36466c;\n  color: #f1f1f1;\n}\n#T_f71d8_row6_col29, #T_f71d8_row13_col34, #T_f71d8_row16_col26, #T_f71d8_row23_col10, #T_f71d8_row33_col8, #T_f71d8_row35_col5, #T_f71d8_row35_col21 {\n  background-color: #424e6c;\n  color: #f1f1f1;\n}\n#T_f71d8_row6_col33, #T_f71d8_row7_col2, #T_f71d8_row7_col15, #T_f71d8_row8_col33, #T_f71d8_row10_col14, #T_f71d8_row11_col16, #T_f71d8_row17_col27 {\n  background-color: #233c6e;\n  color: #f1f1f1;\n}\n#T_f71d8_row6_col35, #T_f71d8_row12_col5, #T_f71d8_row12_col8, #T_f71d8_row16_col2, #T_f71d8_row16_col19, #T_f71d8_row23_col28, #T_f71d8_row27_col34, #T_f71d8_row31_col34, #T_f71d8_row34_col7, #T_f71d8_row34_col30, #T_f71d8_row35_col10 {\n  background-color: #35456c;\n  color: #f1f1f1;\n}\n#T_f71d8_row7_col0, #T_f71d8_row10_col0 {\n  background-color: #00234f;\n  color: #f1f1f1;\n}\n#T_f71d8_row7_col5 {\n  background-color: #d1bf61;\n  color: #000000;\n}\n#T_f71d8_row7_col6 {\n  background-color: #e2cd54;\n  color: #000000;\n}\n#T_f71d8_row7_col12, #T_f71d8_row15_col2, #T_f71d8_row17_col5, #T_f71d8_row17_col23, #T_f71d8_row24_col21, #T_f71d8_row26_col18, #T_f71d8_row28_col9, #T_f71d8_row34_col14, #T_f71d8_row35_col11 {\n  background-color: #666970;\n  color: #f1f1f1;\n}\n#T_f71d8_row7_col13, #T_f71d8_row13_col24, #T_f71d8_row19_col12 {\n  background-color: #938e78;\n  color: #f1f1f1;\n}\n#T_f71d8_row7_col18, #T_f71d8_row30_col13 {\n  background-color: #aaa073;\n  color: #f1f1f1;\n}\n#T_f71d8_row7_col20, #T_f71d8_row8_col29, #T_f71d8_row14_col6, #T_f71d8_row17_col26, #T_f71d8_row19_col28, #T_f71d8_row19_col29, #T_f71d8_row21_col7, #T_f71d8_row23_col29, #T_f71d8_row25_col6, #T_f71d8_row26_col2, #T_f71d8_row26_col28, #T_f71d8_row26_col33, #T_f71d8_row33_col5, #T_f71d8_row34_col17 {\n  background-color: #434e6c;\n  color: #f1f1f1;\n}\n#T_f71d8_row7_col22 {\n  background-color: #b4a76f;\n  color: #f1f1f1;\n}\n#T_f71d8_row7_col23, #T_f71d8_row27_col5 {\n  background-color: #b0a571;\n  color: #f1f1f1;\n}\n#T_f71d8_row7_col24, #T_f71d8_row11_col12 {\n  background-color: #b1a570;\n  color: #f1f1f1;\n}\n#T_f71d8_row7_col27, #T_f71d8_row16_col24 {\n  background-color: #999277;\n  color: #f1f1f1;\n}\n#T_f71d8_row7_col33, #T_f71d8_row8_col21, #T_f71d8_row29_col33 {\n  background-color: #31436d;\n  color: #f1f1f1;\n}\n#T_f71d8_row8_col0, #T_f71d8_row11_col0, #T_f71d8_row12_col0, #T_f71d8_row13_col3, #T_f71d8_row13_col4, #T_f71d8_row15_col0, #T_f71d8_row18_col2, #T_f71d8_row22_col31, #T_f71d8_row26_col0, #T_f71d8_row28_col0, #T_f71d8_row34_col0, #T_f71d8_row34_col32 {\n  background-color: #002656;\n  color: #f1f1f1;\n}\n#T_f71d8_row8_col6, #T_f71d8_row22_col18 {\n  background-color: #e0cb56;\n  color: #000000;\n}\n#T_f71d8_row8_col7, #T_f71d8_row18_col24, #T_f71d8_row18_col27, #T_f71d8_row21_col20 {\n  background-color: #bbad6d;\n  color: #000000;\n}\n#T_f71d8_row8_col18, #T_f71d8_row22_col8 {\n  background-color: #d0be62;\n  color: #000000;\n}\n#T_f71d8_row8_col22, #T_f71d8_row18_col5 {\n  background-color: #d3c05f;\n  color: #000000;\n}\n#T_f71d8_row8_col24 {\n  background-color: #c0b16a;\n  color: #000000;\n}\n#T_f71d8_row8_col27, #T_f71d8_row9_col26 {\n  background-color: #aca172;\n  color: #f1f1f1;\n}\n#T_f71d8_row9_col1, #T_f71d8_row15_col12 {\n  background-color: #8a8678;\n  color: #f1f1f1;\n}\n#T_f71d8_row9_col2, #T_f71d8_row14_col9, #T_f71d8_row21_col1, #T_f71d8_row33_col9 {\n  background-color: #797977;\n  color: #f1f1f1;\n}\n#T_f71d8_row9_col6, #T_f71d8_row10_col3, #T_f71d8_row18_col14, #T_f71d8_row21_col0, #T_f71d8_row23_col14, #T_f71d8_row24_col15, #T_f71d8_row25_col0, #T_f71d8_row33_col0 {\n  background-color: #00285b;\n  color: #f1f1f1;\n}\n#T_f71d8_row9_col7, #T_f71d8_row12_col10, #T_f71d8_row12_col13, #T_f71d8_row12_col26, #T_f71d8_row13_col11, #T_f71d8_row13_col12, #T_f71d8_row14_col3, #T_f71d8_row14_col4, #T_f71d8_row17_col32, #T_f71d8_row19_col24, #T_f71d8_row20_col5, #T_f71d8_row20_col6, #T_f71d8_row20_col8, #T_f71d8_row20_col16, #T_f71d8_row20_col18, #T_f71d8_row20_col22, #T_f71d8_row20_col23, #T_f71d8_row20_col27, #T_f71d8_row20_col30, #T_f71d8_row22_col9, #T_f71d8_row22_col15, #T_f71d8_row23_col1, #T_f71d8_row23_col2, #T_f71d8_row23_col20, #T_f71d8_row23_col21, #T_f71d8_row23_col25, #T_f71d8_row24_col19, #T_f71d8_row24_col31, #T_f71d8_row27_col17, #T_f71d8_row28_col35, #T_f71d8_row29_col0, #T_f71d8_row30_col2, #T_f71d8_row30_col14, #T_f71d8_row33_col34, #T_f71d8_row34_col33, #T_f71d8_row35_col28, #T_f71d8_row35_col29 {\n  background-color: #00224e;\n  color: #f1f1f1;\n}\n#T_f71d8_row9_col10, #T_f71d8_row9_col35, #T_f71d8_row11_col2, #T_f71d8_row31_col9, #T_f71d8_row31_col20 {\n  background-color: #7e7d78;\n  color: #f1f1f1;\n}\n#T_f71d8_row9_col12, #T_f71d8_row13_col8, #T_f71d8_row16_col5, #T_f71d8_row19_col9 {\n  background-color: #888578;\n  color: #f1f1f1;\n}\n#T_f71d8_row9_col13, #T_f71d8_row9_col25, #T_f71d8_row19_col35, #T_f71d8_row24_col25 {\n  background-color: #727274;\n  color: #f1f1f1;\n}\n#T_f71d8_row9_col15, #T_f71d8_row28_col20, #T_f71d8_row33_col20, #T_f71d8_row35_col9 {\n  background-color: #8e8978;\n  color: #f1f1f1;\n}\n#T_f71d8_row9_col19, #T_f71d8_row32_col13 {\n  background-color: #868379;\n  color: #f1f1f1;\n}\n#T_f71d8_row9_col29, #T_f71d8_row10_col35, #T_f71d8_row18_col12, #T_f71d8_row21_col29, #T_f71d8_row31_col5, #T_f71d8_row33_col21 {\n  background-color: #585e6d;\n  color: #f1f1f1;\n}\n#T_f71d8_row10_col4, #T_f71d8_row16_col4, #T_f71d8_row18_col25, #T_f71d8_row21_col3, #T_f71d8_row23_col9, #T_f71d8_row26_col3, #T_f71d8_row26_col4, #T_f71d8_row27_col3, #T_f71d8_row29_col35 {\n  background-color: #00295d;\n  color: #f1f1f1;\n}\n#T_f71d8_row10_col5, #T_f71d8_row14_col1, #T_f71d8_row15_col35, #T_f71d8_row25_col2 {\n  background-color: #747475;\n  color: #f1f1f1;\n}\n#T_f71d8_row10_col12, #T_f71d8_row21_col14, #T_f71d8_row26_col12, #T_f71d8_row29_col24, #T_f71d8_row32_col18 {\n  background-color: #646770;\n  color: #f1f1f1;\n}\n#T_f71d8_row10_col21, #T_f71d8_row12_col16, #T_f71d8_row14_col17, #T_f71d8_row26_col21, #T_f71d8_row28_col16, #T_f71d8_row31_col11, #T_f71d8_row31_col24, #T_f71d8_row31_col33 {\n  background-color: #3b496c;\n  color: #f1f1f1;\n}\n#T_f71d8_row10_col29, #T_f71d8_row15_col29, #T_f71d8_row17_col10, #T_f71d8_row18_col29, #T_f71d8_row25_col8, #T_f71d8_row27_col21, #T_f71d8_row29_col15, #T_f71d8_row30_col17, #T_f71d8_row31_col27, #T_f71d8_row33_col27 {\n  background-color: #3e4b6c;\n  color: #f1f1f1;\n}\n#T_f71d8_row10_col30, #T_f71d8_row19_col17, #T_f71d8_row20_col19, #T_f71d8_row33_col1 {\n  background-color: #777777;\n  color: #f1f1f1;\n}\n#T_f71d8_row10_col33, #T_f71d8_row12_col18, #T_f71d8_row14_col5, #T_f71d8_row18_col10, #T_f71d8_row19_col26, #T_f71d8_row25_col7, #T_f71d8_row28_col29, #T_f71d8_row32_col14, #T_f71d8_row33_col30 {\n  background-color: #414d6c;\n  color: #f1f1f1;\n}\n#T_f71d8_row11_col1, #T_f71d8_row16_col8 {\n  background-color: #878478;\n  color: #f1f1f1;\n}\n#T_f71d8_row11_col10, #T_f71d8_row18_col9, #T_f71d8_row18_col21, #T_f71d8_row21_col4, #T_f71d8_row24_col3, #T_f71d8_row33_col32, #T_f71d8_row34_col3 {\n  background-color: #002a5f;\n  color: #f1f1f1;\n}\n#T_f71d8_row11_col20 {\n  background-color: #989277;\n  color: #f1f1f1;\n}\n#T_f71d8_row11_col21, #T_f71d8_row16_col12, #T_f71d8_row26_col20, #T_f71d8_row26_col23, #T_f71d8_row29_col23, #T_f71d8_row32_col24 {\n  background-color: #6c6e72;\n  color: #f1f1f1;\n}\n#T_f71d8_row12_col3, #T_f71d8_row21_col31, #T_f71d8_row22_col32, #T_f71d8_row27_col9 {\n  background-color: #0f3570;\n  color: #f1f1f1;\n}\n#T_f71d8_row12_col11, #T_f71d8_row14_col20, #T_f71d8_row16_col18 {\n  background-color: #948e77;\n  color: #f1f1f1;\n}\n#T_f71d8_row12_col20, #T_f71d8_row13_col18, #T_f71d8_row23_col7 {\n  background-color: #979177;\n  color: #f1f1f1;\n}\n#T_f71d8_row12_col21, #T_f71d8_row14_col24, #T_f71d8_row15_col34, #T_f71d8_row16_col35, #T_f71d8_row19_col18, #T_f71d8_row28_col27, #T_f71d8_row29_col21, #T_f71d8_row32_col8, #T_f71d8_row32_col15, #T_f71d8_row33_col23 {\n  background-color: #5a5f6e;\n  color: #f1f1f1;\n}\n#T_f71d8_row12_col31, #T_f71d8_row13_col17, #T_f71d8_row18_col33, #T_f71d8_row20_col26, #T_f71d8_row23_col26, #T_f71d8_row24_col35, #T_f71d8_row29_col26, #T_f71d8_row34_col31 {\n  background-color: #1c396f;\n  color: #f1f1f1;\n}\n#T_f71d8_row13_col0, #T_f71d8_row16_col0, #T_f71d8_row19_col0, #T_f71d8_row22_col1, #T_f71d8_row25_col3, #T_f71d8_row31_col0 {\n  background-color: #002554;\n  color: #f1f1f1;\n}\n#T_f71d8_row13_col6 {\n  background-color: #898578;\n  color: #f1f1f1;\n}\n#T_f71d8_row13_col22 {\n  background-color: #9a9376;\n  color: #f1f1f1;\n}\n#T_f71d8_row13_col23 {\n  background-color: #9c9576;\n  color: #f1f1f1;\n}\n#T_f71d8_row13_col27 {\n  background-color: #918b78;\n  color: #f1f1f1;\n}\n#T_f71d8_row13_col30, #T_f71d8_row15_col20, #T_f71d8_row33_col12 {\n  background-color: #9b9476;\n  color: #f1f1f1;\n}\n#T_f71d8_row13_col31, #T_f71d8_row21_col15, #T_f71d8_row21_col33, #T_f71d8_row26_col17, #T_f71d8_row27_col12 {\n  background-color: #555c6d;\n  color: #f1f1f1;\n}\n#T_f71d8_row14_col12 {\n  background-color: #908b78;\n  color: #f1f1f1;\n}\n#T_f71d8_row14_col26, #T_f71d8_row15_col3, #T_f71d8_row17_col4, #T_f71d8_row27_col1, #T_f71d8_row28_col26, #T_f71d8_row30_col20 {\n  background-color: #053371;\n  color: #f1f1f1;\n}\n#T_f71d8_row15_col4, #T_f71d8_row24_col1, #T_f71d8_row31_col32 {\n  background-color: #083370;\n  color: #f1f1f1;\n}\n#T_f71d8_row15_col9 {\n  background-color: #9f9775;\n  color: #f1f1f1;\n}\n#T_f71d8_row15_col30, #T_f71d8_row18_col17, #T_f71d8_row21_col17, #T_f71d8_row21_col19, #T_f71d8_row22_col21, #T_f71d8_row24_col34, #T_f71d8_row27_col10, #T_f71d8_row28_col31 {\n  background-color: #32436d;\n  color: #f1f1f1;\n}\n#T_f71d8_row15_col31, #T_f71d8_row21_col34, #T_f71d8_row23_col12, #T_f71d8_row29_col6, #T_f71d8_row35_col16 {\n  background-color: #595e6e;\n  color: #f1f1f1;\n}\n#T_f71d8_row16_col6, #T_f71d8_row17_col19, #T_f71d8_row22_col16, #T_f71d8_row30_col7 {\n  background-color: #8f8a78;\n  color: #f1f1f1;\n}\n#T_f71d8_row16_col13, #T_f71d8_row20_col2 {\n  background-color: #8d8878;\n  color: #f1f1f1;\n}\n#T_f71d8_row16_col22 {\n  background-color: #9d9576;\n  color: #f1f1f1;\n}\n#T_f71d8_row16_col23 {\n  background-color: #aba072;\n  color: #f1f1f1;\n}\n#T_f71d8_row16_col27, #T_f71d8_row20_col9, #T_f71d8_row20_col21 {\n  background-color: #a79d73;\n  color: #f1f1f1;\n}\n#T_f71d8_row17_col3, #T_f71d8_row19_col16, #T_f71d8_row22_col17, #T_f71d8_row23_col31 {\n  background-color: #013271;\n  color: #f1f1f1;\n}\n#T_f71d8_row17_col9, #T_f71d8_row26_col19 {\n  background-color: #717274;\n  color: #f1f1f1;\n}\n#T_f71d8_row17_col12 {\n  background-color: #928c78;\n  color: #f1f1f1;\n}\n#T_f71d8_row18_col6, #T_f71d8_row23_col6, #T_f71d8_row24_col23 {\n  background-color: #cebc63;\n  color: #000000;\n}\n#T_f71d8_row18_col8, #T_f71d8_row23_col8 {\n  background-color: #ccba64;\n  color: #000000;\n}\n#T_f71d8_row18_col11, #T_f71d8_row19_col3, #T_f71d8_row19_col4, #T_f71d8_row22_col33 {\n  background-color: #143670;\n  color: #f1f1f1;\n}\n#T_f71d8_row18_col13, #T_f71d8_row22_col7, #T_f71d8_row23_col13, #T_f71d8_row24_col7 {\n  background-color: #a39a74;\n  color: #f1f1f1;\n}\n#T_f71d8_row18_col23, #T_f71d8_row22_col23 {\n  background-color: #f0d846;\n  color: #000000;\n}\n#T_f71d8_row20_col15, #T_f71d8_row35_col19 {\n  background-color: #7f7e78;\n  color: #f1f1f1;\n}\n#T_f71d8_row20_col25 {\n  background-color: #baac6d;\n  color: #000000;\n}\n#T_f71d8_row21_col12, #T_f71d8_row25_col12, #T_f71d8_row31_col19, #T_f71d8_row34_col12 {\n  background-color: #838179;\n  color: #f1f1f1;\n}\n#T_f71d8_row22_col13 {\n  background-color: #a89e73;\n  color: #f1f1f1;\n}\n#T_f71d8_row22_col24, #T_f71d8_row24_col22 {\n  background-color: #edd54a;\n  color: #000000;\n}\n#T_f71d8_row22_col27 {\n  background-color: #ead34c;\n  color: #000000;\n}\n#T_f71d8_row22_col30 {\n  background-color: #d5c25e;\n  color: #000000;\n}\n#T_f71d8_row23_col18, #T_f71d8_row23_col22 {\n  background-color: #efd748;\n  color: #000000;\n}\n#T_f71d8_row23_col24 {\n  background-color: #c7b767;\n  color: #000000;\n}\n#T_f71d8_row23_col30, #T_f71d8_row27_col23 {\n  background-color: #dbc75a;\n  color: #000000;\n}\n#T_f71d8_row24_col5, #T_f71d8_row27_col18, #T_f71d8_row30_col6 {\n  background-color: #c1b26a;\n  color: #000000;\n}\n#T_f71d8_row24_col6, #T_f71d8_row30_col8 {\n  background-color: #c2b369;\n  color: #000000;\n}\n#T_f71d8_row24_col8, #T_f71d8_row24_col18 {\n  background-color: #beaf6b;\n  color: #000000;\n}\n#T_f71d8_row24_col27, #T_f71d8_row25_col21 {\n  background-color: #e6d051;\n  color: #000000;\n}\n#T_f71d8_row24_col30, #T_f71d8_row30_col24 {\n  background-color: #b5a86f;\n  color: #f1f1f1;\n}\n#T_f71d8_row25_col20 {\n  background-color: #c6b667;\n  color: #000000;\n}\n#T_f71d8_row27_col8 {\n  background-color: #ada272;\n  color: #f1f1f1;\n}\n#T_f71d8_row27_col13 {\n  background-color: #a69c74;\n  color: #f1f1f1;\n}\n#T_f71d8_row27_col22 {\n  background-color: #ebd44b;\n  color: #000000;\n}\n#T_f71d8_row27_col24 {\n  background-color: #e7d150;\n  color: #000000;\n}\n#T_f71d8_row27_col30 {\n  background-color: #b3a670;\n  color: #f1f1f1;\n}\n#T_f71d8_row28_col12, #T_f71d8_row35_col20 {\n  background-color: #7b7a78;\n  color: #f1f1f1;\n}\n#T_f71d8_row30_col18 {\n  background-color: #dac65b;\n  color: #000000;\n}\n#T_f71d8_row31_col12, #T_f71d8_row33_col2, #T_f71d8_row33_col15 {\n  background-color: #6e6f73;\n  color: #f1f1f1;\n}\n#T_f71d8_row31_col13 {\n  background-color: #8b8778;\n  color: #f1f1f1;\n}\n#T_f71d8_row34_col20 {\n  background-color: #858279;\n  color: #f1f1f1;\n}\n#T_f71d8_row35_col12 {\n  background-color: #828079;\n  color: #f1f1f1;\n}\n</style>\n<table id=\"T_f71d8\">\n  <thead>\n    <tr>\n      <th class=\"blank level0\" >&nbsp;</th>\n      <th id=\"T_f71d8_level0_col0\" class=\"col_heading level0 col0\" >id</th>\n      <th id=\"T_f71d8_level0_col1\" class=\"col_heading level0 col1\" >X_Minimum</th>\n      <th id=\"T_f71d8_level0_col2\" class=\"col_heading level0 col2\" >X_Maximum</th>\n      <th id=\"T_f71d8_level0_col3\" class=\"col_heading level0 col3\" >Y_Minimum</th>\n      <th id=\"T_f71d8_level0_col4\" class=\"col_heading level0 col4\" >Y_Maximum</th>\n      <th id=\"T_f71d8_level0_col5\" class=\"col_heading level0 col5\" >Pixels_Areas</th>\n      <th id=\"T_f71d8_level0_col6\" class=\"col_heading level0 col6\" >X_Perimeter</th>\n      <th id=\"T_f71d8_level0_col7\" class=\"col_heading level0 col7\" >Y_Perimeter</th>\n      <th id=\"T_f71d8_level0_col8\" class=\"col_heading level0 col8\" >Sum_of_Luminosity</th>\n      <th id=\"T_f71d8_level0_col9\" class=\"col_heading level0 col9\" >Minimum_of_Luminosity</th>\n      <th id=\"T_f71d8_level0_col10\" class=\"col_heading level0 col10\" >Maximum_of_Luminosity</th>\n      <th id=\"T_f71d8_level0_col11\" class=\"col_heading level0 col11\" >Length_of_Conveyer</th>\n      <th id=\"T_f71d8_level0_col12\" class=\"col_heading level0 col12\" >TypeOfSteel_A300</th>\n      <th id=\"T_f71d8_level0_col13\" class=\"col_heading level0 col13\" >TypeOfSteel_A400</th>\n      <th id=\"T_f71d8_level0_col14\" class=\"col_heading level0 col14\" >Steel_Plate_Thickness</th>\n      <th id=\"T_f71d8_level0_col15\" class=\"col_heading level0 col15\" >Edges_Index</th>\n      <th id=\"T_f71d8_level0_col16\" class=\"col_heading level0 col16\" >Empty_Index</th>\n      <th id=\"T_f71d8_level0_col17\" class=\"col_heading level0 col17\" >Square_Index</th>\n      <th id=\"T_f71d8_level0_col18\" class=\"col_heading level0 col18\" >Outside_X_Index</th>\n      <th id=\"T_f71d8_level0_col19\" class=\"col_heading level0 col19\" >Edges_X_Index</th>\n      <th id=\"T_f71d8_level0_col20\" class=\"col_heading level0 col20\" >Edges_Y_Index</th>\n      <th id=\"T_f71d8_level0_col21\" class=\"col_heading level0 col21\" >Outside_Global_Index</th>\n      <th id=\"T_f71d8_level0_col22\" class=\"col_heading level0 col22\" >LogOfAreas</th>\n      <th id=\"T_f71d8_level0_col23\" class=\"col_heading level0 col23\" >Log_X_Index</th>\n      <th id=\"T_f71d8_level0_col24\" class=\"col_heading level0 col24\" >Log_Y_Index</th>\n      <th id=\"T_f71d8_level0_col25\" class=\"col_heading level0 col25\" >Orientation_Index</th>\n      <th id=\"T_f71d8_level0_col26\" class=\"col_heading level0 col26\" >Luminosity_Index</th>\n      <th id=\"T_f71d8_level0_col27\" class=\"col_heading level0 col27\" >SigmoidOfAreas</th>\n      <th id=\"T_f71d8_level0_col28\" class=\"col_heading level0 col28\" >Pastry</th>\n      <th id=\"T_f71d8_level0_col29\" class=\"col_heading level0 col29\" >Z_Scratch</th>\n      <th id=\"T_f71d8_level0_col30\" class=\"col_heading level0 col30\" >K_Scatch</th>\n      <th id=\"T_f71d8_level0_col31\" class=\"col_heading level0 col31\" >Stains</th>\n      <th id=\"T_f71d8_level0_col32\" class=\"col_heading level0 col32\" >Dirtiness</th>\n      <th id=\"T_f71d8_level0_col33\" class=\"col_heading level0 col33\" >Bumps</th>\n      <th id=\"T_f71d8_level0_col34\" class=\"col_heading level0 col34\" >Other_Faults</th>\n      <th id=\"T_f71d8_level0_col35\" class=\"col_heading level0 col35\" >Unnamed: 0</th>\n    </tr>\n  </thead>\n  <tbody>\n    <tr>\n      <th id=\"T_f71d8_level0_row0\" class=\"row_heading level0 row0\" >id</th>\n      <td id=\"T_f71d8_row0_col0\" class=\"data row0 col0\" >1.000000</td>\n      <td id=\"T_f71d8_row0_col1\" class=\"data row0 col1\" >0.038159</td>\n      <td id=\"T_f71d8_row0_col2\" class=\"data row0 col2\" >0.039085</td>\n      <td id=\"T_f71d8_row0_col3\" class=\"data row0 col3\" >0.006338</td>\n      <td id=\"T_f71d8_row0_col4\" class=\"data row0 col4\" >0.007224</td>\n      <td id=\"T_f71d8_row0_col5\" class=\"data row0 col5\" >-0.008721</td>\n      <td id=\"T_f71d8_row0_col6\" class=\"data row0 col6\" >-0.010132</td>\n      <td id=\"T_f71d8_row0_col7\" class=\"data row0 col7\" >-0.014202</td>\n      <td id=\"T_f71d8_row0_col8\" class=\"data row0 col8\" >-0.001259</td>\n      <td id=\"T_f71d8_row0_col9\" class=\"data row0 col9\" >0.009111</td>\n      <td id=\"T_f71d8_row0_col10\" class=\"data row0 col10\" >-0.013472</td>\n      <td id=\"T_f71d8_row0_col11\" class=\"data row0 col11\" >0.000503</td>\n      <td id=\"T_f71d8_row0_col12\" class=\"data row0 col12\" >0.001133</td>\n      <td id=\"T_f71d8_row0_col13\" class=\"data row0 col13\" >-0.002606</td>\n      <td id=\"T_f71d8_row0_col14\" class=\"data row0 col14\" >0.003150</td>\n      <td id=\"T_f71d8_row0_col15\" class=\"data row0 col15\" >0.001510</td>\n      <td id=\"T_f71d8_row0_col16\" class=\"data row0 col16\" >-0.004122</td>\n      <td id=\"T_f71d8_row0_col17\" class=\"data row0 col17\" >0.008061</td>\n      <td id=\"T_f71d8_row0_col18\" class=\"data row0 col18\" >-0.011997</td>\n      <td id=\"T_f71d8_row0_col19\" class=\"data row0 col19\" >-0.002653</td>\n      <td id=\"T_f71d8_row0_col20\" class=\"data row0 col20\" >0.009220</td>\n      <td id=\"T_f71d8_row0_col21\" class=\"data row0 col21\" >0.012591</td>\n      <td id=\"T_f71d8_row0_col22\" class=\"data row0 col22\" >-0.010597</td>\n      <td id=\"T_f71d8_row0_col23\" class=\"data row0 col23\" >-0.010760</td>\n      <td id=\"T_f71d8_row0_col24\" class=\"data row0 col24\" >-0.011554</td>\n      <td id=\"T_f71d8_row0_col25\" class=\"data row0 col25\" >0.011939</td>\n      <td id=\"T_f71d8_row0_col26\" class=\"data row0 col26\" >-0.001154</td>\n      <td id=\"T_f71d8_row0_col27\" class=\"data row0 col27\" >-0.008982</td>\n      <td id=\"T_f71d8_row0_col28\" class=\"data row0 col28\" >-0.001340</td>\n      <td id=\"T_f71d8_row0_col29\" class=\"data row0 col29\" >-0.021304</td>\n      <td id=\"T_f71d8_row0_col30\" class=\"data row0 col30\" >-0.011128</td>\n      <td id=\"T_f71d8_row0_col31\" class=\"data row0 col31\" >-0.002337</td>\n      <td id=\"T_f71d8_row0_col32\" class=\"data row0 col32\" >-0.005392</td>\n      <td id=\"T_f71d8_row0_col33\" class=\"data row0 col33\" >0.012796</td>\n      <td id=\"T_f71d8_row0_col34\" class=\"data row0 col34\" >0.001456</td>\n      <td id=\"T_f71d8_row0_col35\" class=\"data row0 col35\" >1.000000</td>\n    </tr>\n    <tr>\n      <th id=\"T_f71d8_level0_row1\" class=\"row_heading level0 row1\" >X_Minimum</th>\n      <td id=\"T_f71d8_row1_col0\" class=\"data row1 col0\" >0.038159</td>\n      <td id=\"T_f71d8_row1_col1\" class=\"data row1 col1\" >1.000000</td>\n      <td id=\"T_f71d8_row1_col2\" class=\"data row1 col2\" >0.989683</td>\n      <td id=\"T_f71d8_row1_col3\" class=\"data row1 col3\" >0.020467</td>\n      <td id=\"T_f71d8_row1_col4\" class=\"data row1 col4\" >0.018781</td>\n      <td id=\"T_f71d8_row1_col5\" class=\"data row1 col5\" >-0.442811</td>\n      <td id=\"T_f71d8_row1_col6\" class=\"data row1 col6\" >-0.416996</td>\n      <td id=\"T_f71d8_row1_col7\" class=\"data row1 col7\" >-0.273368</td>\n      <td id=\"T_f71d8_row1_col8\" class=\"data row1 col8\" >-0.419655</td>\n      <td id=\"T_f71d8_row1_col9\" class=\"data row1 col9\" >0.326816</td>\n      <td id=\"T_f71d8_row1_col10\" class=\"data row1 col10\" >-0.127655</td>\n      <td id=\"T_f71d8_row1_col11\" class=\"data row1 col11\" >0.308597</td>\n      <td id=\"T_f71d8_row1_col12\" class=\"data row1 col12\" >0.212828</td>\n      <td id=\"T_f71d8_row1_col13\" class=\"data row1 col13\" >-0.211033</td>\n      <td id=\"T_f71d8_row1_col14\" class=\"data row1 col14\" >0.182414</td>\n      <td id=\"T_f71d8_row1_col15\" class=\"data row1 col15\" >0.177677</td>\n      <td id=\"T_f71d8_row1_col16\" class=\"data row1 col16\" >-0.178091</td>\n      <td id=\"T_f71d8_row1_col17\" class=\"data row1 col17\" >0.047493</td>\n      <td id=\"T_f71d8_row1_col18\" class=\"data row1 col18\" >-0.502758</td>\n      <td id=\"T_f71d8_row1_col19\" class=\"data row1 col19\" >0.116862</td>\n      <td id=\"T_f71d8_row1_col20\" class=\"data row1 col20\" >0.451891</td>\n      <td id=\"T_f71d8_row1_col21\" class=\"data row1 col21\" >0.215475</td>\n      <td id=\"T_f71d8_row1_col22\" class=\"data row1 col22\" >-0.496955</td>\n      <td id=\"T_f71d8_row1_col23\" class=\"data row1 col23\" >-0.521634</td>\n      <td id=\"T_f71d8_row1_col24\" class=\"data row1 col24\" >-0.369839</td>\n      <td id=\"T_f71d8_row1_col25\" class=\"data row1 col25\" >0.267872</td>\n      <td id=\"T_f71d8_row1_col26\" class=\"data row1 col26\" >-0.065670</td>\n      <td id=\"T_f71d8_row1_col27\" class=\"data row1 col27\" >-0.374745</td>\n      <td id=\"T_f71d8_row1_col28\" class=\"data row1 col28\" >0.119978</td>\n      <td id=\"T_f71d8_row1_col29\" class=\"data row1 col29\" >-0.123533</td>\n      <td id=\"T_f71d8_row1_col30\" class=\"data row1 col30\" >-0.501723</td>\n      <td id=\"T_f71d8_row1_col31\" class=\"data row1 col31\" >0.047764</td>\n      <td id=\"T_f71d8_row1_col32\" class=\"data row1 col32\" >0.049491</td>\n      <td id=\"T_f71d8_row1_col33\" class=\"data row1 col33\" >0.207879</td>\n      <td id=\"T_f71d8_row1_col34\" class=\"data row1 col34\" >0.168437</td>\n      <td id=\"T_f71d8_row1_col35\" class=\"data row1 col35\" >0.239853</td>\n    </tr>\n    <tr>\n      <th id=\"T_f71d8_level0_row2\" class=\"row_heading level0 row2\" >X_Maximum</th>\n      <td id=\"T_f71d8_row2_col0\" class=\"data row2 col0\" >0.039085</td>\n      <td id=\"T_f71d8_row2_col1\" class=\"data row2 col1\" >0.989683</td>\n      <td id=\"T_f71d8_row2_col2\" class=\"data row2 col2\" >1.000000</td>\n      <td id=\"T_f71d8_row2_col3\" class=\"data row2 col3\" >0.024052</td>\n      <td id=\"T_f71d8_row2_col4\" class=\"data row2 col4\" >0.021850</td>\n      <td id=\"T_f71d8_row2_col5\" class=\"data row2 col5\" >-0.369446</td>\n      <td id=\"T_f71d8_row2_col6\" class=\"data row2 col6\" >-0.345097</td>\n      <td id=\"T_f71d8_row2_col7\" class=\"data row2 col7\" >-0.226833</td>\n      <td id=\"T_f71d8_row2_col8\" class=\"data row2 col8\" >-0.350244</td>\n      <td id=\"T_f71d8_row2_col9\" class=\"data row2 col9\" >0.264023</td>\n      <td id=\"T_f71d8_row2_col10\" class=\"data row2 col10\" >-0.123269</td>\n      <td id=\"T_f71d8_row2_col11\" class=\"data row2 col11\" >0.293131</td>\n      <td id=\"T_f71d8_row2_col12\" class=\"data row2 col12\" >0.182250</td>\n      <td id=\"T_f71d8_row2_col13\" class=\"data row2 col13\" >-0.180696</td>\n      <td id=\"T_f71d8_row2_col14\" class=\"data row2 col14\" >0.157764</td>\n      <td id=\"T_f71d8_row2_col15\" class=\"data row2 col15\" >0.140593</td>\n      <td id=\"T_f71d8_row2_col16\" class=\"data row2 col16\" >-0.147168</td>\n      <td id=\"T_f71d8_row2_col17\" class=\"data row2 col17\" >0.036612</td>\n      <td id=\"T_f71d8_row2_col18\" class=\"data row2 col18\" >-0.407276</td>\n      <td id=\"T_f71d8_row2_col19\" class=\"data row2 col19\" >0.101167</td>\n      <td id=\"T_f71d8_row2_col20\" class=\"data row2 col20\" >0.380715</td>\n      <td id=\"T_f71d8_row2_col21\" class=\"data row2 col21\" >0.182329</td>\n      <td id=\"T_f71d8_row2_col22\" class=\"data row2 col22\" >-0.418976</td>\n      <td id=\"T_f71d8_row2_col23\" class=\"data row2 col23\" >-0.436395</td>\n      <td id=\"T_f71d8_row2_col24\" class=\"data row2 col24\" >-0.311209</td>\n      <td id=\"T_f71d8_row2_col25\" class=\"data row2 col25\" >0.225912</td>\n      <td id=\"T_f71d8_row2_col26\" class=\"data row2 col26\" >-0.075674</td>\n      <td id=\"T_f71d8_row2_col27\" class=\"data row2 col27\" >-0.316453</td>\n      <td id=\"T_f71d8_row2_col28\" class=\"data row2 col28\" >0.109062</td>\n      <td id=\"T_f71d8_row2_col29\" class=\"data row2 col29\" >-0.144083</td>\n      <td id=\"T_f71d8_row2_col30\" class=\"data row2 col30\" >-0.431077</td>\n      <td id=\"T_f71d8_row2_col31\" class=\"data row2 col31\" >0.038169</td>\n      <td id=\"T_f71d8_row2_col32\" class=\"data row2 col32\" >0.042994</td>\n      <td id=\"T_f71d8_row2_col33\" class=\"data row2 col33\" >0.189672</td>\n      <td id=\"T_f71d8_row2_col34\" class=\"data row2 col34\" >0.152013</td>\n      <td id=\"T_f71d8_row2_col35\" class=\"data row2 col35\" >0.220862</td>\n    </tr>\n    <tr>\n      <th id=\"T_f71d8_level0_row3\" class=\"row_heading level0 row3\" >Y_Minimum</th>\n      <td id=\"T_f71d8_row3_col0\" class=\"data row3 col0\" >0.006338</td>\n      <td id=\"T_f71d8_row3_col1\" class=\"data row3 col1\" >0.020467</td>\n      <td id=\"T_f71d8_row3_col2\" class=\"data row3 col2\" >0.024052</td>\n      <td id=\"T_f71d8_row3_col3\" class=\"data row3 col3\" >1.000000</td>\n      <td id=\"T_f71d8_row3_col4\" class=\"data row3 col4\" >0.972042</td>\n      <td id=\"T_f71d8_row3_col5\" class=\"data row3 col5\" >-0.004916</td>\n      <td id=\"T_f71d8_row3_col6\" class=\"data row3 col6\" >-0.008255</td>\n      <td id=\"T_f71d8_row3_col7\" class=\"data row3 col7\" >-0.009776</td>\n      <td id=\"T_f71d8_row3_col8\" class=\"data row3 col8\" >-0.006925</td>\n      <td id=\"T_f71d8_row3_col9\" class=\"data row3 col9\" >-0.021800</td>\n      <td id=\"T_f71d8_row3_col10\" class=\"data row3 col10\" >-0.034116</td>\n      <td id=\"T_f71d8_row3_col11\" class=\"data row3 col11\" >0.010967</td>\n      <td id=\"T_f71d8_row3_col12\" class=\"data row3 col12\" >0.047404</td>\n      <td id=\"T_f71d8_row3_col13\" class=\"data row3 col13\" >-0.047007</td>\n      <td id=\"T_f71d8_row3_col14\" class=\"data row3 col14\" >-0.068177</td>\n      <td id=\"T_f71d8_row3_col15\" class=\"data row3 col15\" >0.035152</td>\n      <td id=\"T_f71d8_row3_col16\" class=\"data row3 col16\" >-0.034951</td>\n      <td id=\"T_f71d8_row3_col17\" class=\"data row3 col17\" >0.030459</td>\n      <td id=\"T_f71d8_row3_col18\" class=\"data row3 col18\" >0.022701</td>\n      <td id=\"T_f71d8_row3_col19\" class=\"data row3 col19\" >0.054039</td>\n      <td id=\"T_f71d8_row3_col20\" class=\"data row3 col20\" >-0.004997</td>\n      <td id=\"T_f71d8_row3_col21\" class=\"data row3 col21\" >-0.028290</td>\n      <td id=\"T_f71d8_row3_col22\" class=\"data row3 col22\" >0.002180</td>\n      <td id=\"T_f71d8_row3_col23\" class=\"data row3 col23\" >0.019550</td>\n      <td id=\"T_f71d8_row3_col24\" class=\"data row3 col24\" >-0.022492</td>\n      <td id=\"T_f71d8_row3_col25\" class=\"data row3 col25\" >-0.047538</td>\n      <td id=\"T_f71d8_row3_col26\" class=\"data row3 col26\" >-0.030424</td>\n      <td id=\"T_f71d8_row3_col27\" class=\"data row3 col27\" >-0.026864</td>\n      <td id=\"T_f71d8_row3_col28\" class=\"data row3 col28\" >-0.011074</td>\n      <td id=\"T_f71d8_row3_col29\" class=\"data row3 col29\" >-0.018813</td>\n      <td id=\"T_f71d8_row3_col30\" class=\"data row3 col30\" >0.009090</td>\n      <td id=\"T_f71d8_row3_col31\" class=\"data row3 col31\" >-0.042065</td>\n      <td id=\"T_f71d8_row3_col32\" class=\"data row3 col32\" >0.000691</td>\n      <td id=\"T_f71d8_row3_col33\" class=\"data row3 col33\" >0.062877</td>\n      <td id=\"T_f71d8_row3_col34\" class=\"data row3 col34\" >-0.024940</td>\n      <td id=\"T_f71d8_row3_col35\" class=\"data row3 col35\" >0.000891</td>\n    </tr>\n    <tr>\n      <th id=\"T_f71d8_level0_row4\" class=\"row_heading level0 row4\" >Y_Maximum</th>\n      <td id=\"T_f71d8_row4_col0\" class=\"data row4 col0\" >0.007224</td>\n      <td id=\"T_f71d8_row4_col1\" class=\"data row4 col1\" >0.018781</td>\n      <td id=\"T_f71d8_row4_col2\" class=\"data row4 col2\" >0.021850</td>\n      <td id=\"T_f71d8_row4_col3\" class=\"data row4 col3\" >0.972042</td>\n      <td id=\"T_f71d8_row4_col4\" class=\"data row4 col4\" >1.000000</td>\n      <td id=\"T_f71d8_row4_col5\" class=\"data row4 col5\" >-0.004574</td>\n      <td id=\"T_f71d8_row4_col6\" class=\"data row4 col6\" >-0.007923</td>\n      <td id=\"T_f71d8_row4_col7\" class=\"data row4 col7\" >-0.009643</td>\n      <td id=\"T_f71d8_row4_col8\" class=\"data row4 col8\" >-0.006562</td>\n      <td id=\"T_f71d8_row4_col9\" class=\"data row4 col9\" >-0.023101</td>\n      <td id=\"T_f71d8_row4_col10\" class=\"data row4 col10\" >-0.033372</td>\n      <td id=\"T_f71d8_row4_col11\" class=\"data row4 col11\" >0.010168</td>\n      <td id=\"T_f71d8_row4_col12\" class=\"data row4 col12\" >0.047492</td>\n      <td id=\"T_f71d8_row4_col13\" class=\"data row4 col13\" >-0.047101</td>\n      <td id=\"T_f71d8_row4_col14\" class=\"data row4 col14\" >-0.072134</td>\n      <td id=\"T_f71d8_row4_col15\" class=\"data row4 col15\" >0.033726</td>\n      <td id=\"T_f71d8_row4_col16\" class=\"data row4 col16\" >-0.034075</td>\n      <td id=\"T_f71d8_row4_col17\" class=\"data row4 col17\" >0.030991</td>\n      <td id=\"T_f71d8_row4_col18\" class=\"data row4 col18\" >0.020574</td>\n      <td id=\"T_f71d8_row4_col19\" class=\"data row4 col19\" >0.052988</td>\n      <td id=\"T_f71d8_row4_col20\" class=\"data row4 col20\" >-0.003870</td>\n      <td id=\"T_f71d8_row4_col21\" class=\"data row4 col21\" >-0.026398</td>\n      <td id=\"T_f71d8_row4_col22\" class=\"data row4 col22\" >0.002892</td>\n      <td id=\"T_f71d8_row4_col23\" class=\"data row4 col23\" >0.020038</td>\n      <td id=\"T_f71d8_row4_col24\" class=\"data row4 col24\" >-0.021793</td>\n      <td id=\"T_f71d8_row4_col25\" class=\"data row4 col25\" >-0.045996</td>\n      <td id=\"T_f71d8_row4_col26\" class=\"data row4 col26\" >-0.030329</td>\n      <td id=\"T_f71d8_row4_col27\" class=\"data row4 col27\" >-0.025778</td>\n      <td id=\"T_f71d8_row4_col28\" class=\"data row4 col28\" >-0.011762</td>\n      <td id=\"T_f71d8_row4_col29\" class=\"data row4 col29\" >-0.019489</td>\n      <td id=\"T_f71d8_row4_col30\" class=\"data row4 col30\" >0.009725</td>\n      <td id=\"T_f71d8_row4_col31\" class=\"data row4 col31\" >-0.043628</td>\n      <td id=\"T_f71d8_row4_col32\" class=\"data row4 col32\" >-0.001071</td>\n      <td id=\"T_f71d8_row4_col33\" class=\"data row4 col33\" >0.063040</td>\n      <td id=\"T_f71d8_row4_col34\" class=\"data row4 col34\" >-0.024325</td>\n      <td id=\"T_f71d8_row4_col35\" class=\"data row4 col35\" >0.000878</td>\n    </tr>\n    <tr>\n      <th id=\"T_f71d8_level0_row5\" class=\"row_heading level0 row5\" >Pixels_Areas</th>\n      <td id=\"T_f71d8_row5_col0\" class=\"data row5 col0\" >-0.008721</td>\n      <td id=\"T_f71d8_row5_col1\" class=\"data row5 col1\" >-0.442811</td>\n      <td id=\"T_f71d8_row5_col2\" class=\"data row5 col2\" >-0.369446</td>\n      <td id=\"T_f71d8_row5_col3\" class=\"data row5 col3\" >-0.004916</td>\n      <td id=\"T_f71d8_row5_col4\" class=\"data row5 col4\" >-0.004574</td>\n      <td id=\"T_f71d8_row5_col5\" class=\"data row5 col5\" >1.000000</td>\n      <td id=\"T_f71d8_row5_col6\" class=\"data row5 col6\" >0.857614</td>\n      <td id=\"T_f71d8_row5_col7\" class=\"data row5 col7\" >0.723819</td>\n      <td id=\"T_f71d8_row5_col8\" class=\"data row5 col8\" >0.821540</td>\n      <td id=\"T_f71d8_row5_col9\" class=\"data row5 col9\" >-0.604210</td>\n      <td id=\"T_f71d8_row5_col10\" class=\"data row5 col10\" >0.127699</td>\n      <td id=\"T_f71d8_row5_col11\" class=\"data row5 col11\" >-0.200648</td>\n      <td id=\"T_f71d8_row5_col12\" class=\"data row5 col12\" >-0.294452</td>\n      <td id=\"T_f71d8_row5_col13\" class=\"data row5 col13\" >0.290686</td>\n      <td id=\"T_f71d8_row5_col14\" class=\"data row5 col14\" >-0.224967</td>\n      <td id=\"T_f71d8_row5_col15\" class=\"data row5 col15\" >-0.327703</td>\n      <td id=\"T_f71d8_row5_col16\" class=\"data row5 col16\" >0.269068</td>\n      <td id=\"T_f71d8_row5_col17\" class=\"data row5 col17\" >0.023619</td>\n      <td id=\"T_f71d8_row5_col18\" class=\"data row5 col18\" >0.738196</td>\n      <td id=\"T_f71d8_row5_col19\" class=\"data row5 col19\" >-0.301258</td>\n      <td id=\"T_f71d8_row5_col20\" class=\"data row5 col20\" >-0.624134</td>\n      <td id=\"T_f71d8_row5_col21\" class=\"data row5 col21\" >-0.192815</td>\n      <td id=\"T_f71d8_row5_col22\" class=\"data row5 col22\" >0.755308</td>\n      <td id=\"T_f71d8_row5_col23\" class=\"data row5 col23\" >0.727782</td>\n      <td id=\"T_f71d8_row5_col24\" class=\"data row5 col24\" >0.630050</td>\n      <td id=\"T_f71d8_row5_col25\" class=\"data row5 col25\" >-0.251397</td>\n      <td id=\"T_f71d8_row5_col26\" class=\"data row5 col26\" >-0.018984</td>\n      <td id=\"T_f71d8_row5_col27\" class=\"data row5 col27\" >0.525107</td>\n      <td id=\"T_f71d8_row5_col28\" class=\"data row5 col28\" >-0.097629</td>\n      <td id=\"T_f71d8_row5_col29\" class=\"data row5 col29\" >-0.081742</td>\n      <td id=\"T_f71d8_row5_col30\" class=\"data row5 col30\" >0.679701</td>\n      <td id=\"T_f71d8_row5_col31\" class=\"data row5 col31\" >-0.076198</td>\n      <td id=\"T_f71d8_row5_col32\" class=\"data row5 col32\" >-0.052853</td>\n      <td id=\"T_f71d8_row5_col33\" class=\"data row5 col33\" >-0.215670</td>\n      <td id=\"T_f71d8_row5_col34\" class=\"data row5 col34\" >-0.193373</td>\n      <td id=\"T_f71d8_row5_col35\" class=\"data row5 col35\" >-0.224102</td>\n    </tr>\n    <tr>\n      <th id=\"T_f71d8_level0_row6\" class=\"row_heading level0 row6\" >X_Perimeter</th>\n      <td id=\"T_f71d8_row6_col0\" class=\"data row6 col0\" >-0.010132</td>\n      <td id=\"T_f71d8_row6_col1\" class=\"data row6 col1\" >-0.416996</td>\n      <td id=\"T_f71d8_row6_col2\" class=\"data row6 col2\" >-0.345097</td>\n      <td id=\"T_f71d8_row6_col3\" class=\"data row6 col3\" >-0.008255</td>\n      <td id=\"T_f71d8_row6_col4\" class=\"data row6 col4\" >-0.007923</td>\n      <td id=\"T_f71d8_row6_col5\" class=\"data row6 col5\" >0.857614</td>\n      <td id=\"T_f71d8_row6_col6\" class=\"data row6 col6\" >1.000000</td>\n      <td id=\"T_f71d8_row6_col7\" class=\"data row6 col7\" >0.827148</td>\n      <td id=\"T_f71d8_row6_col8\" class=\"data row6 col8\" >0.812233</td>\n      <td id=\"T_f71d8_row6_col9\" class=\"data row6 col9\" >-0.564509</td>\n      <td id=\"T_f71d8_row6_col10\" class=\"data row6 col10\" >0.149376</td>\n      <td id=\"T_f71d8_row6_col11\" class=\"data row6 col11\" >-0.192137</td>\n      <td id=\"T_f71d8_row6_col12\" class=\"data row6 col12\" >-0.279618</td>\n      <td id=\"T_f71d8_row6_col13\" class=\"data row6 col13\" >0.275926</td>\n      <td id=\"T_f71d8_row6_col14\" class=\"data row6 col14\" >-0.210287</td>\n      <td id=\"T_f71d8_row6_col15\" class=\"data row6 col15\" >-0.306573</td>\n      <td id=\"T_f71d8_row6_col16\" class=\"data row6 col16\" >0.316143</td>\n      <td id=\"T_f71d8_row6_col17\" class=\"data row6 col17\" >0.042389</td>\n      <td id=\"T_f71d8_row6_col18\" class=\"data row6 col18\" >0.706380</td>\n      <td id=\"T_f71d8_row6_col19\" class=\"data row6 col19\" >-0.360579</td>\n      <td id=\"T_f71d8_row6_col20\" class=\"data row6 col20\" >-0.617324</td>\n      <td id=\"T_f71d8_row6_col21\" class=\"data row6 col21\" >-0.158074</td>\n      <td id=\"T_f71d8_row6_col22\" class=\"data row6 col22\" >0.728723</td>\n      <td id=\"T_f71d8_row6_col23\" class=\"data row6 col23\" >0.705425</td>\n      <td id=\"T_f71d8_row6_col24\" class=\"data row6 col24\" >0.636905</td>\n      <td id=\"T_f71d8_row6_col25\" class=\"data row6 col25\" >-0.211858</td>\n      <td id=\"T_f71d8_row6_col26\" class=\"data row6 col26\" >-0.000976</td>\n      <td id=\"T_f71d8_row6_col27\" class=\"data row6 col27\" >0.525865</td>\n      <td id=\"T_f71d8_row6_col28\" class=\"data row6 col28\" >-0.098258</td>\n      <td id=\"T_f71d8_row6_col29\" class=\"data row6 col29\" >-0.067058</td>\n      <td id=\"T_f71d8_row6_col30\" class=\"data row6 col30\" >0.632249</td>\n      <td id=\"T_f71d8_row6_col31\" class=\"data row6 col31\" >-0.080585</td>\n      <td id=\"T_f71d8_row6_col32\" class=\"data row6 col32\" >-0.047448</td>\n      <td id=\"T_f71d8_row6_col33\" class=\"data row6 col33\" >-0.203719</td>\n      <td id=\"T_f71d8_row6_col34\" class=\"data row6 col34\" >-0.176684</td>\n      <td id=\"T_f71d8_row6_col35\" class=\"data row6 col35\" >-0.179783</td>\n    </tr>\n    <tr>\n      <th id=\"T_f71d8_level0_row7\" class=\"row_heading level0 row7\" >Y_Perimeter</th>\n      <td id=\"T_f71d8_row7_col0\" class=\"data row7 col0\" >-0.014202</td>\n      <td id=\"T_f71d8_row7_col1\" class=\"data row7 col1\" >-0.273368</td>\n      <td id=\"T_f71d8_row7_col2\" class=\"data row7 col2\" >-0.226833</td>\n      <td id=\"T_f71d8_row7_col3\" class=\"data row7 col3\" >-0.009776</td>\n      <td id=\"T_f71d8_row7_col4\" class=\"data row7 col4\" >-0.009643</td>\n      <td id=\"T_f71d8_row7_col5\" class=\"data row7 col5\" >0.723819</td>\n      <td id=\"T_f71d8_row7_col6\" class=\"data row7 col6\" >0.827148</td>\n      <td id=\"T_f71d8_row7_col7\" class=\"data row7 col7\" >1.000000</td>\n      <td id=\"T_f71d8_row7_col8\" class=\"data row7 col8\" >0.649113</td>\n      <td id=\"T_f71d8_row7_col9\" class=\"data row7 col9\" >-0.396788</td>\n      <td id=\"T_f71d8_row7_col10\" class=\"data row7 col10\" >0.108737</td>\n      <td id=\"T_f71d8_row7_col11\" class=\"data row7 col11\" >-0.122930</td>\n      <td id=\"T_f71d8_row7_col12\" class=\"data row7 col12\" >-0.196268</td>\n      <td id=\"T_f71d8_row7_col13\" class=\"data row7 col13\" >0.193723</td>\n      <td id=\"T_f71d8_row7_col14\" class=\"data row7 col14\" >-0.121865</td>\n      <td id=\"T_f71d8_row7_col15\" class=\"data row7 col15\" >-0.209857</td>\n      <td id=\"T_f71d8_row7_col16\" class=\"data row7 col16\" >0.241085</td>\n      <td id=\"T_f71d8_row7_col17\" class=\"data row7 col17\" >-0.010220</td>\n      <td id=\"T_f71d8_row7_col18\" class=\"data row7 col18\" >0.451071</td>\n      <td id=\"T_f71d8_row7_col19\" class=\"data row7 col19\" >-0.316253</td>\n      <td id=\"T_f71d8_row7_col20\" class=\"data row7 col20\" >-0.382277</td>\n      <td id=\"T_f71d8_row7_col21\" class=\"data row7 col21\" >-0.043313</td>\n      <td id=\"T_f71d8_row7_col22\" class=\"data row7 col22\" >0.522751</td>\n      <td id=\"T_f71d8_row7_col23\" class=\"data row7 col23\" >0.458069</td>\n      <td id=\"T_f71d8_row7_col24\" class=\"data row7 col24\" >0.521246</td>\n      <td id=\"T_f71d8_row7_col25\" class=\"data row7 col25\" >-0.057319</td>\n      <td id=\"T_f71d8_row7_col26\" class=\"data row7 col26\" >-0.016574</td>\n      <td id=\"T_f71d8_row7_col27\" class=\"data row7 col27\" >0.393426</td>\n      <td id=\"T_f71d8_row7_col28\" class=\"data row7 col28\" >-0.041093</td>\n      <td id=\"T_f71d8_row7_col29\" class=\"data row7 col29\" >-0.040526</td>\n      <td id=\"T_f71d8_row7_col30\" class=\"data row7 col30\" >0.409202</td>\n      <td id=\"T_f71d8_row7_col31\" class=\"data row7 col31\" >-0.065565</td>\n      <td id=\"T_f71d8_row7_col32\" class=\"data row7 col32\" >-0.013326</td>\n      <td id=\"T_f71d8_row7_col33\" class=\"data row7 col33\" >-0.147243</td>\n      <td id=\"T_f71d8_row7_col34\" class=\"data row7 col34\" >-0.115527</td>\n      <td id=\"T_f71d8_row7_col35\" class=\"data row7 col35\" >-0.095054</td>\n    </tr>\n    <tr>\n      <th id=\"T_f71d8_level0_row8\" class=\"row_heading level0 row8\" >Sum_of_Luminosity</th>\n      <td id=\"T_f71d8_row8_col0\" class=\"data row8 col0\" >-0.001259</td>\n      <td id=\"T_f71d8_row8_col1\" class=\"data row8 col1\" >-0.419655</td>\n      <td id=\"T_f71d8_row8_col2\" class=\"data row8 col2\" >-0.350244</td>\n      <td id=\"T_f71d8_row8_col3\" class=\"data row8 col3\" >-0.006925</td>\n      <td id=\"T_f71d8_row8_col4\" class=\"data row8 col4\" >-0.006562</td>\n      <td id=\"T_f71d8_row8_col5\" class=\"data row8 col5\" >0.821540</td>\n      <td id=\"T_f71d8_row8_col6\" class=\"data row8 col6\" >0.812233</td>\n      <td id=\"T_f71d8_row8_col7\" class=\"data row8 col7\" >0.649113</td>\n      <td id=\"T_f71d8_row8_col8\" class=\"data row8 col8\" >1.000000</td>\n      <td id=\"T_f71d8_row8_col9\" class=\"data row8 col9\" >-0.576159</td>\n      <td id=\"T_f71d8_row8_col10\" class=\"data row8 col10\" >0.129725</td>\n      <td id=\"T_f71d8_row8_col11\" class=\"data row8 col11\" >-0.191466</td>\n      <td id=\"T_f71d8_row8_col12\" class=\"data row8 col12\" >-0.279835</td>\n      <td id=\"T_f71d8_row8_col13\" class=\"data row8 col13\" >0.276216</td>\n      <td id=\"T_f71d8_row8_col14\" class=\"data row8 col14\" >-0.213669</td>\n      <td id=\"T_f71d8_row8_col15\" class=\"data row8 col15\" >-0.307805</td>\n      <td id=\"T_f71d8_row8_col16\" class=\"data row8 col16\" >0.274041</td>\n      <td id=\"T_f71d8_row8_col17\" class=\"data row8 col17\" >0.033814</td>\n      <td id=\"T_f71d8_row8_col18\" class=\"data row8 col18\" >0.697935</td>\n      <td id=\"T_f71d8_row8_col19\" class=\"data row8 col19\" >-0.316534</td>\n      <td id=\"T_f71d8_row8_col20\" class=\"data row8 col20\" >-0.599422</td>\n      <td id=\"T_f71d8_row8_col21\" class=\"data row8 col21\" >-0.171085</td>\n      <td id=\"T_f71d8_row8_col22\" class=\"data row8 col22\" >0.724516</td>\n      <td id=\"T_f71d8_row8_col23\" class=\"data row8 col23\" >0.694342</td>\n      <td id=\"T_f71d8_row8_col24\" class=\"data row8 col24\" >0.616013</td>\n      <td id=\"T_f71d8_row8_col25\" class=\"data row8 col25\" >-0.226381</td>\n      <td id=\"T_f71d8_row8_col26\" class=\"data row8 col26\" >-0.013713</td>\n      <td id=\"T_f71d8_row8_col27\" class=\"data row8 col27\" >0.513961</td>\n      <td id=\"T_f71d8_row8_col28\" class=\"data row8 col28\" >-0.092089</td>\n      <td id=\"T_f71d8_row8_col29\" class=\"data row8 col29\" >-0.064202</td>\n      <td id=\"T_f71d8_row8_col30\" class=\"data row8 col30\" >0.637736</td>\n      <td id=\"T_f71d8_row8_col31\" class=\"data row8 col31\" >-0.074559</td>\n      <td id=\"T_f71d8_row8_col32\" class=\"data row8 col32\" >-0.047580</td>\n      <td id=\"T_f71d8_row8_col33\" class=\"data row8 col33\" >-0.204360</td>\n      <td id=\"T_f71d8_row8_col34\" class=\"data row8 col34\" >-0.186663</td>\n      <td id=\"T_f71d8_row8_col35\" class=\"data row8 col35\" >-0.250384</td>\n    </tr>\n    <tr>\n      <th id=\"T_f71d8_level0_row9\" class=\"row_heading level0 row9\" >Minimum_of_Luminosity</th>\n      <td id=\"T_f71d8_row9_col0\" class=\"data row9 col0\" >0.009111</td>\n      <td id=\"T_f71d8_row9_col1\" class=\"data row9 col1\" >0.326816</td>\n      <td id=\"T_f71d8_row9_col2\" class=\"data row9 col2\" >0.264023</td>\n      <td id=\"T_f71d8_row9_col3\" class=\"data row9 col3\" >-0.021800</td>\n      <td id=\"T_f71d8_row9_col4\" class=\"data row9 col4\" >-0.023101</td>\n      <td id=\"T_f71d8_row9_col5\" class=\"data row9 col5\" >-0.604210</td>\n      <td id=\"T_f71d8_row9_col6\" class=\"data row9 col6\" >-0.564509</td>\n      <td id=\"T_f71d8_row9_col7\" class=\"data row9 col7\" >-0.396788</td>\n      <td id=\"T_f71d8_row9_col8\" class=\"data row9 col8\" >-0.576159</td>\n      <td id=\"T_f71d8_row9_col9\" class=\"data row9 col9\" >1.000000</td>\n      <td id=\"T_f71d8_row9_col10\" class=\"data row9 col10\" >0.400558</td>\n      <td id=\"T_f71d8_row9_col11\" class=\"data row9 col11\" >0.014359</td>\n      <td id=\"T_f71d8_row9_col12\" class=\"data row9 col12\" >0.097534</td>\n      <td id=\"T_f71d8_row9_col13\" class=\"data row9 col13\" >-0.094915</td>\n      <td id=\"T_f71d8_row9_col14\" class=\"data row9 col14\" >0.130642</td>\n      <td id=\"T_f71d8_row9_col15\" class=\"data row9 col15\" >0.393644</td>\n      <td id=\"T_f71d8_row9_col16\" class=\"data row9 col16\" >-0.090395</td>\n      <td id=\"T_f71d8_row9_col17\" class=\"data row9 col17\" >0.063338</td>\n      <td id=\"T_f71d8_row9_col18\" class=\"data row9 col18\" >-0.619509</td>\n      <td id=\"T_f71d8_row9_col19\" class=\"data row9 col19\" >0.236535</td>\n      <td id=\"T_f71d8_row9_col20\" class=\"data row9 col20\" >0.451585</td>\n      <td id=\"T_f71d8_row9_col21\" class=\"data row9 col21\" >0.104642</td>\n      <td id=\"T_f71d8_row9_col22\" class=\"data row9 col22\" >-0.689909</td>\n      <td id=\"T_f71d8_row9_col23\" class=\"data row9 col23\" >-0.630213</td>\n      <td id=\"T_f71d8_row9_col24\" class=\"data row9 col24\" >-0.585527</td>\n      <td id=\"T_f71d8_row9_col25\" class=\"data row9 col25\" >0.166674</td>\n      <td id=\"T_f71d8_row9_col26\" class=\"data row9 col26\" >0.624846</td>\n      <td id=\"T_f71d8_row9_col27\" class=\"data row9 col27\" >-0.505547</td>\n      <td id=\"T_f71d8_row9_col28\" class=\"data row9 col28\" >-0.011920</td>\n      <td id=\"T_f71d8_row9_col29\" class=\"data row9 col29\" >0.059535</td>\n      <td id=\"T_f71d8_row9_col30\" class=\"data row9 col30\" >-0.573515</td>\n      <td id=\"T_f71d8_row9_col31\" class=\"data row9 col31\" >0.168755</td>\n      <td id=\"T_f71d8_row9_col32\" class=\"data row9 col32\" >0.078997</td>\n      <td id=\"T_f71d8_row9_col33\" class=\"data row9 col33\" >0.128873</td>\n      <td id=\"T_f71d8_row9_col34\" class=\"data row9 col34\" >0.210696</td>\n      <td id=\"T_f71d8_row9_col35\" class=\"data row9 col35\" >0.277403</td>\n    </tr>\n    <tr>\n      <th id=\"T_f71d8_level0_row10\" class=\"row_heading level0 row10\" >Maximum_of_Luminosity</th>\n      <td id=\"T_f71d8_row10_col0\" class=\"data row10 col0\" >-0.013472</td>\n      <td id=\"T_f71d8_row10_col1\" class=\"data row10 col1\" >-0.127655</td>\n      <td id=\"T_f71d8_row10_col2\" class=\"data row10 col2\" >-0.123269</td>\n      <td id=\"T_f71d8_row10_col3\" class=\"data row10 col3\" >-0.034116</td>\n      <td id=\"T_f71d8_row10_col4\" class=\"data row10 col4\" >-0.033372</td>\n      <td id=\"T_f71d8_row10_col5\" class=\"data row10 col5\" >0.127699</td>\n      <td id=\"T_f71d8_row10_col6\" class=\"data row10 col6\" >0.149376</td>\n      <td id=\"T_f71d8_row10_col7\" class=\"data row10 col7\" >0.108737</td>\n      <td id=\"T_f71d8_row10_col8\" class=\"data row10 col8\" >0.129725</td>\n      <td id=\"T_f71d8_row10_col9\" class=\"data row10 col9\" >0.400558</td>\n      <td id=\"T_f71d8_row10_col10\" class=\"data row10 col10\" >1.000000</td>\n      <td id=\"T_f71d8_row10_col11\" class=\"data row10 col11\" >-0.170916</td>\n      <td id=\"T_f71d8_row10_col12\" class=\"data row10 col12\" >-0.219608</td>\n      <td id=\"T_f71d8_row10_col13\" class=\"data row10 col13\" >0.218740</td>\n      <td id=\"T_f71d8_row10_col14\" class=\"data row10 col14\" >-0.114782</td>\n      <td id=\"T_f71d8_row10_col15\" class=\"data row10 col15\" >0.151910</td>\n      <td id=\"T_f71d8_row10_col16\" class=\"data row10 col16\" >0.099077</td>\n      <td id=\"T_f71d8_row10_col17\" class=\"data row10 col17\" >0.061639</td>\n      <td id=\"T_f71d8_row10_col18\" class=\"data row10 col18\" >0.078556</td>\n      <td id=\"T_f71d8_row10_col19\" class=\"data row10 col19\" >-0.001200</td>\n      <td id=\"T_f71d8_row10_col20\" class=\"data row10 col20\" >-0.155236</td>\n      <td id=\"T_f71d8_row10_col21\" class=\"data row10 col21\" >-0.120310</td>\n      <td id=\"T_f71d8_row10_col22\" class=\"data row10 col22\" >0.030211</td>\n      <td id=\"T_f71d8_row10_col23\" class=\"data row10 col23\" >0.081164</td>\n      <td id=\"T_f71d8_row10_col24\" class=\"data row10 col24\" >-0.004663</td>\n      <td id=\"T_f71d8_row10_col25\" class=\"data row10 col25\" >-0.120177</td>\n      <td id=\"T_f71d8_row10_col26\" class=\"data row10 col26\" >0.855941</td>\n      <td id=\"T_f71d8_row10_col27\" class=\"data row10 col27\" >0.011860</td>\n      <td id=\"T_f71d8_row10_col28\" class=\"data row10 col28\" >-0.082324</td>\n      <td id=\"T_f71d8_row10_col29\" class=\"data row10 col29\" >-0.091497</td>\n      <td id=\"T_f71d8_row10_col30\" class=\"data row10 col30\" >0.129673</td>\n      <td id=\"T_f71d8_row10_col31\" class=\"data row10 col31\" >0.112669</td>\n      <td id=\"T_f71d8_row10_col32\" class=\"data row10 col32\" >0.020788</td>\n      <td id=\"T_f71d8_row10_col33\" class=\"data row10 col33\" >-0.067735</td>\n      <td id=\"T_f71d8_row10_col34\" class=\"data row10 col34\" >-0.008162</td>\n      <td id=\"T_f71d8_row10_col35\" class=\"data row10 col35\" >0.024107</td>\n    </tr>\n    <tr>\n      <th id=\"T_f71d8_level0_row11\" class=\"row_heading level0 row11\" >Length_of_Conveyer</th>\n      <td id=\"T_f71d8_row11_col0\" class=\"data row11 col0\" >0.000503</td>\n      <td id=\"T_f71d8_row11_col1\" class=\"data row11 col1\" >0.308597</td>\n      <td id=\"T_f71d8_row11_col2\" class=\"data row11 col2\" >0.293131</td>\n      <td id=\"T_f71d8_row11_col3\" class=\"data row11 col3\" >0.010967</td>\n      <td id=\"T_f71d8_row11_col4\" class=\"data row11 col4\" >0.010168</td>\n      <td id=\"T_f71d8_row11_col5\" class=\"data row11 col5\" >-0.200648</td>\n      <td id=\"T_f71d8_row11_col6\" class=\"data row11 col6\" >-0.192137</td>\n      <td id=\"T_f71d8_row11_col7\" class=\"data row11 col7\" >-0.122930</td>\n      <td id=\"T_f71d8_row11_col8\" class=\"data row11 col8\" >-0.191466</td>\n      <td id=\"T_f71d8_row11_col9\" class=\"data row11 col9\" >0.014359</td>\n      <td id=\"T_f71d8_row11_col10\" class=\"data row11 col10\" >-0.170916</td>\n      <td id=\"T_f71d8_row11_col11\" class=\"data row11 col11\" >1.000000</td>\n      <td id=\"T_f71d8_row11_col12\" class=\"data row11 col12\" >0.429779</td>\n      <td id=\"T_f71d8_row11_col13\" class=\"data row11 col13\" >-0.428670</td>\n      <td id=\"T_f71d8_row11_col14\" class=\"data row11 col14\" >0.240598</td>\n      <td id=\"T_f71d8_row11_col15\" class=\"data row11 col15\" >0.080805</td>\n      <td id=\"T_f71d8_row11_col16\" class=\"data row11 col16\" >-0.250360</td>\n      <td id=\"T_f71d8_row11_col17\" class=\"data row11 col17\" >0.091842</td>\n      <td id=\"T_f71d8_row11_col18\" class=\"data row11 col18\" >-0.265643</td>\n      <td id=\"T_f71d8_row11_col19\" class=\"data row11 col19\" >0.111951</td>\n      <td id=\"T_f71d8_row11_col20\" class=\"data row11 col20\" >0.290761</td>\n      <td id=\"T_f71d8_row11_col21\" class=\"data row11 col21\" >0.177787</td>\n      <td id=\"T_f71d8_row11_col22\" class=\"data row11 col22\" >-0.249140</td>\n      <td id=\"T_f71d8_row11_col23\" class=\"data row11 col23\" >-0.281568</td>\n      <td id=\"T_f71d8_row11_col24\" class=\"data row11 col24\" >-0.191320</td>\n      <td id=\"T_f71d8_row11_col25\" class=\"data row11 col25\" >0.175148</td>\n      <td id=\"T_f71d8_row11_col26\" class=\"data row11 col26\" >-0.203264</td>\n      <td id=\"T_f71d8_row11_col27\" class=\"data row11 col27\" >-0.254599</td>\n      <td id=\"T_f71d8_row11_col28\" class=\"data row11 col28\" >0.162171</td>\n      <td id=\"T_f71d8_row11_col29\" class=\"data row11 col29\" >-0.174578</td>\n      <td id=\"T_f71d8_row11_col30\" class=\"data row11 col30\" >-0.271448</td>\n      <td id=\"T_f71d8_row11_col31\" class=\"data row11 col31\" >-0.112989</td>\n      <td id=\"T_f71d8_row11_col32\" class=\"data row11 col32\" >-0.052616</td>\n      <td id=\"T_f71d8_row11_col33\" class=\"data row11 col33\" >0.187347</td>\n      <td id=\"T_f71d8_row11_col34\" class=\"data row11 col34\" >0.111445</td>\n      <td id=\"T_f71d8_row11_col35\" class=\"data row11 col35\" >0.142748</td>\n    </tr>\n    <tr>\n      <th id=\"T_f71d8_level0_row12\" class=\"row_heading level0 row12\" >TypeOfSteel_A300</th>\n      <td id=\"T_f71d8_row12_col0\" class=\"data row12 col0\" >0.001133</td>\n      <td id=\"T_f71d8_row12_col1\" class=\"data row12 col1\" >0.212828</td>\n      <td id=\"T_f71d8_row12_col2\" class=\"data row12 col2\" >0.182250</td>\n      <td id=\"T_f71d8_row12_col3\" class=\"data row12 col3\" >0.047404</td>\n      <td id=\"T_f71d8_row12_col4\" class=\"data row12 col4\" >0.047492</td>\n      <td id=\"T_f71d8_row12_col5\" class=\"data row12 col5\" >-0.294452</td>\n      <td id=\"T_f71d8_row12_col6\" class=\"data row12 col6\" >-0.279618</td>\n      <td id=\"T_f71d8_row12_col7\" class=\"data row12 col7\" >-0.196268</td>\n      <td id=\"T_f71d8_row12_col8\" class=\"data row12 col8\" >-0.279835</td>\n      <td id=\"T_f71d8_row12_col9\" class=\"data row12 col9\" >0.097534</td>\n      <td id=\"T_f71d8_row12_col10\" class=\"data row12 col10\" >-0.219608</td>\n      <td id=\"T_f71d8_row12_col11\" class=\"data row12 col11\" >0.429779</td>\n      <td id=\"T_f71d8_row12_col12\" class=\"data row12 col12\" >1.000000</td>\n      <td id=\"T_f71d8_row12_col13\" class=\"data row12 col13\" >-0.997939</td>\n      <td id=\"T_f71d8_row12_col14\" class=\"data row12 col14\" >0.161241</td>\n      <td id=\"T_f71d8_row12_col15\" class=\"data row12 col15\" >0.117226</td>\n      <td id=\"T_f71d8_row12_col16\" class=\"data row12 col16\" >-0.140638</td>\n      <td id=\"T_f71d8_row12_col17\" class=\"data row12 col17\" >0.175420</td>\n      <td id=\"T_f71d8_row12_col18\" class=\"data row12 col18\" >-0.322364</td>\n      <td id=\"T_f71d8_row12_col19\" class=\"data row12 col19\" >0.195555</td>\n      <td id=\"T_f71d8_row12_col20\" class=\"data row12 col20\" >0.281911</td>\n      <td id=\"T_f71d8_row12_col21\" class=\"data row12 col21\" >0.058616</td>\n      <td id=\"T_f71d8_row12_col22\" class=\"data row12 col22\" >-0.359747</td>\n      <td id=\"T_f71d8_row12_col23\" class=\"data row12 col23\" >-0.316679</td>\n      <td id=\"T_f71d8_row12_col24\" class=\"data row12 col24\" >-0.332248</td>\n      <td id=\"T_f71d8_row12_col25\" class=\"data row12 col25\" >0.060564</td>\n      <td id=\"T_f71d8_row12_col26\" class=\"data row12 col26\" >-0.219059</td>\n      <td id=\"T_f71d8_row12_col27\" class=\"data row12 col27\" >-0.343292</td>\n      <td id=\"T_f71d8_row12_col28\" class=\"data row12 col28\" >-0.011799</td>\n      <td id=\"T_f71d8_row12_col29\" class=\"data row12 col29\" >0.206037</td>\n      <td id=\"T_f71d8_row12_col30\" class=\"data row12 col30\" >-0.378118</td>\n      <td id=\"T_f71d8_row12_col31\" class=\"data row12 col31\" >-0.125242</td>\n      <td id=\"T_f71d8_row12_col32\" class=\"data row12 col32\" >-0.080254</td>\n      <td id=\"T_f71d8_row12_col33\" class=\"data row12 col33\" >0.251118</td>\n      <td id=\"T_f71d8_row12_col34\" class=\"data row12 col34\" >0.058077</td>\n      <td id=\"T_f71d8_row12_col35\" class=\"data row12 col35\" >0.054129</td>\n    </tr>\n    <tr>\n      <th id=\"T_f71d8_level0_row13\" class=\"row_heading level0 row13\" >TypeOfSteel_A400</th>\n      <td id=\"T_f71d8_row13_col0\" class=\"data row13 col0\" >-0.002606</td>\n      <td id=\"T_f71d8_row13_col1\" class=\"data row13 col1\" >-0.211033</td>\n      <td id=\"T_f71d8_row13_col2\" class=\"data row13 col2\" >-0.180696</td>\n      <td id=\"T_f71d8_row13_col3\" class=\"data row13 col3\" >-0.047007</td>\n      <td id=\"T_f71d8_row13_col4\" class=\"data row13 col4\" >-0.047101</td>\n      <td id=\"T_f71d8_row13_col5\" class=\"data row13 col5\" >0.290686</td>\n      <td id=\"T_f71d8_row13_col6\" class=\"data row13 col6\" >0.275926</td>\n      <td id=\"T_f71d8_row13_col7\" class=\"data row13 col7\" >0.193723</td>\n      <td id=\"T_f71d8_row13_col8\" class=\"data row13 col8\" >0.276216</td>\n      <td id=\"T_f71d8_row13_col9\" class=\"data row13 col9\" >-0.094915</td>\n      <td id=\"T_f71d8_row13_col10\" class=\"data row13 col10\" >0.218740</td>\n      <td id=\"T_f71d8_row13_col11\" class=\"data row13 col11\" >-0.428670</td>\n      <td id=\"T_f71d8_row13_col12\" class=\"data row13 col12\" >-0.997939</td>\n      <td id=\"T_f71d8_row13_col13\" class=\"data row13 col13\" >1.000000</td>\n      <td id=\"T_f71d8_row13_col14\" class=\"data row13 col14\" >-0.159966</td>\n      <td id=\"T_f71d8_row13_col15\" class=\"data row13 col15\" >-0.115762</td>\n      <td id=\"T_f71d8_row13_col16\" class=\"data row13 col16\" >0.139537</td>\n      <td id=\"T_f71d8_row13_col17\" class=\"data row13 col17\" >-0.175742</td>\n      <td id=\"T_f71d8_row13_col18\" class=\"data row13 col18\" >0.319520</td>\n      <td id=\"T_f71d8_row13_col19\" class=\"data row13 col19\" >-0.193975</td>\n      <td id=\"T_f71d8_row13_col20\" class=\"data row13 col20\" >-0.279140</td>\n      <td id=\"T_f71d8_row13_col21\" class=\"data row13 col21\" >-0.058151</td>\n      <td id=\"T_f71d8_row13_col22\" class=\"data row13 col22\" >0.356555</td>\n      <td id=\"T_f71d8_row13_col23\" class=\"data row13 col23\" >0.313960</td>\n      <td id=\"T_f71d8_row13_col24\" class=\"data row13 col24\" >0.329718</td>\n      <td id=\"T_f71d8_row13_col25\" class=\"data row13 col25\" >-0.060238</td>\n      <td id=\"T_f71d8_row13_col26\" class=\"data row13 col26\" >0.218676</td>\n      <td id=\"T_f71d8_row13_col27\" class=\"data row13 col27\" >0.341034</td>\n      <td id=\"T_f71d8_row13_col28\" class=\"data row13 col28\" >0.011960</td>\n      <td id=\"T_f71d8_row13_col29\" class=\"data row13 col29\" >-0.205486</td>\n      <td id=\"T_f71d8_row13_col30\" class=\"data row13 col30\" >0.375084</td>\n      <td id=\"T_f71d8_row13_col31\" class=\"data row13 col31\" >0.124957</td>\n      <td id=\"T_f71d8_row13_col32\" class=\"data row13 col32\" >0.080521</td>\n      <td id=\"T_f71d8_row13_col33\" class=\"data row13 col33\" >-0.249987</td>\n      <td id=\"T_f71d8_row13_col34\" class=\"data row13 col34\" >-0.057347</td>\n      <td id=\"T_f71d8_row13_col35\" class=\"data row13 col35\" >-0.054129</td>\n    </tr>\n    <tr>\n      <th id=\"T_f71d8_level0_row14\" class=\"row_heading level0 row14\" >Steel_Plate_Thickness</th>\n      <td id=\"T_f71d8_row14_col0\" class=\"data row14 col0\" >0.003150</td>\n      <td id=\"T_f71d8_row14_col1\" class=\"data row14 col1\" >0.182414</td>\n      <td id=\"T_f71d8_row14_col2\" class=\"data row14 col2\" >0.157764</td>\n      <td id=\"T_f71d8_row14_col3\" class=\"data row14 col3\" >-0.068177</td>\n      <td id=\"T_f71d8_row14_col4\" class=\"data row14 col4\" >-0.072134</td>\n      <td id=\"T_f71d8_row14_col5\" class=\"data row14 col5\" >-0.224967</td>\n      <td id=\"T_f71d8_row14_col6\" class=\"data row14 col6\" >-0.210287</td>\n      <td id=\"T_f71d8_row14_col7\" class=\"data row14 col7\" >-0.121865</td>\n      <td id=\"T_f71d8_row14_col8\" class=\"data row14 col8\" >-0.213669</td>\n      <td id=\"T_f71d8_row14_col9\" class=\"data row14 col9\" >0.130642</td>\n      <td id=\"T_f71d8_row14_col10\" class=\"data row14 col10\" >-0.114782</td>\n      <td id=\"T_f71d8_row14_col11\" class=\"data row14 col11\" >0.240598</td>\n      <td id=\"T_f71d8_row14_col12\" class=\"data row14 col12\" >0.161241</td>\n      <td id=\"T_f71d8_row14_col13\" class=\"data row14 col13\" >-0.159966</td>\n      <td id=\"T_f71d8_row14_col14\" class=\"data row14 col14\" >1.000000</td>\n      <td id=\"T_f71d8_row14_col15\" class=\"data row14 col15\" >0.083334</td>\n      <td id=\"T_f71d8_row14_col16\" class=\"data row14 col16\" >-0.053938</td>\n      <td id=\"T_f71d8_row14_col17\" class=\"data row14 col17\" >-0.055867</td>\n      <td id=\"T_f71d8_row14_col18\" class=\"data row14 col18\" >-0.264501</td>\n      <td id=\"T_f71d8_row14_col19\" class=\"data row14 col19\" >-0.040953</td>\n      <td id=\"T_f71d8_row14_col20\" class=\"data row14 col20\" >0.254844</td>\n      <td id=\"T_f71d8_row14_col21\" class=\"data row14 col21\" >0.202436</td>\n      <td id=\"T_f71d8_row14_col22\" class=\"data row14 col22\" >-0.199686</td>\n      <td id=\"T_f71d8_row14_col23\" class=\"data row14 col23\" >-0.266026</td>\n      <td id=\"T_f71d8_row14_col24\" class=\"data row14 col24\" >-0.088358</td>\n      <td id=\"T_f71d8_row14_col25\" class=\"data row14 col25\" >0.243906</td>\n      <td id=\"T_f71d8_row14_col26\" class=\"data row14 col26\" >-0.103261</td>\n      <td id=\"T_f71d8_row14_col27\" class=\"data row14 col27\" >-0.121345</td>\n      <td id=\"T_f71d8_row14_col28\" class=\"data row14 col28\" >0.079771</td>\n      <td id=\"T_f71d8_row14_col29\" class=\"data row14 col29\" >-0.011594</td>\n      <td id=\"T_f71d8_row14_col30\" class=\"data row14 col30\" >-0.307523</td>\n      <td id=\"T_f71d8_row14_col31\" class=\"data row14 col31\" >-0.081620</td>\n      <td id=\"T_f71d8_row14_col32\" class=\"data row14 col32\" >0.012443</td>\n      <td id=\"T_f71d8_row14_col33\" class=\"data row14 col33\" >0.005859</td>\n      <td id=\"T_f71d8_row14_col34\" class=\"data row14 col34\" >0.213510</td>\n      <td id=\"T_f71d8_row14_col35\" class=\"data row14 col35\" >0.265582</td>\n    </tr>\n    <tr>\n      <th id=\"T_f71d8_level0_row15\" class=\"row_heading level0 row15\" >Edges_Index</th>\n      <td id=\"T_f71d8_row15_col0\" class=\"data row15 col0\" >0.001510</td>\n      <td id=\"T_f71d8_row15_col1\" class=\"data row15 col1\" >0.177677</td>\n      <td id=\"T_f71d8_row15_col2\" class=\"data row15 col2\" >0.140593</td>\n      <td id=\"T_f71d8_row15_col3\" class=\"data row15 col3\" >0.035152</td>\n      <td id=\"T_f71d8_row15_col4\" class=\"data row15 col4\" >0.033726</td>\n      <td id=\"T_f71d8_row15_col5\" class=\"data row15 col5\" >-0.327703</td>\n      <td id=\"T_f71d8_row15_col6\" class=\"data row15 col6\" >-0.306573</td>\n      <td id=\"T_f71d8_row15_col7\" class=\"data row15 col7\" >-0.209857</td>\n      <td id=\"T_f71d8_row15_col8\" class=\"data row15 col8\" >-0.307805</td>\n      <td id=\"T_f71d8_row15_col9\" class=\"data row15 col9\" >0.393644</td>\n      <td id=\"T_f71d8_row15_col10\" class=\"data row15 col10\" >0.151910</td>\n      <td id=\"T_f71d8_row15_col11\" class=\"data row15 col11\" >0.080805</td>\n      <td id=\"T_f71d8_row15_col12\" class=\"data row15 col12\" >0.117226</td>\n      <td id=\"T_f71d8_row15_col13\" class=\"data row15 col13\" >-0.115762</td>\n      <td id=\"T_f71d8_row15_col14\" class=\"data row15 col14\" >0.083334</td>\n      <td id=\"T_f71d8_row15_col15\" class=\"data row15 col15\" >1.000000</td>\n      <td id=\"T_f71d8_row15_col16\" class=\"data row15 col16\" >-0.175289</td>\n      <td id=\"T_f71d8_row15_col17\" class=\"data row15 col17\" >0.123314</td>\n      <td id=\"T_f71d8_row15_col18\" class=\"data row15 col18\" >-0.354356</td>\n      <td id=\"T_f71d8_row15_col19\" class=\"data row15 col19\" >0.226435</td>\n      <td id=\"T_f71d8_row15_col20\" class=\"data row15 col20\" >0.311053</td>\n      <td id=\"T_f71d8_row15_col21\" class=\"data row15 col21\" >0.045105</td>\n      <td id=\"T_f71d8_row15_col22\" class=\"data row15 col22\" >-0.419197</td>\n      <td id=\"T_f71d8_row15_col23\" class=\"data row15 col23\" >-0.381333</td>\n      <td id=\"T_f71d8_row15_col24\" class=\"data row15 col24\" >-0.373095</td>\n      <td id=\"T_f71d8_row15_col25\" class=\"data row15 col25\" >0.075106</td>\n      <td id=\"T_f71d8_row15_col26\" class=\"data row15 col26\" >0.211772</td>\n      <td id=\"T_f71d8_row15_col27\" class=\"data row15 col27\" >-0.349123</td>\n      <td id=\"T_f71d8_row15_col28\" class=\"data row15 col28\" >-0.020366</td>\n      <td id=\"T_f71d8_row15_col29\" class=\"data row15 col29\" >-0.090827</td>\n      <td id=\"T_f71d8_row15_col30\" class=\"data row15 col30\" >-0.356053</td>\n      <td id=\"T_f71d8_row15_col31\" class=\"data row15 col31\" >0.145206</td>\n      <td id=\"T_f71d8_row15_col32\" class=\"data row15 col32\" >0.068766</td>\n      <td id=\"T_f71d8_row15_col33\" class=\"data row15 col33\" >0.196283</td>\n      <td id=\"T_f71d8_row15_col34\" class=\"data row15 col34\" >0.079959</td>\n      <td id=\"T_f71d8_row15_col35\" class=\"data row15 col35\" >0.207683</td>\n    </tr>\n    <tr>\n      <th id=\"T_f71d8_level0_row16\" class=\"row_heading level0 row16\" >Empty_Index</th>\n      <td id=\"T_f71d8_row16_col0\" class=\"data row16 col0\" >-0.004122</td>\n      <td id=\"T_f71d8_row16_col1\" class=\"data row16 col1\" >-0.178091</td>\n      <td id=\"T_f71d8_row16_col2\" class=\"data row16 col2\" >-0.147168</td>\n      <td id=\"T_f71d8_row16_col3\" class=\"data row16 col3\" >-0.034951</td>\n      <td id=\"T_f71d8_row16_col4\" class=\"data row16 col4\" >-0.034075</td>\n      <td id=\"T_f71d8_row16_col5\" class=\"data row16 col5\" >0.269068</td>\n      <td id=\"T_f71d8_row16_col6\" class=\"data row16 col6\" >0.316143</td>\n      <td id=\"T_f71d8_row16_col7\" class=\"data row16 col7\" >0.241085</td>\n      <td id=\"T_f71d8_row16_col8\" class=\"data row16 col8\" >0.274041</td>\n      <td id=\"T_f71d8_row16_col9\" class=\"data row16 col9\" >-0.090395</td>\n      <td id=\"T_f71d8_row16_col10\" class=\"data row16 col10\" >0.099077</td>\n      <td id=\"T_f71d8_row16_col11\" class=\"data row16 col11\" >-0.250360</td>\n      <td id=\"T_f71d8_row16_col12\" class=\"data row16 col12\" >-0.140638</td>\n      <td id=\"T_f71d8_row16_col13\" class=\"data row16 col13\" >0.139537</td>\n      <td id=\"T_f71d8_row16_col14\" class=\"data row16 col14\" >-0.053938</td>\n      <td id=\"T_f71d8_row16_col15\" class=\"data row16 col15\" >-0.175289</td>\n      <td id=\"T_f71d8_row16_col16\" class=\"data row16 col16\" >1.000000</td>\n      <td id=\"T_f71d8_row16_col17\" class=\"data row16 col17\" >-0.120179</td>\n      <td id=\"T_f71d8_row16_col18\" class=\"data row16 col18\" >0.298221</td>\n      <td id=\"T_f71d8_row16_col19\" class=\"data row16 col19\" >-0.330693</td>\n      <td id=\"T_f71d8_row16_col20\" class=\"data row16 col20\" >-0.464986</td>\n      <td id=\"T_f71d8_row16_col21\" class=\"data row16 col21\" >-0.201604</td>\n      <td id=\"T_f71d8_row16_col22\" class=\"data row16 col22\" >0.377089</td>\n      <td id=\"T_f71d8_row16_col23\" class=\"data row16 col23\" >0.424386</td>\n      <td id=\"T_f71d8_row16_col24\" class=\"data row16 col24\" >0.364617</td>\n      <td id=\"T_f71d8_row16_col25\" class=\"data row16 col25\" >-0.175171</td>\n      <td id=\"T_f71d8_row16_col26\" class=\"data row16 col26\" >0.082382</td>\n      <td id=\"T_f71d8_row16_col27\" class=\"data row16 col27\" >0.480214</td>\n      <td id=\"T_f71d8_row16_col28\" class=\"data row16 col28\" >-0.138816</td>\n      <td id=\"T_f71d8_row16_col29\" class=\"data row16 col29\" >0.091214</td>\n      <td id=\"T_f71d8_row16_col30\" class=\"data row16 col30\" >0.199645</td>\n      <td id=\"T_f71d8_row16_col31\" class=\"data row16 col31\" >-0.059314</td>\n      <td id=\"T_f71d8_row16_col32\" class=\"data row16 col32\" >-0.011697</td>\n      <td id=\"T_f71d8_row16_col33\" class=\"data row16 col33\" >-0.137381</td>\n      <td id=\"T_f71d8_row16_col34\" class=\"data row16 col34\" >0.009534</td>\n      <td id=\"T_f71d8_row16_col35\" class=\"data row16 col35\" >0.036218</td>\n    </tr>\n    <tr>\n      <th id=\"T_f71d8_level0_row17\" class=\"row_heading level0 row17\" >Square_Index</th>\n      <td id=\"T_f71d8_row17_col0\" class=\"data row17 col0\" >0.008061</td>\n      <td id=\"T_f71d8_row17_col1\" class=\"data row17 col1\" >0.047493</td>\n      <td id=\"T_f71d8_row17_col2\" class=\"data row17 col2\" >0.036612</td>\n      <td id=\"T_f71d8_row17_col3\" class=\"data row17 col3\" >0.030459</td>\n      <td id=\"T_f71d8_row17_col4\" class=\"data row17 col4\" >0.030991</td>\n      <td id=\"T_f71d8_row17_col5\" class=\"data row17 col5\" >0.023619</td>\n      <td id=\"T_f71d8_row17_col6\" class=\"data row17 col6\" >0.042389</td>\n      <td id=\"T_f71d8_row17_col7\" class=\"data row17 col7\" >-0.010220</td>\n      <td id=\"T_f71d8_row17_col8\" class=\"data row17 col8\" >0.033814</td>\n      <td id=\"T_f71d8_row17_col9\" class=\"data row17 col9\" >0.063338</td>\n      <td id=\"T_f71d8_row17_col10\" class=\"data row17 col10\" >0.061639</td>\n      <td id=\"T_f71d8_row17_col11\" class=\"data row17 col11\" >0.091842</td>\n      <td id=\"T_f71d8_row17_col12\" class=\"data row17 col12\" >0.175420</td>\n      <td id=\"T_f71d8_row17_col13\" class=\"data row17 col13\" >-0.175742</td>\n      <td id=\"T_f71d8_row17_col14\" class=\"data row17 col14\" >-0.055867</td>\n      <td id=\"T_f71d8_row17_col15\" class=\"data row17 col15\" >0.123314</td>\n      <td id=\"T_f71d8_row17_col16\" class=\"data row17 col16\" >-0.120179</td>\n      <td id=\"T_f71d8_row17_col17\" class=\"data row17 col17\" >1.000000</td>\n      <td id=\"T_f71d8_row17_col18\" class=\"data row17 col18\" >-0.100554</td>\n      <td id=\"T_f71d8_row17_col19\" class=\"data row17 col19\" >0.293718</td>\n      <td id=\"T_f71d8_row17_col20\" class=\"data row17 col20\" >0.083058</td>\n      <td id=\"T_f71d8_row17_col21\" class=\"data row17 col21\" >-0.096187</td>\n      <td id=\"T_f71d8_row17_col22\" class=\"data row17 col22\" >-0.230380</td>\n      <td id=\"T_f71d8_row17_col23\" class=\"data row17 col23\" >-0.108828</td>\n      <td id=\"T_f71d8_row17_col24\" class=\"data row17 col24\" >-0.315610</td>\n      <td id=\"T_f71d8_row17_col25\" class=\"data row17 col25\" >-0.204981</td>\n      <td id=\"T_f71d8_row17_col26\" class=\"data row17 col26\" >0.086133</td>\n      <td id=\"T_f71d8_row17_col27\" class=\"data row17 col27\" >-0.354787</td>\n      <td id=\"T_f71d8_row17_col28\" class=\"data row17 col28\" >-0.159540</td>\n      <td id=\"T_f71d8_row17_col29\" class=\"data row17 col29\" >0.004249</td>\n      <td id=\"T_f71d8_row17_col30\" class=\"data row17 col30\" >-0.040089</td>\n      <td id=\"T_f71d8_row17_col31\" class=\"data row17 col31\" >0.079990</td>\n      <td id=\"T_f71d8_row17_col32\" class=\"data row17 col32\" >-0.140009</td>\n      <td id=\"T_f71d8_row17_col33\" class=\"data row17 col33\" >0.182988</td>\n      <td id=\"T_f71d8_row17_col34\" class=\"data row17 col34\" >-0.015531</td>\n      <td id=\"T_f71d8_row17_col35\" class=\"data row17 col35\" >0.048309</td>\n    </tr>\n    <tr>\n      <th id=\"T_f71d8_level0_row18\" class=\"row_heading level0 row18\" >Outside_X_Index</th>\n      <td id=\"T_f71d8_row18_col0\" class=\"data row18 col0\" >-0.011997</td>\n      <td id=\"T_f71d8_row18_col1\" class=\"data row18 col1\" >-0.502758</td>\n      <td id=\"T_f71d8_row18_col2\" class=\"data row18 col2\" >-0.407276</td>\n      <td id=\"T_f71d8_row18_col3\" class=\"data row18 col3\" >0.022701</td>\n      <td id=\"T_f71d8_row18_col4\" class=\"data row18 col4\" >0.020574</td>\n      <td id=\"T_f71d8_row18_col5\" class=\"data row18 col5\" >0.738196</td>\n      <td id=\"T_f71d8_row18_col6\" class=\"data row18 col6\" >0.706380</td>\n      <td id=\"T_f71d8_row18_col7\" class=\"data row18 col7\" >0.451071</td>\n      <td id=\"T_f71d8_row18_col8\" class=\"data row18 col8\" >0.697935</td>\n      <td id=\"T_f71d8_row18_col9\" class=\"data row18 col9\" >-0.619509</td>\n      <td id=\"T_f71d8_row18_col10\" class=\"data row18 col10\" >0.078556</td>\n      <td id=\"T_f71d8_row18_col11\" class=\"data row18 col11\" >-0.265643</td>\n      <td id=\"T_f71d8_row18_col12\" class=\"data row18 col12\" >-0.322364</td>\n      <td id=\"T_f71d8_row18_col13\" class=\"data row18 col13\" >0.319520</td>\n      <td id=\"T_f71d8_row18_col14\" class=\"data row18 col14\" >-0.264501</td>\n      <td id=\"T_f71d8_row18_col15\" class=\"data row18 col15\" >-0.354356</td>\n      <td id=\"T_f71d8_row18_col16\" class=\"data row18 col16\" >0.298221</td>\n      <td id=\"T_f71d8_row18_col17\" class=\"data row18 col17\" >-0.100554</td>\n      <td id=\"T_f71d8_row18_col18\" class=\"data row18 col18\" >1.000000</td>\n      <td id=\"T_f71d8_row18_col19\" class=\"data row18 col19\" >-0.147039</td>\n      <td id=\"T_f71d8_row18_col20\" class=\"data row18 col20\" >-0.750818</td>\n      <td id=\"T_f71d8_row18_col21\" class=\"data row18 col21\" >-0.376862</td>\n      <td id=\"T_f71d8_row18_col22\" class=\"data row18 col22\" >0.798895</td>\n      <td id=\"T_f71d8_row18_col23\" class=\"data row18 col23\" >0.887753</td>\n      <td id=\"T_f71d8_row18_col24\" class=\"data row18 col24\" >0.582047</td>\n      <td id=\"T_f71d8_row18_col25\" class=\"data row18 col25\" >-0.463772</td>\n      <td id=\"T_f71d8_row18_col26\" class=\"data row18 col26\" >-0.048433</td>\n      <td id=\"T_f71d8_row18_col27\" class=\"data row18 col27\" >0.597656</td>\n      <td id=\"T_f71d8_row18_col28\" class=\"data row18 col28\" >-0.138003</td>\n      <td id=\"T_f71d8_row18_col29\" class=\"data row18 col29\" >-0.089226</td>\n      <td id=\"T_f71d8_row18_col30\" class=\"data row18 col30\" >0.760564</td>\n      <td id=\"T_f71d8_row18_col31\" class=\"data row18 col31\" >-0.091401</td>\n      <td id=\"T_f71d8_row18_col32\" class=\"data row18 col32\" >-0.071218</td>\n      <td id=\"T_f71d8_row18_col33\" class=\"data row18 col33\" >-0.226827</td>\n      <td id=\"T_f71d8_row18_col34\" class=\"data row18 col34\" >-0.209446</td>\n      <td id=\"T_f71d8_row18_col35\" class=\"data row18 col35\" >-0.188367</td>\n    </tr>\n    <tr>\n      <th id=\"T_f71d8_level0_row19\" class=\"row_heading level0 row19\" >Edges_X_Index</th>\n      <td id=\"T_f71d8_row19_col0\" class=\"data row19 col0\" >-0.002653</td>\n      <td id=\"T_f71d8_row19_col1\" class=\"data row19 col1\" >0.116862</td>\n      <td id=\"T_f71d8_row19_col2\" class=\"data row19 col2\" >0.101167</td>\n      <td id=\"T_f71d8_row19_col3\" class=\"data row19 col3\" >0.054039</td>\n      <td id=\"T_f71d8_row19_col4\" class=\"data row19 col4\" >0.052988</td>\n      <td id=\"T_f71d8_row19_col5\" class=\"data row19 col5\" >-0.301258</td>\n      <td id=\"T_f71d8_row19_col6\" class=\"data row19 col6\" >-0.360579</td>\n      <td id=\"T_f71d8_row19_col7\" class=\"data row19 col7\" >-0.316253</td>\n      <td id=\"T_f71d8_row19_col8\" class=\"data row19 col8\" >-0.316534</td>\n      <td id=\"T_f71d8_row19_col9\" class=\"data row19 col9\" >0.236535</td>\n      <td id=\"T_f71d8_row19_col10\" class=\"data row19 col10\" >-0.001200</td>\n      <td id=\"T_f71d8_row19_col11\" class=\"data row19 col11\" >0.111951</td>\n      <td id=\"T_f71d8_row19_col12\" class=\"data row19 col12\" >0.195555</td>\n      <td id=\"T_f71d8_row19_col13\" class=\"data row19 col13\" >-0.193975</td>\n      <td id=\"T_f71d8_row19_col14\" class=\"data row19 col14\" >-0.040953</td>\n      <td id=\"T_f71d8_row19_col15\" class=\"data row19 col15\" >0.226435</td>\n      <td id=\"T_f71d8_row19_col16\" class=\"data row19 col16\" >-0.330693</td>\n      <td id=\"T_f71d8_row19_col17\" class=\"data row19 col17\" >0.293718</td>\n      <td id=\"T_f71d8_row19_col18\" class=\"data row19 col18\" >-0.147039</td>\n      <td id=\"T_f71d8_row19_col19\" class=\"data row19 col19\" >1.000000</td>\n      <td id=\"T_f71d8_row19_col20\" class=\"data row19 col20\" >0.133295</td>\n      <td id=\"T_f71d8_row19_col21\" class=\"data row19 col21\" >-0.344391</td>\n      <td id=\"T_f71d8_row19_col22\" class=\"data row19 col22\" >-0.466072</td>\n      <td id=\"T_f71d8_row19_col23\" class=\"data row19 col23\" >-0.205830</td>\n      <td id=\"T_f71d8_row19_col24\" class=\"data row19 col24\" >-0.662112</td>\n      <td id=\"T_f71d8_row19_col25\" class=\"data row19 col25\" >-0.426539</td>\n      <td id=\"T_f71d8_row19_col26\" class=\"data row19 col26\" >0.078957</td>\n      <td id=\"T_f71d8_row19_col27\" class=\"data row19 col27\" >-0.540584</td>\n      <td id=\"T_f71d8_row19_col28\" class=\"data row19 col28\" >-0.103845</td>\n      <td id=\"T_f71d8_row19_col29\" class=\"data row19 col29\" >-0.063152</td>\n      <td id=\"T_f71d8_row19_col30\" class=\"data row19 col30\" >-0.152619</td>\n      <td id=\"T_f71d8_row19_col31\" class=\"data row19 col31\" >0.215941</td>\n      <td id=\"T_f71d8_row19_col32\" class=\"data row19 col32\" >-0.111799</td>\n      <td id=\"T_f71d8_row19_col33\" class=\"data row19 col33\" >0.163217</td>\n      <td id=\"T_f71d8_row19_col34\" class=\"data row19 col34\" >0.026569</td>\n      <td id=\"T_f71d8_row19_col35\" class=\"data row19 col35\" >0.193724</td>\n    </tr>\n    <tr>\n      <th id=\"T_f71d8_level0_row20\" class=\"row_heading level0 row20\" >Edges_Y_Index</th>\n      <td id=\"T_f71d8_row20_col0\" class=\"data row20 col0\" >0.009220</td>\n      <td id=\"T_f71d8_row20_col1\" class=\"data row20 col1\" >0.451891</td>\n      <td id=\"T_f71d8_row20_col2\" class=\"data row20 col2\" >0.380715</td>\n      <td id=\"T_f71d8_row20_col3\" class=\"data row20 col3\" >-0.004997</td>\n      <td id=\"T_f71d8_row20_col4\" class=\"data row20 col4\" >-0.003870</td>\n      <td id=\"T_f71d8_row20_col5\" class=\"data row20 col5\" >-0.624134</td>\n      <td id=\"T_f71d8_row20_col6\" class=\"data row20 col6\" >-0.617324</td>\n      <td id=\"T_f71d8_row20_col7\" class=\"data row20 col7\" >-0.382277</td>\n      <td id=\"T_f71d8_row20_col8\" class=\"data row20 col8\" >-0.599422</td>\n      <td id=\"T_f71d8_row20_col9\" class=\"data row20 col9\" >0.451585</td>\n      <td id=\"T_f71d8_row20_col10\" class=\"data row20 col10\" >-0.155236</td>\n      <td id=\"T_f71d8_row20_col11\" class=\"data row20 col11\" >0.290761</td>\n      <td id=\"T_f71d8_row20_col12\" class=\"data row20 col12\" >0.281911</td>\n      <td id=\"T_f71d8_row20_col13\" class=\"data row20 col13\" >-0.279140</td>\n      <td id=\"T_f71d8_row20_col14\" class=\"data row20 col14\" >0.254844</td>\n      <td id=\"T_f71d8_row20_col15\" class=\"data row20 col15\" >0.311053</td>\n      <td id=\"T_f71d8_row20_col16\" class=\"data row20 col16\" >-0.464986</td>\n      <td id=\"T_f71d8_row20_col17\" class=\"data row20 col17\" >0.083058</td>\n      <td id=\"T_f71d8_row20_col18\" class=\"data row20 col18\" >-0.750818</td>\n      <td id=\"T_f71d8_row20_col19\" class=\"data row20 col19\" >0.133295</td>\n      <td id=\"T_f71d8_row20_col20\" class=\"data row20 col20\" >1.000000</td>\n      <td id=\"T_f71d8_row20_col21\" class=\"data row20 col21\" >0.530633</td>\n      <td id=\"T_f71d8_row20_col22\" class=\"data row20 col22\" >-0.706489</td>\n      <td id=\"T_f71d8_row20_col23\" class=\"data row20 col23\" >-0.852148</td>\n      <td id=\"T_f71d8_row20_col24\" class=\"data row20 col24\" >-0.449079</td>\n      <td id=\"T_f71d8_row20_col25\" class=\"data row20 col25\" >0.612333</td>\n      <td id=\"T_f71d8_row20_col26\" class=\"data row20 col26\" >-0.058816</td>\n      <td id=\"T_f71d8_row20_col27\" class=\"data row20 col27\" >-0.589909</td>\n      <td id=\"T_f71d8_row20_col28\" class=\"data row20 col28\" >0.204322</td>\n      <td id=\"T_f71d8_row20_col29\" class=\"data row20 col29\" >0.052806</td>\n      <td id=\"T_f71d8_row20_col30\" class=\"data row20 col30\" >-0.672114</td>\n      <td id=\"T_f71d8_row20_col31\" class=\"data row20 col31\" >0.088775</td>\n      <td id=\"T_f71d8_row20_col32\" class=\"data row20 col32\" >0.084754</td>\n      <td id=\"T_f71d8_row20_col33\" class=\"data row20 col33\" >0.209094</td>\n      <td id=\"T_f71d8_row20_col34\" class=\"data row20 col34\" >0.142372</td>\n      <td id=\"T_f71d8_row20_col35\" class=\"data row20 col35\" >0.059476</td>\n    </tr>\n    <tr>\n      <th id=\"T_f71d8_level0_row21\" class=\"row_heading level0 row21\" >Outside_Global_Index</th>\n      <td id=\"T_f71d8_row21_col0\" class=\"data row21 col0\" >0.012591</td>\n      <td id=\"T_f71d8_row21_col1\" class=\"data row21 col1\" >0.215475</td>\n      <td id=\"T_f71d8_row21_col2\" class=\"data row21 col2\" >0.182329</td>\n      <td id=\"T_f71d8_row21_col3\" class=\"data row21 col3\" >-0.028290</td>\n      <td id=\"T_f71d8_row21_col4\" class=\"data row21 col4\" >-0.026398</td>\n      <td id=\"T_f71d8_row21_col5\" class=\"data row21 col5\" >-0.192815</td>\n      <td id=\"T_f71d8_row21_col6\" class=\"data row21 col6\" >-0.158074</td>\n      <td id=\"T_f71d8_row21_col7\" class=\"data row21 col7\" >-0.043313</td>\n      <td id=\"T_f71d8_row21_col8\" class=\"data row21 col8\" >-0.171085</td>\n      <td id=\"T_f71d8_row21_col9\" class=\"data row21 col9\" >0.104642</td>\n      <td id=\"T_f71d8_row21_col10\" class=\"data row21 col10\" >-0.120310</td>\n      <td id=\"T_f71d8_row21_col11\" class=\"data row21 col11\" >0.177787</td>\n      <td id=\"T_f71d8_row21_col12\" class=\"data row21 col12\" >0.058616</td>\n      <td id=\"T_f71d8_row21_col13\" class=\"data row21 col13\" >-0.058151</td>\n      <td id=\"T_f71d8_row21_col14\" class=\"data row21 col14\" >0.202436</td>\n      <td id=\"T_f71d8_row21_col15\" class=\"data row21 col15\" >0.045105</td>\n      <td id=\"T_f71d8_row21_col16\" class=\"data row21 col16\" >-0.201604</td>\n      <td id=\"T_f71d8_row21_col17\" class=\"data row21 col17\" >-0.096187</td>\n      <td id=\"T_f71d8_row21_col18\" class=\"data row21 col18\" >-0.376862</td>\n      <td id=\"T_f71d8_row21_col19\" class=\"data row21 col19\" >-0.344391</td>\n      <td id=\"T_f71d8_row21_col20\" class=\"data row21 col20\" >0.530633</td>\n      <td id=\"T_f71d8_row21_col21\" class=\"data row21 col21\" >1.000000</td>\n      <td id=\"T_f71d8_row21_col22\" class=\"data row21 col22\" >-0.162258</td>\n      <td id=\"T_f71d8_row21_col23\" class=\"data row21 col23\" >-0.435692</td>\n      <td id=\"T_f71d8_row21_col24\" class=\"data row21 col24\" >0.139160</td>\n      <td id=\"T_f71d8_row21_col25\" class=\"data row21 col25\" >0.863852</td>\n      <td id=\"T_f71d8_row21_col26\" class=\"data row21 col26\" >-0.116145</td>\n      <td id=\"T_f71d8_row21_col27\" class=\"data row21 col27\" >-0.101201</td>\n      <td id=\"T_f71d8_row21_col28\" class=\"data row21 col28\" >0.225629</td>\n      <td id=\"T_f71d8_row21_col29\" class=\"data row21 col29\" >0.058905</td>\n      <td id=\"T_f71d8_row21_col30\" class=\"data row21 col30\" >-0.318919</td>\n      <td id=\"T_f71d8_row21_col31\" class=\"data row21 col31\" >-0.158194</td>\n      <td id=\"T_f71d8_row21_col32\" class=\"data row21 col32\" >0.102991</td>\n      <td id=\"T_f71d8_row21_col33\" class=\"data row21 col33\" >0.048954</td>\n      <td id=\"T_f71d8_row21_col34\" class=\"data row21 col34\" >0.074182</td>\n      <td id=\"T_f71d8_row21_col35\" class=\"data row21 col35\" >-0.077990</td>\n    </tr>\n    <tr>\n      <th id=\"T_f71d8_level0_row22\" class=\"row_heading level0 row22\" >LogOfAreas</th>\n      <td id=\"T_f71d8_row22_col0\" class=\"data row22 col0\" >-0.010597</td>\n      <td id=\"T_f71d8_row22_col1\" class=\"data row22 col1\" >-0.496955</td>\n      <td id=\"T_f71d8_row22_col2\" class=\"data row22 col2\" >-0.418976</td>\n      <td id=\"T_f71d8_row22_col3\" class=\"data row22 col3\" >0.002180</td>\n      <td id=\"T_f71d8_row22_col4\" class=\"data row22 col4\" >0.002892</td>\n      <td id=\"T_f71d8_row22_col5\" class=\"data row22 col5\" >0.755308</td>\n      <td id=\"T_f71d8_row22_col6\" class=\"data row22 col6\" >0.728723</td>\n      <td id=\"T_f71d8_row22_col7\" class=\"data row22 col7\" >0.522751</td>\n      <td id=\"T_f71d8_row22_col8\" class=\"data row22 col8\" >0.724516</td>\n      <td id=\"T_f71d8_row22_col9\" class=\"data row22 col9\" >-0.689909</td>\n      <td id=\"T_f71d8_row22_col10\" class=\"data row22 col10\" >0.030211</td>\n      <td id=\"T_f71d8_row22_col11\" class=\"data row22 col11\" >-0.249140</td>\n      <td id=\"T_f71d8_row22_col12\" class=\"data row22 col12\" >-0.359747</td>\n      <td id=\"T_f71d8_row22_col13\" class=\"data row22 col13\" >0.356555</td>\n      <td id=\"T_f71d8_row22_col14\" class=\"data row22 col14\" >-0.199686</td>\n      <td id=\"T_f71d8_row22_col15\" class=\"data row22 col15\" >-0.419197</td>\n      <td id=\"T_f71d8_row22_col16\" class=\"data row22 col16\" >0.377089</td>\n      <td id=\"T_f71d8_row22_col17\" class=\"data row22 col17\" >-0.230380</td>\n      <td id=\"T_f71d8_row22_col18\" class=\"data row22 col18\" >0.798895</td>\n      <td id=\"T_f71d8_row22_col19\" class=\"data row22 col19\" >-0.466072</td>\n      <td id=\"T_f71d8_row22_col20\" class=\"data row22 col20\" >-0.706489</td>\n      <td id=\"T_f71d8_row22_col21\" class=\"data row22 col21\" >-0.162258</td>\n      <td id=\"T_f71d8_row22_col22\" class=\"data row22 col22\" >1.000000</td>\n      <td id=\"T_f71d8_row22_col23\" class=\"data row22 col23\" >0.888292</td>\n      <td id=\"T_f71d8_row22_col24\" class=\"data row22 col24\" >0.879382</td>\n      <td id=\"T_f71d8_row22_col25\" class=\"data row22 col25\" >-0.206095</td>\n      <td id=\"T_f71d8_row22_col26\" class=\"data row22 col26\" >-0.138059</td>\n      <td id=\"T_f71d8_row22_col27\" class=\"data row22 col27\" >0.872960</td>\n      <td id=\"T_f71d8_row22_col28\" class=\"data row22 col28\" >-0.066009</td>\n      <td id=\"T_f71d8_row22_col29\" class=\"data row22 col29\" >-0.052602</td>\n      <td id=\"T_f71d8_row22_col30\" class=\"data row22 col30\" >0.741472</td>\n      <td id=\"T_f71d8_row22_col31\" class=\"data row22 col31\" >-0.266170</td>\n      <td id=\"T_f71d8_row22_col32\" class=\"data row22 col32\" >-0.018832</td>\n      <td id=\"T_f71d8_row22_col33\" class=\"data row22 col33\" >-0.245400</td>\n      <td id=\"T_f71d8_row22_col34\" class=\"data row22 col34\" >-0.195025</td>\n      <td id=\"T_f71d8_row22_col35\" class=\"data row22 col35\" >-0.265506</td>\n    </tr>\n    <tr>\n      <th id=\"T_f71d8_level0_row23\" class=\"row_heading level0 row23\" >Log_X_Index</th>\n      <td id=\"T_f71d8_row23_col0\" class=\"data row23 col0\" >-0.010760</td>\n      <td id=\"T_f71d8_row23_col1\" class=\"data row23 col1\" >-0.521634</td>\n      <td id=\"T_f71d8_row23_col2\" class=\"data row23 col2\" >-0.436395</td>\n      <td id=\"T_f71d8_row23_col3\" class=\"data row23 col3\" >0.019550</td>\n      <td id=\"T_f71d8_row23_col4\" class=\"data row23 col4\" >0.020038</td>\n      <td id=\"T_f71d8_row23_col5\" class=\"data row23 col5\" >0.727782</td>\n      <td id=\"T_f71d8_row23_col6\" class=\"data row23 col6\" >0.705425</td>\n      <td id=\"T_f71d8_row23_col7\" class=\"data row23 col7\" >0.458069</td>\n      <td id=\"T_f71d8_row23_col8\" class=\"data row23 col8\" >0.694342</td>\n      <td id=\"T_f71d8_row23_col9\" class=\"data row23 col9\" >-0.630213</td>\n      <td id=\"T_f71d8_row23_col10\" class=\"data row23 col10\" >0.081164</td>\n      <td id=\"T_f71d8_row23_col11\" class=\"data row23 col11\" >-0.281568</td>\n      <td id=\"T_f71d8_row23_col12\" class=\"data row23 col12\" >-0.316679</td>\n      <td id=\"T_f71d8_row23_col13\" class=\"data row23 col13\" >0.313960</td>\n      <td id=\"T_f71d8_row23_col14\" class=\"data row23 col14\" >-0.266026</td>\n      <td id=\"T_f71d8_row23_col15\" class=\"data row23 col15\" >-0.381333</td>\n      <td id=\"T_f71d8_row23_col16\" class=\"data row23 col16\" >0.424386</td>\n      <td id=\"T_f71d8_row23_col17\" class=\"data row23 col17\" >-0.108828</td>\n      <td id=\"T_f71d8_row23_col18\" class=\"data row23 col18\" >0.887753</td>\n      <td id=\"T_f71d8_row23_col19\" class=\"data row23 col19\" >-0.205830</td>\n      <td id=\"T_f71d8_row23_col20\" class=\"data row23 col20\" >-0.852148</td>\n      <td id=\"T_f71d8_row23_col21\" class=\"data row23 col21\" >-0.435692</td>\n      <td id=\"T_f71d8_row23_col22\" class=\"data row23 col22\" >0.888292</td>\n      <td id=\"T_f71d8_row23_col23\" class=\"data row23 col23\" >1.000000</td>\n      <td id=\"T_f71d8_row23_col24\" class=\"data row23 col24\" >0.660496</td>\n      <td id=\"T_f71d8_row23_col25\" class=\"data row23 col25\" >-0.522565</td>\n      <td id=\"T_f71d8_row23_col26\" class=\"data row23 col26\" >-0.058845</td>\n      <td id=\"T_f71d8_row23_col27\" class=\"data row23 col27\" >0.749604</td>\n      <td id=\"T_f71d8_row23_col28\" class=\"data row23 col28\" >-0.179230</td>\n      <td id=\"T_f71d8_row23_col29\" class=\"data row23 col29\" >-0.061587</td>\n      <td id=\"T_f71d8_row23_col30\" class=\"data row23 col30\" >0.777610</td>\n      <td id=\"T_f71d8_row23_col31\" class=\"data row23 col31\" >-0.174951</td>\n      <td id=\"T_f71d8_row23_col32\" class=\"data row23 col32\" >-0.087875</td>\n      <td id=\"T_f71d8_row23_col33\" class=\"data row23 col33\" >-0.213308</td>\n      <td id=\"T_f71d8_row23_col34\" class=\"data row23 col34\" >-0.197192</td>\n      <td id=\"T_f71d8_row23_col35\" class=\"data row23 col35\" >-0.157923</td>\n    </tr>\n    <tr>\n      <th id=\"T_f71d8_level0_row24\" class=\"row_heading level0 row24\" >Log_Y_Index</th>\n      <td id=\"T_f71d8_row24_col0\" class=\"data row24 col0\" >-0.011554</td>\n      <td id=\"T_f71d8_row24_col1\" class=\"data row24 col1\" >-0.369839</td>\n      <td id=\"T_f71d8_row24_col2\" class=\"data row24 col2\" >-0.311209</td>\n      <td id=\"T_f71d8_row24_col3\" class=\"data row24 col3\" >-0.022492</td>\n      <td id=\"T_f71d8_row24_col4\" class=\"data row24 col4\" >-0.021793</td>\n      <td id=\"T_f71d8_row24_col5\" class=\"data row24 col5\" >0.630050</td>\n      <td id=\"T_f71d8_row24_col6\" class=\"data row24 col6\" >0.636905</td>\n      <td id=\"T_f71d8_row24_col7\" class=\"data row24 col7\" >0.521246</td>\n      <td id=\"T_f71d8_row24_col8\" class=\"data row24 col8\" >0.616013</td>\n      <td id=\"T_f71d8_row24_col9\" class=\"data row24 col9\" >-0.585527</td>\n      <td id=\"T_f71d8_row24_col10\" class=\"data row24 col10\" >-0.004663</td>\n      <td id=\"T_f71d8_row24_col11\" class=\"data row24 col11\" >-0.191320</td>\n      <td id=\"T_f71d8_row24_col12\" class=\"data row24 col12\" >-0.332248</td>\n      <td id=\"T_f71d8_row24_col13\" class=\"data row24 col13\" >0.329718</td>\n      <td id=\"T_f71d8_row24_col14\" class=\"data row24 col14\" >-0.088358</td>\n      <td id=\"T_f71d8_row24_col15\" class=\"data row24 col15\" >-0.373095</td>\n      <td id=\"T_f71d8_row24_col16\" class=\"data row24 col16\" >0.364617</td>\n      <td id=\"T_f71d8_row24_col17\" class=\"data row24 col17\" >-0.315610</td>\n      <td id=\"T_f71d8_row24_col18\" class=\"data row24 col18\" >0.582047</td>\n      <td id=\"T_f71d8_row24_col19\" class=\"data row24 col19\" >-0.662112</td>\n      <td id=\"T_f71d8_row24_col20\" class=\"data row24 col20\" >-0.449079</td>\n      <td id=\"T_f71d8_row24_col21\" class=\"data row24 col21\" >0.139160</td>\n      <td id=\"T_f71d8_row24_col22\" class=\"data row24 col22\" >0.879382</td>\n      <td id=\"T_f71d8_row24_col23\" class=\"data row24 col23\" >0.660496</td>\n      <td id=\"T_f71d8_row24_col24\" class=\"data row24 col24\" >1.000000</td>\n      <td id=\"T_f71d8_row24_col25\" class=\"data row24 col25\" >0.162568</td>\n      <td id=\"T_f71d8_row24_col26\" class=\"data row24 col26\" >-0.164728</td>\n      <td id=\"T_f71d8_row24_col27\" class=\"data row24 col27\" >0.850652</td>\n      <td id=\"T_f71d8_row24_col28\" class=\"data row24 col28\" >0.042282</td>\n      <td id=\"T_f71d8_row24_col29\" class=\"data row24 col29\" >-0.013032</td>\n      <td id=\"T_f71d8_row24_col30\" class=\"data row24 col30\" >0.539683</td>\n      <td id=\"T_f71d8_row24_col31\" class=\"data row24 col31\" >-0.296329</td>\n      <td id=\"T_f71d8_row24_col32\" class=\"data row24 col32\" >0.051848</td>\n      <td id=\"T_f71d8_row24_col33\" class=\"data row24 col33\" >-0.230747</td>\n      <td id=\"T_f71d8_row24_col34\" class=\"data row24 col34\" >-0.144656</td>\n      <td id=\"T_f71d8_row24_col35\" class=\"data row24 col35\" >-0.283482</td>\n    </tr>\n    <tr>\n      <th id=\"T_f71d8_level0_row25\" class=\"row_heading level0 row25\" >Orientation_Index</th>\n      <td id=\"T_f71d8_row25_col0\" class=\"data row25 col0\" >0.011939</td>\n      <td id=\"T_f71d8_row25_col1\" class=\"data row25 col1\" >0.267872</td>\n      <td id=\"T_f71d8_row25_col2\" class=\"data row25 col2\" >0.225912</td>\n      <td id=\"T_f71d8_row25_col3\" class=\"data row25 col3\" >-0.047538</td>\n      <td id=\"T_f71d8_row25_col4\" class=\"data row25 col4\" >-0.045996</td>\n      <td id=\"T_f71d8_row25_col5\" class=\"data row25 col5\" >-0.251397</td>\n      <td id=\"T_f71d8_row25_col6\" class=\"data row25 col6\" >-0.211858</td>\n      <td id=\"T_f71d8_row25_col7\" class=\"data row25 col7\" >-0.057319</td>\n      <td id=\"T_f71d8_row25_col8\" class=\"data row25 col8\" >-0.226381</td>\n      <td id=\"T_f71d8_row25_col9\" class=\"data row25 col9\" >0.166674</td>\n      <td id=\"T_f71d8_row25_col10\" class=\"data row25 col10\" >-0.120177</td>\n      <td id=\"T_f71d8_row25_col11\" class=\"data row25 col11\" >0.175148</td>\n      <td id=\"T_f71d8_row25_col12\" class=\"data row25 col12\" >0.060564</td>\n      <td id=\"T_f71d8_row25_col13\" class=\"data row25 col13\" >-0.060238</td>\n      <td id=\"T_f71d8_row25_col14\" class=\"data row25 col14\" >0.243906</td>\n      <td id=\"T_f71d8_row25_col15\" class=\"data row25 col15\" >0.075106</td>\n      <td id=\"T_f71d8_row25_col16\" class=\"data row25 col16\" >-0.175171</td>\n      <td id=\"T_f71d8_row25_col17\" class=\"data row25 col17\" >-0.204981</td>\n      <td id=\"T_f71d8_row25_col18\" class=\"data row25 col18\" >-0.463772</td>\n      <td id=\"T_f71d8_row25_col19\" class=\"data row25 col19\" >-0.426539</td>\n      <td id=\"T_f71d8_row25_col20\" class=\"data row25 col20\" >0.612333</td>\n      <td id=\"T_f71d8_row25_col21\" class=\"data row25 col21\" >0.863852</td>\n      <td id=\"T_f71d8_row25_col22\" class=\"data row25 col22\" >-0.206095</td>\n      <td id=\"T_f71d8_row25_col23\" class=\"data row25 col23\" >-0.522565</td>\n      <td id=\"T_f71d8_row25_col24\" class=\"data row25 col24\" >0.162568</td>\n      <td id=\"T_f71d8_row25_col25\" class=\"data row25 col25\" >1.000000</td>\n      <td id=\"T_f71d8_row25_col26\" class=\"data row25 col26\" >-0.109895</td>\n      <td id=\"T_f71d8_row25_col27\" class=\"data row25 col27\" >-0.083320</td>\n      <td id=\"T_f71d8_row25_col28\" class=\"data row25 col28\" >0.267788</td>\n      <td id=\"T_f71d8_row25_col29\" class=\"data row25 col29\" >0.073853</td>\n      <td id=\"T_f71d8_row25_col30\" class=\"data row25 col30\" >-0.411660</td>\n      <td id=\"T_f71d8_row25_col31\" class=\"data row25 col31\" >-0.121009</td>\n      <td id=\"T_f71d8_row25_col32\" class=\"data row25 col32\" >0.149546</td>\n      <td id=\"T_f71d8_row25_col33\" class=\"data row25 col33\" >0.032633</td>\n      <td id=\"T_f71d8_row25_col34\" class=\"data row25 col34\" >0.098355</td>\n      <td id=\"T_f71d8_row25_col35\" class=\"data row25 col35\" >-0.094387</td>\n    </tr>\n    <tr>\n      <th id=\"T_f71d8_level0_row26\" class=\"row_heading level0 row26\" >Luminosity_Index</th>\n      <td id=\"T_f71d8_row26_col0\" class=\"data row26 col0\" >-0.001154</td>\n      <td id=\"T_f71d8_row26_col1\" class=\"data row26 col1\" >-0.065670</td>\n      <td id=\"T_f71d8_row26_col2\" class=\"data row26 col2\" >-0.075674</td>\n      <td id=\"T_f71d8_row26_col3\" class=\"data row26 col3\" >-0.030424</td>\n      <td id=\"T_f71d8_row26_col4\" class=\"data row26 col4\" >-0.030329</td>\n      <td id=\"T_f71d8_row26_col5\" class=\"data row26 col5\" >-0.018984</td>\n      <td id=\"T_f71d8_row26_col6\" class=\"data row26 col6\" >-0.000976</td>\n      <td id=\"T_f71d8_row26_col7\" class=\"data row26 col7\" >-0.016574</td>\n      <td id=\"T_f71d8_row26_col8\" class=\"data row26 col8\" >-0.013713</td>\n      <td id=\"T_f71d8_row26_col9\" class=\"data row26 col9\" >0.624846</td>\n      <td id=\"T_f71d8_row26_col10\" class=\"data row26 col10\" >0.855941</td>\n      <td id=\"T_f71d8_row26_col11\" class=\"data row26 col11\" >-0.203264</td>\n      <td id=\"T_f71d8_row26_col12\" class=\"data row26 col12\" >-0.219059</td>\n      <td id=\"T_f71d8_row26_col13\" class=\"data row26 col13\" >0.218676</td>\n      <td id=\"T_f71d8_row26_col14\" class=\"data row26 col14\" >-0.103261</td>\n      <td id=\"T_f71d8_row26_col15\" class=\"data row26 col15\" >0.211772</td>\n      <td id=\"T_f71d8_row26_col16\" class=\"data row26 col16\" >0.082382</td>\n      <td id=\"T_f71d8_row26_col17\" class=\"data row26 col17\" >0.086133</td>\n      <td id=\"T_f71d8_row26_col18\" class=\"data row26 col18\" >-0.048433</td>\n      <td id=\"T_f71d8_row26_col19\" class=\"data row26 col19\" >0.078957</td>\n      <td id=\"T_f71d8_row26_col20\" class=\"data row26 col20\" >-0.058816</td>\n      <td id=\"T_f71d8_row26_col21\" class=\"data row26 col21\" >-0.116145</td>\n      <td id=\"T_f71d8_row26_col22\" class=\"data row26 col22\" >-0.138059</td>\n      <td id=\"T_f71d8_row26_col23\" class=\"data row26 col23\" >-0.058845</td>\n      <td id=\"T_f71d8_row26_col24\" class=\"data row26 col24\" >-0.164728</td>\n      <td id=\"T_f71d8_row26_col25\" class=\"data row26 col25\" >-0.109895</td>\n      <td id=\"T_f71d8_row26_col26\" class=\"data row26 col26\" >1.000000</td>\n      <td id=\"T_f71d8_row26_col27\" class=\"data row26 col27\" >-0.126083</td>\n      <td id=\"T_f71d8_row26_col28\" class=\"data row26 col28\" >-0.103666</td>\n      <td id=\"T_f71d8_row26_col29\" class=\"data row26 col29\" >-0.059011</td>\n      <td id=\"T_f71d8_row26_col30\" class=\"data row26 col30\" >0.019317</td>\n      <td id=\"T_f71d8_row26_col31\" class=\"data row26 col31\" >0.165626</td>\n      <td id=\"T_f71d8_row26_col32\" class=\"data row26 col32\" >0.039676</td>\n      <td id=\"T_f71d8_row26_col33\" class=\"data row26 col33\" >-0.056981</td>\n      <td id=\"T_f71d8_row26_col34\" class=\"data row26 col34\" >0.037243</td>\n      <td id=\"T_f71d8_row26_col35\" class=\"data row26 col35\" >0.071666</td>\n    </tr>\n    <tr>\n      <th id=\"T_f71d8_level0_row27\" class=\"row_heading level0 row27\" >SigmoidOfAreas</th>\n      <td id=\"T_f71d8_row27_col0\" class=\"data row27 col0\" >-0.008982</td>\n      <td id=\"T_f71d8_row27_col1\" class=\"data row27 col1\" >-0.374745</td>\n      <td id=\"T_f71d8_row27_col2\" class=\"data row27 col2\" >-0.316453</td>\n      <td id=\"T_f71d8_row27_col3\" class=\"data row27 col3\" >-0.026864</td>\n      <td id=\"T_f71d8_row27_col4\" class=\"data row27 col4\" >-0.025778</td>\n      <td id=\"T_f71d8_row27_col5\" class=\"data row27 col5\" >0.525107</td>\n      <td id=\"T_f71d8_row27_col6\" class=\"data row27 col6\" >0.525865</td>\n      <td id=\"T_f71d8_row27_col7\" class=\"data row27 col7\" >0.393426</td>\n      <td id=\"T_f71d8_row27_col8\" class=\"data row27 col8\" >0.513961</td>\n      <td id=\"T_f71d8_row27_col9\" class=\"data row27 col9\" >-0.505547</td>\n      <td id=\"T_f71d8_row27_col10\" class=\"data row27 col10\" >0.011860</td>\n      <td id=\"T_f71d8_row27_col11\" class=\"data row27 col11\" >-0.254599</td>\n      <td id=\"T_f71d8_row27_col12\" class=\"data row27 col12\" >-0.343292</td>\n      <td id=\"T_f71d8_row27_col13\" class=\"data row27 col13\" >0.341034</td>\n      <td id=\"T_f71d8_row27_col14\" class=\"data row27 col14\" >-0.121345</td>\n      <td id=\"T_f71d8_row27_col15\" class=\"data row27 col15\" >-0.349123</td>\n      <td id=\"T_f71d8_row27_col16\" class=\"data row27 col16\" >0.480214</td>\n      <td id=\"T_f71d8_row27_col17\" class=\"data row27 col17\" >-0.354787</td>\n      <td id=\"T_f71d8_row27_col18\" class=\"data row27 col18\" >0.597656</td>\n      <td id=\"T_f71d8_row27_col19\" class=\"data row27 col19\" >-0.540584</td>\n      <td id=\"T_f71d8_row27_col20\" class=\"data row27 col20\" >-0.589909</td>\n      <td id=\"T_f71d8_row27_col21\" class=\"data row27 col21\" >-0.101201</td>\n      <td id=\"T_f71d8_row27_col22\" class=\"data row27 col22\" >0.872960</td>\n      <td id=\"T_f71d8_row27_col23\" class=\"data row27 col23\" >0.749604</td>\n      <td id=\"T_f71d8_row27_col24\" class=\"data row27 col24\" >0.850652</td>\n      <td id=\"T_f71d8_row27_col25\" class=\"data row27 col25\" >-0.083320</td>\n      <td id=\"T_f71d8_row27_col26\" class=\"data row27 col26\" >-0.126083</td>\n      <td id=\"T_f71d8_row27_col27\" class=\"data row27 col27\" >1.000000</td>\n      <td id=\"T_f71d8_row27_col28\" class=\"data row27 col28\" >-0.039841</td>\n      <td id=\"T_f71d8_row27_col29\" class=\"data row27 col29\" >-0.002576</td>\n      <td id=\"T_f71d8_row27_col30\" class=\"data row27 col30\" >0.528051</td>\n      <td id=\"T_f71d8_row27_col31\" class=\"data row27 col31\" >-0.219706</td>\n      <td id=\"T_f71d8_row27_col32\" class=\"data row27 col32\" >0.016962</td>\n      <td id=\"T_f71d8_row27_col33\" class=\"data row27 col33\" >-0.221907</td>\n      <td id=\"T_f71d8_row27_col34\" class=\"data row27 col34\" >-0.126690</td>\n      <td id=\"T_f71d8_row27_col35\" class=\"data row27 col35\" >-0.174019</td>\n    </tr>\n    <tr>\n      <th id=\"T_f71d8_level0_row28\" class=\"row_heading level0 row28\" >Pastry</th>\n      <td id=\"T_f71d8_row28_col0\" class=\"data row28 col0\" >-0.001340</td>\n      <td id=\"T_f71d8_row28_col1\" class=\"data row28 col1\" >0.119978</td>\n      <td id=\"T_f71d8_row28_col2\" class=\"data row28 col2\" >0.109062</td>\n      <td id=\"T_f71d8_row28_col3\" class=\"data row28 col3\" >-0.011074</td>\n      <td id=\"T_f71d8_row28_col4\" class=\"data row28 col4\" >-0.011762</td>\n      <td id=\"T_f71d8_row28_col5\" class=\"data row28 col5\" >-0.097629</td>\n      <td id=\"T_f71d8_row28_col6\" class=\"data row28 col6\" >-0.098258</td>\n      <td id=\"T_f71d8_row28_col7\" class=\"data row28 col7\" >-0.041093</td>\n      <td id=\"T_f71d8_row28_col8\" class=\"data row28 col8\" >-0.092089</td>\n      <td id=\"T_f71d8_row28_col9\" class=\"data row28 col9\" >-0.011920</td>\n      <td id=\"T_f71d8_row28_col10\" class=\"data row28 col10\" >-0.082324</td>\n      <td id=\"T_f71d8_row28_col11\" class=\"data row28 col11\" >0.162171</td>\n      <td id=\"T_f71d8_row28_col12\" class=\"data row28 col12\" >-0.011799</td>\n      <td id=\"T_f71d8_row28_col13\" class=\"data row28 col13\" >0.011960</td>\n      <td id=\"T_f71d8_row28_col14\" class=\"data row28 col14\" >0.079771</td>\n      <td id=\"T_f71d8_row28_col15\" class=\"data row28 col15\" >-0.020366</td>\n      <td id=\"T_f71d8_row28_col16\" class=\"data row28 col16\" >-0.138816</td>\n      <td id=\"T_f71d8_row28_col17\" class=\"data row28 col17\" >-0.159540</td>\n      <td id=\"T_f71d8_row28_col18\" class=\"data row28 col18\" >-0.138003</td>\n      <td id=\"T_f71d8_row28_col19\" class=\"data row28 col19\" >-0.103845</td>\n      <td id=\"T_f71d8_row28_col20\" class=\"data row28 col20\" >0.204322</td>\n      <td id=\"T_f71d8_row28_col21\" class=\"data row28 col21\" >0.225629</td>\n      <td id=\"T_f71d8_row28_col22\" class=\"data row28 col22\" >-0.066009</td>\n      <td id=\"T_f71d8_row28_col23\" class=\"data row28 col23\" >-0.179230</td>\n      <td id=\"T_f71d8_row28_col24\" class=\"data row28 col24\" >0.042282</td>\n      <td id=\"T_f71d8_row28_col25\" class=\"data row28 col25\" >0.267788</td>\n      <td id=\"T_f71d8_row28_col26\" class=\"data row28 col26\" >-0.103666</td>\n      <td id=\"T_f71d8_row28_col27\" class=\"data row28 col27\" >-0.039841</td>\n      <td id=\"T_f71d8_row28_col28\" class=\"data row28 col28\" >1.000000</td>\n      <td id=\"T_f71d8_row28_col29\" class=\"data row28 col29\" >-0.074968</td>\n      <td id=\"T_f71d8_row28_col30\" class=\"data row28 col30\" >-0.134930</td>\n      <td id=\"T_f71d8_row28_col31\" class=\"data row28 col31\" >-0.050919</td>\n      <td id=\"T_f71d8_row28_col32\" class=\"data row28 col32\" >-0.046658</td>\n      <td id=\"T_f71d8_row28_col33\" class=\"data row28 col33\" >-0.163839</td>\n      <td id=\"T_f71d8_row28_col34\" class=\"data row28 col34\" >-0.207737</td>\n      <td id=\"T_f71d8_row28_col35\" class=\"data row28 col35\" >-0.473630</td>\n    </tr>\n    <tr>\n      <th id=\"T_f71d8_level0_row29\" class=\"row_heading level0 row29\" >Z_Scratch</th>\n      <td id=\"T_f71d8_row29_col0\" class=\"data row29 col0\" >-0.021304</td>\n      <td id=\"T_f71d8_row29_col1\" class=\"data row29 col1\" >-0.123533</td>\n      <td id=\"T_f71d8_row29_col2\" class=\"data row29 col2\" >-0.144083</td>\n      <td id=\"T_f71d8_row29_col3\" class=\"data row29 col3\" >-0.018813</td>\n      <td id=\"T_f71d8_row29_col4\" class=\"data row29 col4\" >-0.019489</td>\n      <td id=\"T_f71d8_row29_col5\" class=\"data row29 col5\" >-0.081742</td>\n      <td id=\"T_f71d8_row29_col6\" class=\"data row29 col6\" >-0.067058</td>\n      <td id=\"T_f71d8_row29_col7\" class=\"data row29 col7\" >-0.040526</td>\n      <td id=\"T_f71d8_row29_col8\" class=\"data row29 col8\" >-0.064202</td>\n      <td id=\"T_f71d8_row29_col9\" class=\"data row29 col9\" >0.059535</td>\n      <td id=\"T_f71d8_row29_col10\" class=\"data row29 col10\" >-0.091497</td>\n      <td id=\"T_f71d8_row29_col11\" class=\"data row29 col11\" >-0.174578</td>\n      <td id=\"T_f71d8_row29_col12\" class=\"data row29 col12\" >0.206037</td>\n      <td id=\"T_f71d8_row29_col13\" class=\"data row29 col13\" >-0.205486</td>\n      <td id=\"T_f71d8_row29_col14\" class=\"data row29 col14\" >-0.011594</td>\n      <td id=\"T_f71d8_row29_col15\" class=\"data row29 col15\" >-0.090827</td>\n      <td id=\"T_f71d8_row29_col16\" class=\"data row29 col16\" >0.091214</td>\n      <td id=\"T_f71d8_row29_col17\" class=\"data row29 col17\" >0.004249</td>\n      <td id=\"T_f71d8_row29_col18\" class=\"data row29 col18\" >-0.089226</td>\n      <td id=\"T_f71d8_row29_col19\" class=\"data row29 col19\" >-0.063152</td>\n      <td id=\"T_f71d8_row29_col20\" class=\"data row29 col20\" >0.052806</td>\n      <td id=\"T_f71d8_row29_col21\" class=\"data row29 col21\" >0.058905</td>\n      <td id=\"T_f71d8_row29_col22\" class=\"data row29 col22\" >-0.052602</td>\n      <td id=\"T_f71d8_row29_col23\" class=\"data row29 col23\" >-0.061587</td>\n      <td id=\"T_f71d8_row29_col24\" class=\"data row29 col24\" >-0.013032</td>\n      <td id=\"T_f71d8_row29_col25\" class=\"data row29 col25\" >0.073853</td>\n      <td id=\"T_f71d8_row29_col26\" class=\"data row29 col26\" >-0.059011</td>\n      <td id=\"T_f71d8_row29_col27\" class=\"data row29 col27\" >-0.002576</td>\n      <td id=\"T_f71d8_row29_col28\" class=\"data row29 col28\" >-0.074968</td>\n      <td id=\"T_f71d8_row29_col29\" class=\"data row29 col29\" >1.000000</td>\n      <td id=\"T_f71d8_row29_col30\" class=\"data row29 col30\" >-0.122100</td>\n      <td id=\"T_f71d8_row29_col31\" class=\"data row29 col31\" >-0.045920</td>\n      <td id=\"T_f71d8_row29_col32\" class=\"data row29 col32\" >-0.042078</td>\n      <td id=\"T_f71d8_row29_col33\" class=\"data row29 col33\" >-0.147755</td>\n      <td id=\"T_f71d8_row29_col34\" class=\"data row29 col34\" >-0.187344</td>\n      <td id=\"T_f71d8_row29_col35\" class=\"data row29 col35\" >-0.421814</td>\n    </tr>\n    <tr>\n      <th id=\"T_f71d8_level0_row30\" class=\"row_heading level0 row30\" >K_Scatch</th>\n      <td id=\"T_f71d8_row30_col0\" class=\"data row30 col0\" >-0.011128</td>\n      <td id=\"T_f71d8_row30_col1\" class=\"data row30 col1\" >-0.501723</td>\n      <td id=\"T_f71d8_row30_col2\" class=\"data row30 col2\" >-0.431077</td>\n      <td id=\"T_f71d8_row30_col3\" class=\"data row30 col3\" >0.009090</td>\n      <td id=\"T_f71d8_row30_col4\" class=\"data row30 col4\" >0.009725</td>\n      <td id=\"T_f71d8_row30_col5\" class=\"data row30 col5\" >0.679701</td>\n      <td id=\"T_f71d8_row30_col6\" class=\"data row30 col6\" >0.632249</td>\n      <td id=\"T_f71d8_row30_col7\" class=\"data row30 col7\" >0.409202</td>\n      <td id=\"T_f71d8_row30_col8\" class=\"data row30 col8\" >0.637736</td>\n      <td id=\"T_f71d8_row30_col9\" class=\"data row30 col9\" >-0.573515</td>\n      <td id=\"T_f71d8_row30_col10\" class=\"data row30 col10\" >0.129673</td>\n      <td id=\"T_f71d8_row30_col11\" class=\"data row30 col11\" >-0.271448</td>\n      <td id=\"T_f71d8_row30_col12\" class=\"data row30 col12\" >-0.378118</td>\n      <td id=\"T_f71d8_row30_col13\" class=\"data row30 col13\" >0.375084</td>\n      <td id=\"T_f71d8_row30_col14\" class=\"data row30 col14\" >-0.307523</td>\n      <td id=\"T_f71d8_row30_col15\" class=\"data row30 col15\" >-0.356053</td>\n      <td id=\"T_f71d8_row30_col16\" class=\"data row30 col16\" >0.199645</td>\n      <td id=\"T_f71d8_row30_col17\" class=\"data row30 col17\" >-0.040089</td>\n      <td id=\"T_f71d8_row30_col18\" class=\"data row30 col18\" >0.760564</td>\n      <td id=\"T_f71d8_row30_col19\" class=\"data row30 col19\" >-0.152619</td>\n      <td id=\"T_f71d8_row30_col20\" class=\"data row30 col20\" >-0.672114</td>\n      <td id=\"T_f71d8_row30_col21\" class=\"data row30 col21\" >-0.318919</td>\n      <td id=\"T_f71d8_row30_col22\" class=\"data row30 col22\" >0.741472</td>\n      <td id=\"T_f71d8_row30_col23\" class=\"data row30 col23\" >0.777610</td>\n      <td id=\"T_f71d8_row30_col24\" class=\"data row30 col24\" >0.539683</td>\n      <td id=\"T_f71d8_row30_col25\" class=\"data row30 col25\" >-0.411660</td>\n      <td id=\"T_f71d8_row30_col26\" class=\"data row30 col26\" >0.019317</td>\n      <td id=\"T_f71d8_row30_col27\" class=\"data row30 col27\" >0.528051</td>\n      <td id=\"T_f71d8_row30_col28\" class=\"data row30 col28\" >-0.134930</td>\n      <td id=\"T_f71d8_row30_col29\" class=\"data row30 col29\" >-0.122100</td>\n      <td id=\"T_f71d8_row30_col30\" class=\"data row30 col30\" >1.000000</td>\n      <td id=\"T_f71d8_row30_col31\" class=\"data row30 col31\" >-0.082931</td>\n      <td id=\"T_f71d8_row30_col32\" class=\"data row30 col32\" >-0.075992</td>\n      <td id=\"T_f71d8_row30_col33\" class=\"data row30 col33\" >-0.266273</td>\n      <td id=\"T_f71d8_row30_col34\" class=\"data row30 col34\" >-0.333679</td>\n      <td id=\"T_f71d8_row30_col35\" class=\"data row30 col35\" >-0.382750</td>\n    </tr>\n    <tr>\n      <th id=\"T_f71d8_level0_row31\" class=\"row_heading level0 row31\" >Stains</th>\n      <td id=\"T_f71d8_row31_col0\" class=\"data row31 col0\" >-0.002337</td>\n      <td id=\"T_f71d8_row31_col1\" class=\"data row31 col1\" >0.047764</td>\n      <td id=\"T_f71d8_row31_col2\" class=\"data row31 col2\" >0.038169</td>\n      <td id=\"T_f71d8_row31_col3\" class=\"data row31 col3\" >-0.042065</td>\n      <td id=\"T_f71d8_row31_col4\" class=\"data row31 col4\" >-0.043628</td>\n      <td id=\"T_f71d8_row31_col5\" class=\"data row31 col5\" >-0.076198</td>\n      <td id=\"T_f71d8_row31_col6\" class=\"data row31 col6\" >-0.080585</td>\n      <td id=\"T_f71d8_row31_col7\" class=\"data row31 col7\" >-0.065565</td>\n      <td id=\"T_f71d8_row31_col8\" class=\"data row31 col8\" >-0.074559</td>\n      <td id=\"T_f71d8_row31_col9\" class=\"data row31 col9\" >0.168755</td>\n      <td id=\"T_f71d8_row31_col10\" class=\"data row31 col10\" >0.112669</td>\n      <td id=\"T_f71d8_row31_col11\" class=\"data row31 col11\" >-0.112989</td>\n      <td id=\"T_f71d8_row31_col12\" class=\"data row31 col12\" >-0.125242</td>\n      <td id=\"T_f71d8_row31_col13\" class=\"data row31 col13\" >0.124957</td>\n      <td id=\"T_f71d8_row31_col14\" class=\"data row31 col14\" >-0.081620</td>\n      <td id=\"T_f71d8_row31_col15\" class=\"data row31 col15\" >0.145206</td>\n      <td id=\"T_f71d8_row31_col16\" class=\"data row31 col16\" >-0.059314</td>\n      <td id=\"T_f71d8_row31_col17\" class=\"data row31 col17\" >0.079990</td>\n      <td id=\"T_f71d8_row31_col18\" class=\"data row31 col18\" >-0.091401</td>\n      <td id=\"T_f71d8_row31_col19\" class=\"data row31 col19\" >0.215941</td>\n      <td id=\"T_f71d8_row31_col20\" class=\"data row31 col20\" >0.088775</td>\n      <td id=\"T_f71d8_row31_col21\" class=\"data row31 col21\" >-0.158194</td>\n      <td id=\"T_f71d8_row31_col22\" class=\"data row31 col22\" >-0.266170</td>\n      <td id=\"T_f71d8_row31_col23\" class=\"data row31 col23\" >-0.174951</td>\n      <td id=\"T_f71d8_row31_col24\" class=\"data row31 col24\" >-0.296329</td>\n      <td id=\"T_f71d8_row31_col25\" class=\"data row31 col25\" >-0.121009</td>\n      <td id=\"T_f71d8_row31_col26\" class=\"data row31 col26\" >0.165626</td>\n      <td id=\"T_f71d8_row31_col27\" class=\"data row31 col27\" >-0.219706</td>\n      <td id=\"T_f71d8_row31_col28\" class=\"data row31 col28\" >-0.050919</td>\n      <td id=\"T_f71d8_row31_col29\" class=\"data row31 col29\" >-0.045920</td>\n      <td id=\"T_f71d8_row31_col30\" class=\"data row31 col30\" >-0.082931</td>\n      <td id=\"T_f71d8_row31_col31\" class=\"data row31 col31\" >1.000000</td>\n      <td id=\"T_f71d8_row31_col32\" class=\"data row31 col32\" >-0.028579</td>\n      <td id=\"T_f71d8_row31_col33\" class=\"data row31 col33\" >-0.100356</td>\n      <td id=\"T_f71d8_row31_col34\" class=\"data row31 col34\" >-0.127245</td>\n      <td id=\"T_f71d8_row31_col35\" class=\"data row31 col35\" >-0.068482</td>\n    </tr>\n    <tr>\n      <th id=\"T_f71d8_level0_row32\" class=\"row_heading level0 row32\" >Dirtiness</th>\n      <td id=\"T_f71d8_row32_col0\" class=\"data row32 col0\" >-0.005392</td>\n      <td id=\"T_f71d8_row32_col1\" class=\"data row32 col1\" >0.049491</td>\n      <td id=\"T_f71d8_row32_col2\" class=\"data row32 col2\" >0.042994</td>\n      <td id=\"T_f71d8_row32_col3\" class=\"data row32 col3\" >0.000691</td>\n      <td id=\"T_f71d8_row32_col4\" class=\"data row32 col4\" >-0.001071</td>\n      <td id=\"T_f71d8_row32_col5\" class=\"data row32 col5\" >-0.052853</td>\n      <td id=\"T_f71d8_row32_col6\" class=\"data row32 col6\" >-0.047448</td>\n      <td id=\"T_f71d8_row32_col7\" class=\"data row32 col7\" >-0.013326</td>\n      <td id=\"T_f71d8_row32_col8\" class=\"data row32 col8\" >-0.047580</td>\n      <td id=\"T_f71d8_row32_col9\" class=\"data row32 col9\" >0.078997</td>\n      <td id=\"T_f71d8_row32_col10\" class=\"data row32 col10\" >0.020788</td>\n      <td id=\"T_f71d8_row32_col11\" class=\"data row32 col11\" >-0.052616</td>\n      <td id=\"T_f71d8_row32_col12\" class=\"data row32 col12\" >-0.080254</td>\n      <td id=\"T_f71d8_row32_col13\" class=\"data row32 col13\" >0.080521</td>\n      <td id=\"T_f71d8_row32_col14\" class=\"data row32 col14\" >0.012443</td>\n      <td id=\"T_f71d8_row32_col15\" class=\"data row32 col15\" >0.068766</td>\n      <td id=\"T_f71d8_row32_col16\" class=\"data row32 col16\" >-0.011697</td>\n      <td id=\"T_f71d8_row32_col17\" class=\"data row32 col17\" >-0.140009</td>\n      <td id=\"T_f71d8_row32_col18\" class=\"data row32 col18\" >-0.071218</td>\n      <td id=\"T_f71d8_row32_col19\" class=\"data row32 col19\" >-0.111799</td>\n      <td id=\"T_f71d8_row32_col20\" class=\"data row32 col20\" >0.084754</td>\n      <td id=\"T_f71d8_row32_col21\" class=\"data row32 col21\" >0.102991</td>\n      <td id=\"T_f71d8_row32_col22\" class=\"data row32 col22\" >-0.018832</td>\n      <td id=\"T_f71d8_row32_col23\" class=\"data row32 col23\" >-0.087875</td>\n      <td id=\"T_f71d8_row32_col24\" class=\"data row32 col24\" >0.051848</td>\n      <td id=\"T_f71d8_row32_col25\" class=\"data row32 col25\" >0.149546</td>\n      <td id=\"T_f71d8_row32_col26\" class=\"data row32 col26\" >0.039676</td>\n      <td id=\"T_f71d8_row32_col27\" class=\"data row32 col27\" >0.016962</td>\n      <td id=\"T_f71d8_row32_col28\" class=\"data row32 col28\" >-0.046658</td>\n      <td id=\"T_f71d8_row32_col29\" class=\"data row32 col29\" >-0.042078</td>\n      <td id=\"T_f71d8_row32_col30\" class=\"data row32 col30\" >-0.075992</td>\n      <td id=\"T_f71d8_row32_col31\" class=\"data row32 col31\" >-0.028579</td>\n      <td id=\"T_f71d8_row32_col32\" class=\"data row32 col32\" >1.000000</td>\n      <td id=\"T_f71d8_row32_col33\" class=\"data row32 col33\" >-0.091959</td>\n      <td id=\"T_f71d8_row32_col34\" class=\"data row32 col34\" >-0.116598</td>\n      <td id=\"T_f71d8_row32_col35\" class=\"data row32 col35\" >-0.040230</td>\n    </tr>\n    <tr>\n      <th id=\"T_f71d8_level0_row33\" class=\"row_heading level0 row33\" >Bumps</th>\n      <td id=\"T_f71d8_row33_col0\" class=\"data row33 col0\" >0.012796</td>\n      <td id=\"T_f71d8_row33_col1\" class=\"data row33 col1\" >0.207879</td>\n      <td id=\"T_f71d8_row33_col2\" class=\"data row33 col2\" >0.189672</td>\n      <td id=\"T_f71d8_row33_col3\" class=\"data row33 col3\" >0.062877</td>\n      <td id=\"T_f71d8_row33_col4\" class=\"data row33 col4\" >0.063040</td>\n      <td id=\"T_f71d8_row33_col5\" class=\"data row33 col5\" >-0.215670</td>\n      <td id=\"T_f71d8_row33_col6\" class=\"data row33 col6\" >-0.203719</td>\n      <td id=\"T_f71d8_row33_col7\" class=\"data row33 col7\" >-0.147243</td>\n      <td id=\"T_f71d8_row33_col8\" class=\"data row33 col8\" >-0.204360</td>\n      <td id=\"T_f71d8_row33_col9\" class=\"data row33 col9\" >0.128873</td>\n      <td id=\"T_f71d8_row33_col10\" class=\"data row33 col10\" >-0.067735</td>\n      <td id=\"T_f71d8_row33_col11\" class=\"data row33 col11\" >0.187347</td>\n      <td id=\"T_f71d8_row33_col12\" class=\"data row33 col12\" >0.251118</td>\n      <td id=\"T_f71d8_row33_col13\" class=\"data row33 col13\" >-0.249987</td>\n      <td id=\"T_f71d8_row33_col14\" class=\"data row33 col14\" >0.005859</td>\n      <td id=\"T_f71d8_row33_col15\" class=\"data row33 col15\" >0.196283</td>\n      <td id=\"T_f71d8_row33_col16\" class=\"data row33 col16\" >-0.137381</td>\n      <td id=\"T_f71d8_row33_col17\" class=\"data row33 col17\" >0.182988</td>\n      <td id=\"T_f71d8_row33_col18\" class=\"data row33 col18\" >-0.226827</td>\n      <td id=\"T_f71d8_row33_col19\" class=\"data row33 col19\" >0.163217</td>\n      <td id=\"T_f71d8_row33_col20\" class=\"data row33 col20\" >0.209094</td>\n      <td id=\"T_f71d8_row33_col21\" class=\"data row33 col21\" >0.048954</td>\n      <td id=\"T_f71d8_row33_col22\" class=\"data row33 col22\" >-0.245400</td>\n      <td id=\"T_f71d8_row33_col23\" class=\"data row33 col23\" >-0.213308</td>\n      <td id=\"T_f71d8_row33_col24\" class=\"data row33 col24\" >-0.230747</td>\n      <td id=\"T_f71d8_row33_col25\" class=\"data row33 col25\" >0.032633</td>\n      <td id=\"T_f71d8_row33_col26\" class=\"data row33 col26\" >-0.056981</td>\n      <td id=\"T_f71d8_row33_col27\" class=\"data row33 col27\" >-0.221907</td>\n      <td id=\"T_f71d8_row33_col28\" class=\"data row33 col28\" >-0.163839</td>\n      <td id=\"T_f71d8_row33_col29\" class=\"data row33 col29\" >-0.147755</td>\n      <td id=\"T_f71d8_row33_col30\" class=\"data row33 col30\" >-0.266273</td>\n      <td id=\"T_f71d8_row33_col31\" class=\"data row33 col31\" >-0.100356</td>\n      <td id=\"T_f71d8_row33_col32\" class=\"data row33 col32\" >-0.091959</td>\n      <td id=\"T_f71d8_row33_col33\" class=\"data row33 col33\" >1.000000</td>\n      <td id=\"T_f71d8_row33_col34\" class=\"data row33 col34\" >-0.409432</td>\n      <td id=\"T_f71d8_row33_col35\" class=\"data row33 col35\" >0.088021</td>\n    </tr>\n    <tr>\n      <th id=\"T_f71d8_level0_row34\" class=\"row_heading level0 row34\" >Other_Faults</th>\n      <td id=\"T_f71d8_row34_col0\" class=\"data row34 col0\" >0.001456</td>\n      <td id=\"T_f71d8_row34_col1\" class=\"data row34 col1\" >0.168437</td>\n      <td id=\"T_f71d8_row34_col2\" class=\"data row34 col2\" >0.152013</td>\n      <td id=\"T_f71d8_row34_col3\" class=\"data row34 col3\" >-0.024940</td>\n      <td id=\"T_f71d8_row34_col4\" class=\"data row34 col4\" >-0.024325</td>\n      <td id=\"T_f71d8_row34_col5\" class=\"data row34 col5\" >-0.193373</td>\n      <td id=\"T_f71d8_row34_col6\" class=\"data row34 col6\" >-0.176684</td>\n      <td id=\"T_f71d8_row34_col7\" class=\"data row34 col7\" >-0.115527</td>\n      <td id=\"T_f71d8_row34_col8\" class=\"data row34 col8\" >-0.186663</td>\n      <td id=\"T_f71d8_row34_col9\" class=\"data row34 col9\" >0.210696</td>\n      <td id=\"T_f71d8_row34_col10\" class=\"data row34 col10\" >-0.008162</td>\n      <td id=\"T_f71d8_row34_col11\" class=\"data row34 col11\" >0.111445</td>\n      <td id=\"T_f71d8_row34_col12\" class=\"data row34 col12\" >0.058077</td>\n      <td id=\"T_f71d8_row34_col13\" class=\"data row34 col13\" >-0.057347</td>\n      <td id=\"T_f71d8_row34_col14\" class=\"data row34 col14\" >0.213510</td>\n      <td id=\"T_f71d8_row34_col15\" class=\"data row34 col15\" >0.079959</td>\n      <td id=\"T_f71d8_row34_col16\" class=\"data row34 col16\" >0.009534</td>\n      <td id=\"T_f71d8_row34_col17\" class=\"data row34 col17\" >-0.015531</td>\n      <td id=\"T_f71d8_row34_col18\" class=\"data row34 col18\" >-0.209446</td>\n      <td id=\"T_f71d8_row34_col19\" class=\"data row34 col19\" >0.026569</td>\n      <td id=\"T_f71d8_row34_col20\" class=\"data row34 col20\" >0.142372</td>\n      <td id=\"T_f71d8_row34_col21\" class=\"data row34 col21\" >0.074182</td>\n      <td id=\"T_f71d8_row34_col22\" class=\"data row34 col22\" >-0.195025</td>\n      <td id=\"T_f71d8_row34_col23\" class=\"data row34 col23\" >-0.197192</td>\n      <td id=\"T_f71d8_row34_col24\" class=\"data row34 col24\" >-0.144656</td>\n      <td id=\"T_f71d8_row34_col25\" class=\"data row34 col25\" >0.098355</td>\n      <td id=\"T_f71d8_row34_col26\" class=\"data row34 col26\" >0.037243</td>\n      <td id=\"T_f71d8_row34_col27\" class=\"data row34 col27\" >-0.126690</td>\n      <td id=\"T_f71d8_row34_col28\" class=\"data row34 col28\" >-0.207737</td>\n      <td id=\"T_f71d8_row34_col29\" class=\"data row34 col29\" >-0.187344</td>\n      <td id=\"T_f71d8_row34_col30\" class=\"data row34 col30\" >-0.333679</td>\n      <td id=\"T_f71d8_row34_col31\" class=\"data row34 col31\" >-0.127245</td>\n      <td id=\"T_f71d8_row34_col32\" class=\"data row34 col32\" >-0.116598</td>\n      <td id=\"T_f71d8_row34_col33\" class=\"data row34 col33\" >-0.409432</td>\n      <td id=\"T_f71d8_row34_col34\" class=\"data row34 col34\" >1.000000</td>\n      <td id=\"T_f71d8_row34_col35\" class=\"data row34 col35\" >0.824332</td>\n    </tr>\n    <tr>\n      <th id=\"T_f71d8_level0_row35\" class=\"row_heading level0 row35\" >Unnamed: 0</th>\n      <td id=\"T_f71d8_row35_col0\" class=\"data row35 col0\" >1.000000</td>\n      <td id=\"T_f71d8_row35_col1\" class=\"data row35 col1\" >0.239853</td>\n      <td id=\"T_f71d8_row35_col2\" class=\"data row35 col2\" >0.220862</td>\n      <td id=\"T_f71d8_row35_col3\" class=\"data row35 col3\" >0.000891</td>\n      <td id=\"T_f71d8_row35_col4\" class=\"data row35 col4\" >0.000878</td>\n      <td id=\"T_f71d8_row35_col5\" class=\"data row35 col5\" >-0.224102</td>\n      <td id=\"T_f71d8_row35_col6\" class=\"data row35 col6\" >-0.179783</td>\n      <td id=\"T_f71d8_row35_col7\" class=\"data row35 col7\" >-0.095054</td>\n      <td id=\"T_f71d8_row35_col8\" class=\"data row35 col8\" >-0.250384</td>\n      <td id=\"T_f71d8_row35_col9\" class=\"data row35 col9\" >0.277403</td>\n      <td id=\"T_f71d8_row35_col10\" class=\"data row35 col10\" >0.024107</td>\n      <td id=\"T_f71d8_row35_col11\" class=\"data row35 col11\" >0.142748</td>\n      <td id=\"T_f71d8_row35_col12\" class=\"data row35 col12\" >0.054129</td>\n      <td id=\"T_f71d8_row35_col13\" class=\"data row35 col13\" >-0.054129</td>\n      <td id=\"T_f71d8_row35_col14\" class=\"data row35 col14\" >0.265582</td>\n      <td id=\"T_f71d8_row35_col15\" class=\"data row35 col15\" >0.207683</td>\n      <td id=\"T_f71d8_row35_col16\" class=\"data row35 col16\" >0.036218</td>\n      <td id=\"T_f71d8_row35_col17\" class=\"data row35 col17\" >0.048309</td>\n      <td id=\"T_f71d8_row35_col18\" class=\"data row35 col18\" >-0.188367</td>\n      <td id=\"T_f71d8_row35_col19\" class=\"data row35 col19\" >0.193724</td>\n      <td id=\"T_f71d8_row35_col20\" class=\"data row35 col20\" >0.059476</td>\n      <td id=\"T_f71d8_row35_col21\" class=\"data row35 col21\" >-0.077990</td>\n      <td id=\"T_f71d8_row35_col22\" class=\"data row35 col22\" >-0.265506</td>\n      <td id=\"T_f71d8_row35_col23\" class=\"data row35 col23\" >-0.157923</td>\n      <td id=\"T_f71d8_row35_col24\" class=\"data row35 col24\" >-0.283482</td>\n      <td id=\"T_f71d8_row35_col25\" class=\"data row35 col25\" >-0.094387</td>\n      <td id=\"T_f71d8_row35_col26\" class=\"data row35 col26\" >0.071666</td>\n      <td id=\"T_f71d8_row35_col27\" class=\"data row35 col27\" >-0.174019</td>\n      <td id=\"T_f71d8_row35_col28\" class=\"data row35 col28\" >-0.473630</td>\n      <td id=\"T_f71d8_row35_col29\" class=\"data row35 col29\" >-0.421814</td>\n      <td id=\"T_f71d8_row35_col30\" class=\"data row35 col30\" >-0.382750</td>\n      <td id=\"T_f71d8_row35_col31\" class=\"data row35 col31\" >-0.068482</td>\n      <td id=\"T_f71d8_row35_col32\" class=\"data row35 col32\" >-0.040230</td>\n      <td id=\"T_f71d8_row35_col33\" class=\"data row35 col33\" >0.088021</td>\n      <td id=\"T_f71d8_row35_col34\" class=\"data row35 col34\" >0.824332</td>\n      <td id=\"T_f71d8_row35_col35\" class=\"data row35 col35\" >1.000000</td>\n    </tr>\n  </tbody>\n</table>\n"
     },
     "execution_count": 14,
     "metadata": {},
     "output_type": "execute_result"
    }
   ]
  },
  {
   "cell_type": "markdown",
   "source": [
    "- **Most correlation between features:**\n",
    "\n",
    "*   *Y_maximum and Y_minimum*\n",
    "*   *X_maximum and X_minimum*\n",
    "*   *X_Perimeter and Y_Perimeter*\n",
    "*   *Outside_X_Index and Log_X_Index*\n",
    "\n",
    "\n",
    "\n",
    "\n"
   ],
   "metadata": {
    "id": "egBw8iIIItzL"
   }
  },
  {
   "cell_type": "code",
   "source": [
    "# For Train\n",
    "train['Y_Range'] = train['Y_Maximum'] - train['Y_Minimum']\n",
    "train['X_Range'] = train['X_Maximum'] - train['X_Minimum']\n",
    "train['XY_Ascpect_Ratio'] = train['X_Perimeter'] / (train['X_Perimeter'] + train['Y_Perimeter'])\n",
    "train['Log_XY_Ascpect_Ratio'] = train['Log_X_Index'] / (train['Log_X_Index'] + train['Log_Y_Index'])\n",
    "train['Edges_XY_Ascpect_Ratio'] = train['Edges_X_Index'] / (train['Edges_X_Index'] + train['Edges_Y_Index'])\n",
    "train['Luminosity_Range'] = train['Maximum_of_Luminosity'] - train['Minimum_of_Luminosity']\n",
    "\n",
    "\n",
    "# For Test\n",
    "test['Y_Range'] = test['Y_Maximum'] - test['Y_Minimum']\n",
    "test['X_Range'] = test['X_Maximum'] - test['X_Minimum']\n",
    "test['XY_Ascpect_Ratio'] = test['X_Perimeter'] / (test['X_Perimeter'] + test['Y_Perimeter'])\n",
    "test['Log_XY_Ascpect_Ratio'] = test['Log_X_Index'] / (test['Log_X_Index'] + test['Log_Y_Index'])\n",
    "test['Edges_XY_Ascpect_Ratio'] = test['Edges_X_Index'] / (test['Edges_X_Index'] + test['Edges_Y_Index'])\n",
    "test['Luminosity_Range'] = test['Maximum_of_Luminosity'] - test['Minimum_of_Luminosity']"
   ],
   "metadata": {
    "id": "UJpvXaQOKyih",
    "ExecuteTime": {
     "end_time": "2024-03-11T17:12:33.980667700Z",
     "start_time": "2024-03-11T17:12:33.962554200Z"
    }
   },
   "execution_count": 15,
   "outputs": []
  },
  {
   "cell_type": "markdown",
   "source": [
    "## Data Preprocessing"
   ],
   "metadata": {
    "id": "VRBoJN95OC3c"
   }
  },
  {
   "cell_type": "code",
   "source": [
    "from sklearn.preprocessing import MinMaxScaler, StandardScaler, LabelEncoder\n",
    "from sklearn.model_selection import train_test_split"
   ],
   "metadata": {
    "id": "lWOqwvpkOECQ",
    "ExecuteTime": {
     "end_time": "2024-03-11T17:12:34.239381Z",
     "start_time": "2024-03-11T17:12:33.974146600Z"
    }
   },
   "execution_count": 16,
   "outputs": []
  },
  {
   "cell_type": "code",
   "source": [
    "train.drop(['id', 'Unnamed: 0'], axis=1, inplace=True)\n",
    "test.drop('id', axis=1, inplace=True)"
   ],
   "metadata": {
    "id": "GvGmGv0iIPHo",
    "ExecuteTime": {
     "end_time": "2024-03-11T17:12:34.256444100Z",
     "start_time": "2024-03-11T17:12:34.242383400Z"
    }
   },
   "execution_count": 17,
   "outputs": []
  },
  {
   "cell_type": "code",
   "source": [
    "target = ['Pastry', 'Z_Scratch', 'K_Scatch', 'Stains', 'Dirtiness', 'Bumps', 'Other_Faults']\n",
    "y = train[target]\n",
    "X = train.drop(columns=target)"
   ],
   "metadata": {
    "id": "WE7DrDUmlCEL",
    "ExecuteTime": {
     "end_time": "2024-03-11T17:12:34.262084100Z",
     "start_time": "2024-03-11T17:12:34.257453500Z"
    }
   },
   "execution_count": 18,
   "outputs": []
  },
  {
   "cell_type": "code",
   "source": [
    "targets_bin = y.copy()\n",
    "y = targets_bin@(np.arange(targets_bin.shape[1]) + 1)\n",
    "y[targets_bin.sum(axis=1)==2] = 3"
   ],
   "metadata": {
    "id": "h4w_F9gQSLjw",
    "ExecuteTime": {
     "end_time": "2024-03-11T17:12:34.297801600Z",
     "start_time": "2024-03-11T17:12:34.265083700Z"
    }
   },
   "execution_count": 19,
   "outputs": []
  },
  {
   "cell_type": "code",
   "source": [
    "X_train, X_test, y_train, y_test = train_test_split(X, y, test_size=0.2, random_state=42)"
   ],
   "metadata": {
    "id": "fIqI97HFmoRw",
    "ExecuteTime": {
     "end_time": "2024-03-11T17:12:34.300800800Z",
     "start_time": "2024-03-11T17:12:34.280995900Z"
    }
   },
   "execution_count": 20,
   "outputs": []
  },
  {
   "cell_type": "code",
   "source": [
    "# ss = StandardScaler()\n",
    "# ss.fit(X_train, y_train)\n",
    "\n",
    "mms = MinMaxScaler()\n",
    "mms.fit(X_train, y_train)"
   ],
   "metadata": {
    "colab": {
     "base_uri": "https://localhost:8080/",
     "height": 0
    },
    "id": "ZKQN_AgDmvx0",
    "outputId": "f988c173-7493-4c3e-f8ba-730232389d3a",
    "ExecuteTime": {
     "end_time": "2024-03-11T17:12:34.327957900Z",
     "start_time": "2024-03-11T17:12:34.293516200Z"
    }
   },
   "execution_count": 21,
   "outputs": [
    {
     "data": {
      "text/plain": "MinMaxScaler()",
      "text/html": "<style>#sk-container-id-1 {color: black;}#sk-container-id-1 pre{padding: 0;}#sk-container-id-1 div.sk-toggleable {background-color: white;}#sk-container-id-1 label.sk-toggleable__label {cursor: pointer;display: block;width: 100%;margin-bottom: 0;padding: 0.3em;box-sizing: border-box;text-align: center;}#sk-container-id-1 label.sk-toggleable__label-arrow:before {content: \"▸\";float: left;margin-right: 0.25em;color: #696969;}#sk-container-id-1 label.sk-toggleable__label-arrow:hover:before {color: black;}#sk-container-id-1 div.sk-estimator:hover label.sk-toggleable__label-arrow:before {color: black;}#sk-container-id-1 div.sk-toggleable__content {max-height: 0;max-width: 0;overflow: hidden;text-align: left;background-color: #f0f8ff;}#sk-container-id-1 div.sk-toggleable__content pre {margin: 0.2em;color: black;border-radius: 0.25em;background-color: #f0f8ff;}#sk-container-id-1 input.sk-toggleable__control:checked~div.sk-toggleable__content {max-height: 200px;max-width: 100%;overflow: auto;}#sk-container-id-1 input.sk-toggleable__control:checked~label.sk-toggleable__label-arrow:before {content: \"▾\";}#sk-container-id-1 div.sk-estimator input.sk-toggleable__control:checked~label.sk-toggleable__label {background-color: #d4ebff;}#sk-container-id-1 div.sk-label input.sk-toggleable__control:checked~label.sk-toggleable__label {background-color: #d4ebff;}#sk-container-id-1 input.sk-hidden--visually {border: 0;clip: rect(1px 1px 1px 1px);clip: rect(1px, 1px, 1px, 1px);height: 1px;margin: -1px;overflow: hidden;padding: 0;position: absolute;width: 1px;}#sk-container-id-1 div.sk-estimator {font-family: monospace;background-color: #f0f8ff;border: 1px dotted black;border-radius: 0.25em;box-sizing: border-box;margin-bottom: 0.5em;}#sk-container-id-1 div.sk-estimator:hover {background-color: #d4ebff;}#sk-container-id-1 div.sk-parallel-item::after {content: \"\";width: 100%;border-bottom: 1px solid gray;flex-grow: 1;}#sk-container-id-1 div.sk-label:hover label.sk-toggleable__label {background-color: #d4ebff;}#sk-container-id-1 div.sk-serial::before {content: \"\";position: absolute;border-left: 1px solid gray;box-sizing: border-box;top: 0;bottom: 0;left: 50%;z-index: 0;}#sk-container-id-1 div.sk-serial {display: flex;flex-direction: column;align-items: center;background-color: white;padding-right: 0.2em;padding-left: 0.2em;position: relative;}#sk-container-id-1 div.sk-item {position: relative;z-index: 1;}#sk-container-id-1 div.sk-parallel {display: flex;align-items: stretch;justify-content: center;background-color: white;position: relative;}#sk-container-id-1 div.sk-item::before, #sk-container-id-1 div.sk-parallel-item::before {content: \"\";position: absolute;border-left: 1px solid gray;box-sizing: border-box;top: 0;bottom: 0;left: 50%;z-index: -1;}#sk-container-id-1 div.sk-parallel-item {display: flex;flex-direction: column;z-index: 1;position: relative;background-color: white;}#sk-container-id-1 div.sk-parallel-item:first-child::after {align-self: flex-end;width: 50%;}#sk-container-id-1 div.sk-parallel-item:last-child::after {align-self: flex-start;width: 50%;}#sk-container-id-1 div.sk-parallel-item:only-child::after {width: 0;}#sk-container-id-1 div.sk-dashed-wrapped {border: 1px dashed gray;margin: 0 0.4em 0.5em 0.4em;box-sizing: border-box;padding-bottom: 0.4em;background-color: white;}#sk-container-id-1 div.sk-label label {font-family: monospace;font-weight: bold;display: inline-block;line-height: 1.2em;}#sk-container-id-1 div.sk-label-container {text-align: center;}#sk-container-id-1 div.sk-container {/* jupyter's `normalize.less` sets `[hidden] { display: none; }` but bootstrap.min.css set `[hidden] { display: none !important; }` so we also need the `!important` here to be able to override the default hidden behavior on the sphinx rendered scikit-learn.org. See: https://github.com/scikit-learn/scikit-learn/issues/21755 */display: inline-block !important;position: relative;}#sk-container-id-1 div.sk-text-repr-fallback {display: none;}</style><div id=\"sk-container-id-1\" class=\"sk-top-container\"><div class=\"sk-text-repr-fallback\"><pre>MinMaxScaler()</pre><b>In a Jupyter environment, please rerun this cell to show the HTML representation or trust the notebook. <br />On GitHub, the HTML representation is unable to render, please try loading this page with nbviewer.org.</b></div><div class=\"sk-container\" hidden><div class=\"sk-item\"><div class=\"sk-estimator sk-toggleable\"><input class=\"sk-toggleable__control sk-hidden--visually\" id=\"sk-estimator-id-1\" type=\"checkbox\" checked><label for=\"sk-estimator-id-1\" class=\"sk-toggleable__label sk-toggleable__label-arrow\">MinMaxScaler</label><div class=\"sk-toggleable__content\"><pre>MinMaxScaler()</pre></div></div></div></div></div>"
     },
     "execution_count": 21,
     "metadata": {},
     "output_type": "execute_result"
    }
   ]
  },
  {
   "cell_type": "code",
   "source": [
    "X_train.shape"
   ],
   "metadata": {
    "colab": {
     "base_uri": "https://localhost:8080/"
    },
    "id": "DjGPHI1TnOsF",
    "outputId": "4ace7e2c-be87-43d6-ebcd-0cf1c8dd4e11",
    "ExecuteTime": {
     "end_time": "2024-03-11T17:12:34.346477600Z",
     "start_time": "2024-03-11T17:12:34.308602400Z"
    }
   },
   "execution_count": 22,
   "outputs": [
    {
     "data": {
      "text/plain": "(16928, 33)"
     },
     "execution_count": 22,
     "metadata": {},
     "output_type": "execute_result"
    }
   ]
  },
  {
   "cell_type": "code",
   "source": [
    "y_train.shape"
   ],
   "metadata": {
    "colab": {
     "base_uri": "https://localhost:8080/"
    },
    "id": "g4E_o9YwnQHC",
    "outputId": "92f83d26-efdf-4ff7-b44a-d946aef51e49"
   },
   "execution_count": 45,
   "outputs": [
    {
     "output_type": "execute_result",
     "data": {
      "text/plain": [
       "(16928,)"
      ]
     },
     "metadata": {},
     "execution_count": 45
    }
   ]
  },
  {
   "cell_type": "markdown",
   "source": [
    "## Catboost"
   ],
   "metadata": {
    "id": "9p9PzmWfSUaJ"
   }
  },
  {
   "cell_type": "code",
   "source": [
    "!pip install catboost\n",
    "import catboost\n",
    "cb = catboost.CatBoostClassifier()\n",
    "cb.fit(X_train, y_train)\n",
    "clear_output(wait=True)"
   ],
   "metadata": {
    "id": "-BRF4nCtm8HI"
   },
   "execution_count": null,
   "outputs": []
  },
  {
   "cell_type": "code",
   "source": [
    "y_pred_catboost = cb.predict(X_test)"
   ],
   "metadata": {
    "id": "mfQnNtn7V21s"
   },
   "execution_count": null,
   "outputs": []
  },
  {
   "cell_type": "code",
   "source": [
    "from sklearn.metrics import classification_report\n",
    "print(classification_report(y_test, y_pred_catboost))"
   ],
   "metadata": {
    "colab": {
     "base_uri": "https://localhost:8080/"
    },
    "id": "jVoKjMVZVyxn",
    "outputId": "3631b1b5-9ccc-4a24-e44c-adfc646f7bae"
   },
   "execution_count": null,
   "outputs": [
    {
     "output_type": "stream",
     "name": "stdout",
     "text": [
      "              precision    recall  f1-score   support\n",
      "\n",
      "           0       0.00      0.00      0.00       243\n",
      "           1       0.40      0.25      0.31       469\n",
      "           2       0.63      0.63      0.63       395\n",
      "           3       0.89      0.92      0.90      1113\n",
      "           4       0.77      0.80      0.78       220\n",
      "           5       0.45      0.23      0.30       151\n",
      "           6       0.51      0.55      0.53      1491\n",
      "           7       0.52      0.59      0.55      2266\n",
      "\n",
      "    accuracy                           0.59      6348\n",
      "   macro avg       0.52      0.50      0.50      6348\n",
      "weighted avg       0.57      0.59      0.58      6348\n"
     ]
    }
   ]
  },
  {
   "cell_type": "markdown",
   "source": [
    "## CatBoost with Tuned-Optuna"
   ],
   "metadata": {
    "id": "G1IgOoTZDLKX"
   }
  },
  {
   "cell_type": "code",
   "source": [
    "!pip install catboost\n",
    "import catboost\n",
    "clear_output()"
   ],
   "metadata": {
    "id": "L2iZBBsxDSij"
   },
   "execution_count": null,
   "outputs": []
  },
  {
   "cell_type": "code",
   "source": [
    "# Using google.colab import 3rd party widgets. In this case, using for CatBoost Plot.\n",
    "# from google.colab import output\n",
    "# output.enable_custom_widget_manager()"
   ],
   "metadata": {
    "id": "yA7N-l56kcD_"
   },
   "execution_count": null,
   "outputs": []
  },
  {
   "cell_type": "code",
   "source": [
    "params = {\n",
    "    'iterations': 821,\n",
    "    'depth': 13,\n",
    "    'learning_rate': 0.015,\n",
    "    'l2_leaf_reg': 0.5,\n",
    "    'random_strength': 0.1,\n",
    "    'max_bin': 200,\n",
    "    'od_wait': 65,\n",
    "    'one_hot_max_size': 50,\n",
    "    'grow_policy': 'Depthwise',\n",
    "    'bootstrap_type': 'Bernoulli',\n",
    "    'od_type': 'Iter',\n",
    "    'eval_metric': 'AUC',\n",
    "    'loss_function': 'MultiClass',\n",
    "    'random_state': 42,\n",
    "    'verbose': 0\n",
    "}\n",
    "\n",
    "cb = catboost.CatBoostClassifier(**params)\n",
    "cb.fit(X_train, y_train)"
   ],
   "metadata": {
    "id": "EZiVD1WgDRYX"
   },
   "execution_count": null,
   "outputs": []
  },
  {
   "cell_type": "code",
   "source": [
    "y_pred_catboost = cb.predict(X_test)"
   ],
   "metadata": {
    "id": "kQOKjjY7DZ8w"
   },
   "execution_count": null,
   "outputs": []
  },
  {
   "cell_type": "markdown",
   "source": [
    "Support for third party widgets will remain active for the duration of the session. To disable support:"
   ],
   "metadata": {
    "id": "uTMjHcIXkcEH"
   }
  },
  {
   "cell_type": "code",
   "source": [
    "from sklearn.metrics import classification_report, accuracy_score\n",
    "print(classification_report(y_test, y_pred_catboost))\n",
    "print(\"--\" * 30)\n",
    "\n",
    "last_score = accuracy_score(y_test, y_pred_catboost)\n",
    "print(\"Last Score:\", last_score)"
   ],
   "metadata": {
    "id": "G8R2T8B5DaUJ",
    "colab": {
     "base_uri": "https://localhost:8080/"
    },
    "outputId": "5c5ef78f-61a3-479d-cd80-8195103bf62d"
   },
   "execution_count": null,
   "outputs": [
    {
     "output_type": "stream",
     "name": "stdout",
     "text": [
      "              precision    recall  f1-score   support\n",
      "\n",
      "           0       0.00      0.00      0.00       164\n",
      "           1       0.49      0.25      0.33       322\n",
      "           2       0.64      0.62      0.63       258\n",
      "           3       0.88      0.93      0.91       753\n",
      "           4       0.77      0.84      0.80       132\n",
      "           5       0.46      0.20      0.28        97\n",
      "           6       0.51      0.53      0.52       982\n",
      "           7       0.52      0.62      0.56      1524\n",
      "\n",
      "    accuracy                           0.60      4232\n",
      "   macro avg       0.53      0.50      0.50      4232\n",
      "weighted avg       0.57      0.60      0.58      4232\n",
      "\n",
      "------------------------------------------------------------\n",
      "Last Score: 0.5992438563327032\n"
     ]
    }
   ]
  },
  {
   "cell_type": "markdown",
   "source": [
    "## LightLGBM with Tuned-Optuna"
   ],
   "metadata": {
    "id": "ruDHQ_c5SV2z"
   }
  },
  {
   "cell_type": "code",
   "source": [
    "!pip install lightgbm\n",
    "clear_output()"
   ],
   "metadata": {
    "id": "qNT2vAjqrrac"
   },
   "execution_count": null,
   "outputs": []
  },
  {
   "cell_type": "code",
   "source": [
    "import lightgbm as lgbm\n",
    "\n",
    "# Fit the LightGBM classifier\n",
    "params = {'objective': 'multiclass',\n",
    " 'metric': 'multi_logloss',\n",
    " 'verbosity': -1,\n",
    " 'boosting_type': 'gbdt',\n",
    " 'random_state': 42,\n",
    " 'num_class': 7,\n",
    " 'learning_rate': 0.03096221154683276,\n",
    " 'n_estimators': 500,\n",
    " 'lambda_l1': 0.009667446568254372,\n",
    " 'lambda_l2': 0.040186414373018,\n",
    " 'max_depth': 10,\n",
    " 'colsample_bytree': 0.4097712934687264,\n",
    " 'subsample': 0.9535797422450176,\n",
    " 'min_child_samples': 26\n",
    "          }\n",
    "\n",
    "lgbm = lgbm.LGBMClassifier(**params)\n",
    "lgbm.fit(X_train, y_train)"
   ],
   "metadata": {
    "colab": {
     "base_uri": "https://localhost:8080/",
     "height": 161
    },
    "id": "ALUk6ntlr0fF",
    "outputId": "6e3c3eda-8f66-4f80-87fe-95c81f553b7b"
   },
   "execution_count": null,
   "outputs": [
    {
     "output_type": "execute_result",
     "data": {
      "text/plain": [
       "LGBMClassifier(colsample_bytree=0.4097712934687264,\n",
       "               lambda_l1=0.009667446568254372, lambda_l2=0.040186414373018,\n",
       "               learning_rate=0.03096221154683276, max_depth=10,\n",
       "               metric='multi_logloss', min_child_samples=26, n_estimators=500,\n",
       "               num_class=7, objective='multiclass', random_state=42,\n",
       "               subsample=0.9535797422450176, verbosity=-1)"
      ],
      "text/html": [
       "<style>#sk-container-id-4 {color: black;background-color: white;}#sk-container-id-4 pre{padding: 0;}#sk-container-id-4 div.sk-toggleable {background-color: white;}#sk-container-id-4 label.sk-toggleable__label {cursor: pointer;display: block;width: 100%;margin-bottom: 0;padding: 0.3em;box-sizing: border-box;text-align: center;}#sk-container-id-4 label.sk-toggleable__label-arrow:before {content: \"▸\";float: left;margin-right: 0.25em;color: #696969;}#sk-container-id-4 label.sk-toggleable__label-arrow:hover:before {color: black;}#sk-container-id-4 div.sk-estimator:hover label.sk-toggleable__label-arrow:before {color: black;}#sk-container-id-4 div.sk-toggleable__content {max-height: 0;max-width: 0;overflow: hidden;text-align: left;background-color: #f0f8ff;}#sk-container-id-4 div.sk-toggleable__content pre {margin: 0.2em;color: black;border-radius: 0.25em;background-color: #f0f8ff;}#sk-container-id-4 input.sk-toggleable__control:checked~div.sk-toggleable__content {max-height: 200px;max-width: 100%;overflow: auto;}#sk-container-id-4 input.sk-toggleable__control:checked~label.sk-toggleable__label-arrow:before {content: \"▾\";}#sk-container-id-4 div.sk-estimator input.sk-toggleable__control:checked~label.sk-toggleable__label {background-color: #d4ebff;}#sk-container-id-4 div.sk-label input.sk-toggleable__control:checked~label.sk-toggleable__label {background-color: #d4ebff;}#sk-container-id-4 input.sk-hidden--visually {border: 0;clip: rect(1px 1px 1px 1px);clip: rect(1px, 1px, 1px, 1px);height: 1px;margin: -1px;overflow: hidden;padding: 0;position: absolute;width: 1px;}#sk-container-id-4 div.sk-estimator {font-family: monospace;background-color: #f0f8ff;border: 1px dotted black;border-radius: 0.25em;box-sizing: border-box;margin-bottom: 0.5em;}#sk-container-id-4 div.sk-estimator:hover {background-color: #d4ebff;}#sk-container-id-4 div.sk-parallel-item::after {content: \"\";width: 100%;border-bottom: 1px solid gray;flex-grow: 1;}#sk-container-id-4 div.sk-label:hover label.sk-toggleable__label {background-color: #d4ebff;}#sk-container-id-4 div.sk-serial::before {content: \"\";position: absolute;border-left: 1px solid gray;box-sizing: border-box;top: 0;bottom: 0;left: 50%;z-index: 0;}#sk-container-id-4 div.sk-serial {display: flex;flex-direction: column;align-items: center;background-color: white;padding-right: 0.2em;padding-left: 0.2em;position: relative;}#sk-container-id-4 div.sk-item {position: relative;z-index: 1;}#sk-container-id-4 div.sk-parallel {display: flex;align-items: stretch;justify-content: center;background-color: white;position: relative;}#sk-container-id-4 div.sk-item::before, #sk-container-id-4 div.sk-parallel-item::before {content: \"\";position: absolute;border-left: 1px solid gray;box-sizing: border-box;top: 0;bottom: 0;left: 50%;z-index: -1;}#sk-container-id-4 div.sk-parallel-item {display: flex;flex-direction: column;z-index: 1;position: relative;background-color: white;}#sk-container-id-4 div.sk-parallel-item:first-child::after {align-self: flex-end;width: 50%;}#sk-container-id-4 div.sk-parallel-item:last-child::after {align-self: flex-start;width: 50%;}#sk-container-id-4 div.sk-parallel-item:only-child::after {width: 0;}#sk-container-id-4 div.sk-dashed-wrapped {border: 1px dashed gray;margin: 0 0.4em 0.5em 0.4em;box-sizing: border-box;padding-bottom: 0.4em;background-color: white;}#sk-container-id-4 div.sk-label label {font-family: monospace;font-weight: bold;display: inline-block;line-height: 1.2em;}#sk-container-id-4 div.sk-label-container {text-align: center;}#sk-container-id-4 div.sk-container {/* jupyter's `normalize.less` sets `[hidden] { display: none; }` but bootstrap.min.css set `[hidden] { display: none !important; }` so we also need the `!important` here to be able to override the default hidden behavior on the sphinx rendered scikit-learn.org. See: https://github.com/scikit-learn/scikit-learn/issues/21755 */display: inline-block !important;position: relative;}#sk-container-id-4 div.sk-text-repr-fallback {display: none;}</style><div id=\"sk-container-id-4\" class=\"sk-top-container\"><div class=\"sk-text-repr-fallback\"><pre>LGBMClassifier(colsample_bytree=0.4097712934687264,\n",
       "               lambda_l1=0.009667446568254372, lambda_l2=0.040186414373018,\n",
       "               learning_rate=0.03096221154683276, max_depth=10,\n",
       "               metric=&#x27;multi_logloss&#x27;, min_child_samples=26, n_estimators=500,\n",
       "               num_class=7, objective=&#x27;multiclass&#x27;, random_state=42,\n",
       "               subsample=0.9535797422450176, verbosity=-1)</pre><b>In a Jupyter environment, please rerun this cell to show the HTML representation or trust the notebook. <br />On GitHub, the HTML representation is unable to render, please try loading this page with nbviewer.org.</b></div><div class=\"sk-container\" hidden><div class=\"sk-item\"><div class=\"sk-estimator sk-toggleable\"><input class=\"sk-toggleable__control sk-hidden--visually\" id=\"sk-estimator-id-4\" type=\"checkbox\" checked><label for=\"sk-estimator-id-4\" class=\"sk-toggleable__label sk-toggleable__label-arrow\">LGBMClassifier</label><div class=\"sk-toggleable__content\"><pre>LGBMClassifier(colsample_bytree=0.4097712934687264,\n",
       "               lambda_l1=0.009667446568254372, lambda_l2=0.040186414373018,\n",
       "               learning_rate=0.03096221154683276, max_depth=10,\n",
       "               metric=&#x27;multi_logloss&#x27;, min_child_samples=26, n_estimators=500,\n",
       "               num_class=7, objective=&#x27;multiclass&#x27;, random_state=42,\n",
       "               subsample=0.9535797422450176, verbosity=-1)</pre></div></div></div></div></div>"
      ]
     },
     "metadata": {},
     "execution_count": 47
    }
   ]
  },
  {
   "cell_type": "code",
   "source": [
    "lgbm_predicted =lgbm.predict(X_test)"
   ],
   "metadata": {
    "id": "oVO_wSSBYNkX"
   },
   "execution_count": null,
   "outputs": []
  },
  {
   "cell_type": "code",
   "source": [
    "from sklearn.metrics import classification_report, accuracy_score\n",
    "print(classification_report(y_test, lgbm_predicted))\n",
    "print(\"--\" * 30)\n",
    "\n",
    "acc_score = accuracy_score(y_test, lgbm_predicted)\n",
    "best_score = {'best_score': acc_score}\n",
    "print(best_score)\n",
    "for i, j in best_score.items():\n",
    "  if acc_score > j:\n",
    "    best_score = acc_score\n",
    "print(\"Last Score:\", acc_score)"
   ],
   "metadata": {
    "colab": {
     "base_uri": "https://localhost:8080/"
    },
    "id": "LqI5buNOYLRZ",
    "outputId": "8283ca8b-5951-48fb-bc99-05930634d319"
   },
   "execution_count": null,
   "outputs": [
    {
     "output_type": "stream",
     "name": "stdout",
     "text": [
      "              precision    recall  f1-score   support\n",
      "\n",
      "           0       0.00      0.00      0.00       164\n",
      "           1       0.51      0.26      0.34       322\n",
      "           2       0.63      0.62      0.63       258\n",
      "           3       0.88      0.93      0.90       753\n",
      "           4       0.73      0.84      0.78       132\n",
      "           5       0.45      0.24      0.31        97\n",
      "           6       0.50      0.54      0.52       982\n",
      "           7       0.53      0.61      0.56      1524\n",
      "\n",
      "    accuracy                           0.60      4232\n",
      "   macro avg       0.53      0.50      0.51      4232\n",
      "weighted avg       0.57      0.60      0.58      4232\n",
      "\n",
      "------------------------------------------------------------\n",
      "0.598062381852552\n"
     ]
    }
   ]
  },
  {
   "cell_type": "markdown",
   "source": [
    "## Auto-XGB"
   ],
   "metadata": {
    "id": "_6hvn-NqAqGc"
   }
  },
  {
   "cell_type": "code",
   "source": [
    "!pip install xgboost\n",
    "clear_output()"
   ],
   "metadata": {
    "id": "Wr8no2gtAtVn"
   },
   "execution_count": 46,
   "outputs": []
  },
  {
   "cell_type": "code",
   "source": [
    "from xgboost import XGBClassifier"
   ],
   "metadata": {
    "id": "RtqomucqAv7r"
   },
   "execution_count": 47,
   "outputs": []
  },
  {
   "cell_type": "code",
   "source": [
    "XGB_auto = XGBClassifier()\n",
    "XGB_auto.fit(X_train, y_train)"
   ],
   "metadata": {
    "colab": {
     "base_uri": "https://localhost:8080/",
     "height": 248
    },
    "id": "NQYQxrCNAzZx",
    "outputId": "0b1fc89f-4750-46a8-b6b1-44d5b408747a"
   },
   "execution_count": 48,
   "outputs": [
    {
     "output_type": "execute_result",
     "data": {
      "text/plain": [
       "XGBClassifier(base_score=None, booster=None, callbacks=None,\n",
       "              colsample_bylevel=None, colsample_bynode=None,\n",
       "              colsample_bytree=None, device=None, early_stopping_rounds=None,\n",
       "              enable_categorical=False, eval_metric=None, feature_types=None,\n",
       "              gamma=None, grow_policy=None, importance_type=None,\n",
       "              interaction_constraints=None, learning_rate=None, max_bin=None,\n",
       "              max_cat_threshold=None, max_cat_to_onehot=None,\n",
       "              max_delta_step=None, max_depth=None, max_leaves=None,\n",
       "              min_child_weight=None, missing=nan, monotone_constraints=None,\n",
       "              multi_strategy=None, n_estimators=None, n_jobs=None,\n",
       "              num_parallel_tree=None, objective='multi:softprob', ...)"
      ],
      "text/html": [
       "<style>#sk-container-id-3 {color: black;background-color: white;}#sk-container-id-3 pre{padding: 0;}#sk-container-id-3 div.sk-toggleable {background-color: white;}#sk-container-id-3 label.sk-toggleable__label {cursor: pointer;display: block;width: 100%;margin-bottom: 0;padding: 0.3em;box-sizing: border-box;text-align: center;}#sk-container-id-3 label.sk-toggleable__label-arrow:before {content: \"▸\";float: left;margin-right: 0.25em;color: #696969;}#sk-container-id-3 label.sk-toggleable__label-arrow:hover:before {color: black;}#sk-container-id-3 div.sk-estimator:hover label.sk-toggleable__label-arrow:before {color: black;}#sk-container-id-3 div.sk-toggleable__content {max-height: 0;max-width: 0;overflow: hidden;text-align: left;background-color: #f0f8ff;}#sk-container-id-3 div.sk-toggleable__content pre {margin: 0.2em;color: black;border-radius: 0.25em;background-color: #f0f8ff;}#sk-container-id-3 input.sk-toggleable__control:checked~div.sk-toggleable__content {max-height: 200px;max-width: 100%;overflow: auto;}#sk-container-id-3 input.sk-toggleable__control:checked~label.sk-toggleable__label-arrow:before {content: \"▾\";}#sk-container-id-3 div.sk-estimator input.sk-toggleable__control:checked~label.sk-toggleable__label {background-color: #d4ebff;}#sk-container-id-3 div.sk-label input.sk-toggleable__control:checked~label.sk-toggleable__label {background-color: #d4ebff;}#sk-container-id-3 input.sk-hidden--visually {border: 0;clip: rect(1px 1px 1px 1px);clip: rect(1px, 1px, 1px, 1px);height: 1px;margin: -1px;overflow: hidden;padding: 0;position: absolute;width: 1px;}#sk-container-id-3 div.sk-estimator {font-family: monospace;background-color: #f0f8ff;border: 1px dotted black;border-radius: 0.25em;box-sizing: border-box;margin-bottom: 0.5em;}#sk-container-id-3 div.sk-estimator:hover {background-color: #d4ebff;}#sk-container-id-3 div.sk-parallel-item::after {content: \"\";width: 100%;border-bottom: 1px solid gray;flex-grow: 1;}#sk-container-id-3 div.sk-label:hover label.sk-toggleable__label {background-color: #d4ebff;}#sk-container-id-3 div.sk-serial::before {content: \"\";position: absolute;border-left: 1px solid gray;box-sizing: border-box;top: 0;bottom: 0;left: 50%;z-index: 0;}#sk-container-id-3 div.sk-serial {display: flex;flex-direction: column;align-items: center;background-color: white;padding-right: 0.2em;padding-left: 0.2em;position: relative;}#sk-container-id-3 div.sk-item {position: relative;z-index: 1;}#sk-container-id-3 div.sk-parallel {display: flex;align-items: stretch;justify-content: center;background-color: white;position: relative;}#sk-container-id-3 div.sk-item::before, #sk-container-id-3 div.sk-parallel-item::before {content: \"\";position: absolute;border-left: 1px solid gray;box-sizing: border-box;top: 0;bottom: 0;left: 50%;z-index: -1;}#sk-container-id-3 div.sk-parallel-item {display: flex;flex-direction: column;z-index: 1;position: relative;background-color: white;}#sk-container-id-3 div.sk-parallel-item:first-child::after {align-self: flex-end;width: 50%;}#sk-container-id-3 div.sk-parallel-item:last-child::after {align-self: flex-start;width: 50%;}#sk-container-id-3 div.sk-parallel-item:only-child::after {width: 0;}#sk-container-id-3 div.sk-dashed-wrapped {border: 1px dashed gray;margin: 0 0.4em 0.5em 0.4em;box-sizing: border-box;padding-bottom: 0.4em;background-color: white;}#sk-container-id-3 div.sk-label label {font-family: monospace;font-weight: bold;display: inline-block;line-height: 1.2em;}#sk-container-id-3 div.sk-label-container {text-align: center;}#sk-container-id-3 div.sk-container {/* jupyter's `normalize.less` sets `[hidden] { display: none; }` but bootstrap.min.css set `[hidden] { display: none !important; }` so we also need the `!important` here to be able to override the default hidden behavior on the sphinx rendered scikit-learn.org. See: https://github.com/scikit-learn/scikit-learn/issues/21755 */display: inline-block !important;position: relative;}#sk-container-id-3 div.sk-text-repr-fallback {display: none;}</style><div id=\"sk-container-id-3\" class=\"sk-top-container\"><div class=\"sk-text-repr-fallback\"><pre>XGBClassifier(base_score=None, booster=None, callbacks=None,\n",
       "              colsample_bylevel=None, colsample_bynode=None,\n",
       "              colsample_bytree=None, device=None, early_stopping_rounds=None,\n",
       "              enable_categorical=False, eval_metric=None, feature_types=None,\n",
       "              gamma=None, grow_policy=None, importance_type=None,\n",
       "              interaction_constraints=None, learning_rate=None, max_bin=None,\n",
       "              max_cat_threshold=None, max_cat_to_onehot=None,\n",
       "              max_delta_step=None, max_depth=None, max_leaves=None,\n",
       "              min_child_weight=None, missing=nan, monotone_constraints=None,\n",
       "              multi_strategy=None, n_estimators=None, n_jobs=None,\n",
       "              num_parallel_tree=None, objective=&#x27;multi:softprob&#x27;, ...)</pre><b>In a Jupyter environment, please rerun this cell to show the HTML representation or trust the notebook. <br />On GitHub, the HTML representation is unable to render, please try loading this page with nbviewer.org.</b></div><div class=\"sk-container\" hidden><div class=\"sk-item\"><div class=\"sk-estimator sk-toggleable\"><input class=\"sk-toggleable__control sk-hidden--visually\" id=\"sk-estimator-id-3\" type=\"checkbox\" checked><label for=\"sk-estimator-id-3\" class=\"sk-toggleable__label sk-toggleable__label-arrow\">XGBClassifier</label><div class=\"sk-toggleable__content\"><pre>XGBClassifier(base_score=None, booster=None, callbacks=None,\n",
       "              colsample_bylevel=None, colsample_bynode=None,\n",
       "              colsample_bytree=None, device=None, early_stopping_rounds=None,\n",
       "              enable_categorical=False, eval_metric=None, feature_types=None,\n",
       "              gamma=None, grow_policy=None, importance_type=None,\n",
       "              interaction_constraints=None, learning_rate=None, max_bin=None,\n",
       "              max_cat_threshold=None, max_cat_to_onehot=None,\n",
       "              max_delta_step=None, max_depth=None, max_leaves=None,\n",
       "              min_child_weight=None, missing=nan, monotone_constraints=None,\n",
       "              multi_strategy=None, n_estimators=None, n_jobs=None,\n",
       "              num_parallel_tree=None, objective=&#x27;multi:softprob&#x27;, ...)</pre></div></div></div></div></div>"
      ]
     },
     "metadata": {},
     "execution_count": 48
    }
   ]
  },
  {
   "cell_type": "code",
   "source": [
    "XGB_auto_predicted = XGB_auto.predict(X_test)"
   ],
   "metadata": {
    "id": "jfdV0TgsA23N"
   },
   "execution_count": 49,
   "outputs": []
  },
  {
   "cell_type": "code",
   "source": [
    "from sklearn.metrics import classification_report, accuracy_score\n",
    "print(classification_report(y_test, XGB_auto_predicted))\n",
    "print(\"--\" * 30)\n",
    "print(accuracy_score(y_test, XGB_auto_predicted))"
   ],
   "metadata": {
    "colab": {
     "base_uri": "https://localhost:8080/"
    },
    "id": "13nso3r7A430",
    "outputId": "03dc35d6-bfcd-489f-e66a-cd81ef4d624d"
   },
   "execution_count": 50,
   "outputs": [
    {
     "output_type": "stream",
     "name": "stdout",
     "text": [
      "              precision    recall  f1-score   support\n",
      "\n",
      "           0       0.11      0.01      0.01       164\n",
      "           1       0.44      0.28      0.35       322\n",
      "           2       0.64      0.62      0.63       258\n",
      "           3       0.87      0.93      0.89       753\n",
      "           4       0.72      0.86      0.79       132\n",
      "           5       0.44      0.23      0.30        97\n",
      "           6       0.49      0.54      0.51       982\n",
      "           7       0.53      0.59      0.56      1524\n",
      "\n",
      "    accuracy                           0.59      4232\n",
      "   macro avg       0.53      0.51      0.51      4232\n",
      "weighted avg       0.57      0.59      0.58      4232\n",
      "\n",
      "------------------------------------------------------------\n",
      "0.593336483931947\n"
     ]
    }
   ]
  },
  {
   "cell_type": "markdown",
   "source": [
    "## XGBoost with Tuned-Optuna"
   ],
   "metadata": {
    "id": "jJ7qUMBgz3jx"
   }
  },
  {
   "cell_type": "code",
   "source": [
    "!pip install xgboost\n",
    "clear_output()"
   ],
   "metadata": {
    "id": "VglH_g8Nz7R6"
   },
   "execution_count": 40,
   "outputs": []
  },
  {
   "cell_type": "code",
   "source": [
    "from xgboost import XGBClassifier\n",
    "\n",
    "# XGBoost with fine-tuned\n",
    "# 'multi_strategy': \"multi_output_tree\" (work-in-progress::attr)\n",
    "XGB = XGBClassifier(**{'grow_policy': 'depthwise',\n",
    "                   'n_estimators': 796,\n",
    "                   'learning_rate': 0.011401689638157424,\n",
    "                   'gamma': 0.03537540404108533,\n",
    "                   'subsample': 0.7635770031747264,\n",
    "                   'colsample_bytree': 0.34619769143492335,\n",
    "                   'max_depth': 5,\n",
    "                   'min_child_weight': 4,\n",
    "                   'reg_lambda': 4.920355342764833e-06,\n",
    "                   'reg_alpha': 0.0001407791865920435,\n",
    "                   'objective': 'multi:softmax',\n",
    "                   'tree_method': 'hist',\n",
    "                   'device': 'cuda',\n",
    "                   'verbosity': 0,\n",
    "                   'booster': 'gbtree'})\n",
    "\n",
    "#'objective': 'multi:softprob',\n",
    "#                       'num_class': 7,\n",
    "#                       'tree_method': 'hist',\n",
    "#                       'max_depth': 5,\n",
    "#                       'learning_rate': 0.038413233232634916,\n",
    "#                       'n_estimators': 598,\n",
    "#                       'gamma': 2.499095706891034e-07,\n",
    "#                       'reg_alpha': 0.0011850535504182432,\n",
    "#                       'reg_lambda': 0.437536781187624,\n",
    "#                       'colsample_bytree': 0.5115061295805807,\n",
    "#                       'subsample': 0.6971737476610285,\n",
    "#                       'scale_pos_weight': 5,\n",
    "#                       'eval_metric': 'mlogloss',\n",
    "#                       'booster': 'gbtree',\n",
    "#                       'grow_policy': 'depthwise',\n",
    "#                       'multi_strategy': \"multi_output_tree\"\n",
    "XGB.fit(X_train, y_train)"
   ],
   "metadata": {
    "id": "Kfbpzdc8z6yj",
    "ExecuteTime": {
     "end_time": "2024-03-11T14:30:12.798773100Z",
     "start_time": "2024-03-11T14:29:48.905197Z"
    }
   },
   "execution_count": 41,
   "outputs": [
    {
     "data": {
      "text/plain": "XGBClassifier(base_score=None, booster='gbtree', callbacks=None,\n              colsample_bylevel=None, colsample_bynode=None,\n              colsample_bytree=0.34619769143492335, device='cuda',\n              early_stopping_rounds=None, enable_categorical=False,\n              eval_metric=None, feature_types=None, gamma=0.03537540404108533,\n              grow_policy='depthwise', importance_type=None,\n              interaction_constraints=None, learning_rate=0.011401689638157424,\n              max_bin=None, max_cat_threshold=None, max_cat_to_onehot=None,\n              max_delta_step=None, max_depth=5, max_leaves=None,\n              min_child_weight=4, missing=nan, monotone_constraints=None,\n              multi_strategy=None, n_estimators=796, n_jobs=None,\n              num_parallel_tree=None, objective='multi:softmax', ...)",
      "text/html": "<style>#sk-container-id-2 {color: black;}#sk-container-id-2 pre{padding: 0;}#sk-container-id-2 div.sk-toggleable {background-color: white;}#sk-container-id-2 label.sk-toggleable__label {cursor: pointer;display: block;width: 100%;margin-bottom: 0;padding: 0.3em;box-sizing: border-box;text-align: center;}#sk-container-id-2 label.sk-toggleable__label-arrow:before {content: \"▸\";float: left;margin-right: 0.25em;color: #696969;}#sk-container-id-2 label.sk-toggleable__label-arrow:hover:before {color: black;}#sk-container-id-2 div.sk-estimator:hover label.sk-toggleable__label-arrow:before {color: black;}#sk-container-id-2 div.sk-toggleable__content {max-height: 0;max-width: 0;overflow: hidden;text-align: left;background-color: #f0f8ff;}#sk-container-id-2 div.sk-toggleable__content pre {margin: 0.2em;color: black;border-radius: 0.25em;background-color: #f0f8ff;}#sk-container-id-2 input.sk-toggleable__control:checked~div.sk-toggleable__content {max-height: 200px;max-width: 100%;overflow: auto;}#sk-container-id-2 input.sk-toggleable__control:checked~label.sk-toggleable__label-arrow:before {content: \"▾\";}#sk-container-id-2 div.sk-estimator input.sk-toggleable__control:checked~label.sk-toggleable__label {background-color: #d4ebff;}#sk-container-id-2 div.sk-label input.sk-toggleable__control:checked~label.sk-toggleable__label {background-color: #d4ebff;}#sk-container-id-2 input.sk-hidden--visually {border: 0;clip: rect(1px 1px 1px 1px);clip: rect(1px, 1px, 1px, 1px);height: 1px;margin: -1px;overflow: hidden;padding: 0;position: absolute;width: 1px;}#sk-container-id-2 div.sk-estimator {font-family: monospace;background-color: #f0f8ff;border: 1px dotted black;border-radius: 0.25em;box-sizing: border-box;margin-bottom: 0.5em;}#sk-container-id-2 div.sk-estimator:hover {background-color: #d4ebff;}#sk-container-id-2 div.sk-parallel-item::after {content: \"\";width: 100%;border-bottom: 1px solid gray;flex-grow: 1;}#sk-container-id-2 div.sk-label:hover label.sk-toggleable__label {background-color: #d4ebff;}#sk-container-id-2 div.sk-serial::before {content: \"\";position: absolute;border-left: 1px solid gray;box-sizing: border-box;top: 0;bottom: 0;left: 50%;z-index: 0;}#sk-container-id-2 div.sk-serial {display: flex;flex-direction: column;align-items: center;background-color: white;padding-right: 0.2em;padding-left: 0.2em;position: relative;}#sk-container-id-2 div.sk-item {position: relative;z-index: 1;}#sk-container-id-2 div.sk-parallel {display: flex;align-items: stretch;justify-content: center;background-color: white;position: relative;}#sk-container-id-2 div.sk-item::before, #sk-container-id-2 div.sk-parallel-item::before {content: \"\";position: absolute;border-left: 1px solid gray;box-sizing: border-box;top: 0;bottom: 0;left: 50%;z-index: -1;}#sk-container-id-2 div.sk-parallel-item {display: flex;flex-direction: column;z-index: 1;position: relative;background-color: white;}#sk-container-id-2 div.sk-parallel-item:first-child::after {align-self: flex-end;width: 50%;}#sk-container-id-2 div.sk-parallel-item:last-child::after {align-self: flex-start;width: 50%;}#sk-container-id-2 div.sk-parallel-item:only-child::after {width: 0;}#sk-container-id-2 div.sk-dashed-wrapped {border: 1px dashed gray;margin: 0 0.4em 0.5em 0.4em;box-sizing: border-box;padding-bottom: 0.4em;background-color: white;}#sk-container-id-2 div.sk-label label {font-family: monospace;font-weight: bold;display: inline-block;line-height: 1.2em;}#sk-container-id-2 div.sk-label-container {text-align: center;}#sk-container-id-2 div.sk-container {/* jupyter's `normalize.less` sets `[hidden] { display: none; }` but bootstrap.min.css set `[hidden] { display: none !important; }` so we also need the `!important` here to be able to override the default hidden behavior on the sphinx rendered scikit-learn.org. See: https://github.com/scikit-learn/scikit-learn/issues/21755 */display: inline-block !important;position: relative;}#sk-container-id-2 div.sk-text-repr-fallback {display: none;}</style><div id=\"sk-container-id-2\" class=\"sk-top-container\"><div class=\"sk-text-repr-fallback\"><pre>XGBClassifier(base_score=None, booster=&#x27;gbtree&#x27;, callbacks=None,\n              colsample_bylevel=None, colsample_bynode=None,\n              colsample_bytree=0.34619769143492335, device=&#x27;cuda&#x27;,\n              early_stopping_rounds=None, enable_categorical=False,\n              eval_metric=None, feature_types=None, gamma=0.03537540404108533,\n              grow_policy=&#x27;depthwise&#x27;, importance_type=None,\n              interaction_constraints=None, learning_rate=0.011401689638157424,\n              max_bin=None, max_cat_threshold=None, max_cat_to_onehot=None,\n              max_delta_step=None, max_depth=5, max_leaves=None,\n              min_child_weight=4, missing=nan, monotone_constraints=None,\n              multi_strategy=None, n_estimators=796, n_jobs=None,\n              num_parallel_tree=None, objective=&#x27;multi:softmax&#x27;, ...)</pre><b>In a Jupyter environment, please rerun this cell to show the HTML representation or trust the notebook. <br />On GitHub, the HTML representation is unable to render, please try loading this page with nbviewer.org.</b></div><div class=\"sk-container\" hidden><div class=\"sk-item\"><div class=\"sk-estimator sk-toggleable\"><input class=\"sk-toggleable__control sk-hidden--visually\" id=\"sk-estimator-id-2\" type=\"checkbox\" checked><label for=\"sk-estimator-id-2\" class=\"sk-toggleable__label sk-toggleable__label-arrow\">XGBClassifier</label><div class=\"sk-toggleable__content\"><pre>XGBClassifier(base_score=None, booster=&#x27;gbtree&#x27;, callbacks=None,\n              colsample_bylevel=None, colsample_bynode=None,\n              colsample_bytree=0.34619769143492335, device=&#x27;cuda&#x27;,\n              early_stopping_rounds=None, enable_categorical=False,\n              eval_metric=None, feature_types=None, gamma=0.03537540404108533,\n              grow_policy=&#x27;depthwise&#x27;, importance_type=None,\n              interaction_constraints=None, learning_rate=0.011401689638157424,\n              max_bin=None, max_cat_threshold=None, max_cat_to_onehot=None,\n              max_delta_step=None, max_depth=5, max_leaves=None,\n              min_child_weight=4, missing=nan, monotone_constraints=None,\n              multi_strategy=None, n_estimators=796, n_jobs=None,\n              num_parallel_tree=None, objective=&#x27;multi:softmax&#x27;, ...)</pre></div></div></div></div></div>"
     },
     "execution_count": 41,
     "metadata": {},
     "output_type": "execute_result"
    }
   ]
  },
  {
   "cell_type": "code",
   "source": [
    "XGB_predicted = XGB.predict(X_test)"
   ],
   "metadata": {
    "id": "gTw8arxn0U6D",
    "ExecuteTime": {
     "end_time": "2024-03-11T14:30:12.992914200Z",
     "start_time": "2024-03-11T14:30:12.798773100Z"
    }
   },
   "execution_count": 42,
   "outputs": []
  },
  {
   "cell_type": "code",
   "source": [
    "from sklearn.metrics import classification_report, accuracy_score\n",
    "print(classification_report(y_test, XGB_predicted))\n",
    "print(\"--\" * 30)\n",
    "\n",
    "acc_score = accuracy_score(y_test, XGB_predicted)\n",
    "print(\"New Score: \", acc_score)"
   ],
   "metadata": {
    "id": "7Q7WHDrz0XOt",
    "ExecuteTime": {
     "end_time": "2024-03-11T14:30:13.065246800Z",
     "start_time": "2024-03-11T14:30:12.984369600Z"
    }
   },
   "execution_count": 43,
   "outputs": [
    {
     "name": "stdout",
     "output_type": "stream",
     "text": [
      "              precision    recall  f1-score   support\n",
      "\n",
      "           0       0.00      0.00      0.00       164\n",
      "           1       0.50      0.25      0.33       322\n",
      "           2       0.62      0.62      0.62       258\n",
      "           3       0.88      0.93      0.90       753\n",
      "           4       0.72      0.87      0.79       132\n",
      "           5       0.46      0.23      0.30        97\n",
      "           6       0.52      0.54      0.53       982\n",
      "           7       0.53      0.62      0.57      1524\n",
      "\n",
      "    accuracy                           0.61      4232\n",
      "   macro avg       0.53      0.51      0.51      4232\n",
      "weighted avg       0.58      0.61      0.59      4232\n",
      "\n",
      "------------------------------------------------------------\n",
      "New Score:  0.6051512287334594\n"
     ]
    }
   ]
  },
  {
   "cell_type": "markdown",
   "source": [
    "## OneVsRest Classifier (Work-in-Progress)"
   ],
   "metadata": {
    "id": "4PcJK7vBDv50"
   }
  },
  {
   "cell_type": "code",
   "source": [
    "from sklearn.multiclass import OneVsRestClassifier"
   ],
   "metadata": {
    "id": "QF-EOlGaDzll"
   },
   "execution_count": null,
   "outputs": []
  },
  {
   "cell_type": "code",
   "source": [
    "ovr = OneVsRestClassifier(estimator=XGB, n_jobs=-1)\n",
    "ovr.fit(X_train, y_train)"
   ],
   "metadata": {
    "id": "IlAiSkUwD9ND",
    "colab": {
     "base_uri": "https://localhost:8080/",
     "height": 117
    },
    "outputId": "a1f68bf9-9d90-4308-b070-abfa3d10cc35"
   },
   "execution_count": null,
   "outputs": [
    {
     "output_type": "execute_result",
     "data": {
      "text/plain": [
       "OneVsRestClassifier(estimator=XGBClassifier(base_score=None, booster=None,\n",
       "                                            callbacks=None,\n",
       "                                            colsample_bylevel=None,\n",
       "                                            colsample_bynode=None,\n",
       "                                            colsample_bytree=0.3917832805927743,\n",
       "                                            device='cuda',\n",
       "                                            early_stopping_rounds=None,\n",
       "                                            enable_categorical=False,\n",
       "                                            eval_metric=None,\n",
       "                                            feature_types=None,\n",
       "                                            gamma=1.3709170616495476,\n",
       "                                            grow_policy=None,\n",
       "                                            importance_type=None,\n",
       "                                            interaction_constraints=None,\n",
       "                                            learning_rate=0.03345813619660515,\n",
       "                                            max_bin=None,\n",
       "                                            max_cat_threshold=None,\n",
       "                                            max_cat_to_onehot=None,\n",
       "                                            max_delta_step=None, max_depth=8,\n",
       "                                            max_leaves=None,\n",
       "                                            min_child_weight=34, missing=nan,\n",
       "                                            monotone_constraints=None,\n",
       "                                            multi_strategy=None,\n",
       "                                            n_estimators=879, n_jobs=None,\n",
       "                                            num_class=7, num_parallel_tree=None, ...),\n",
       "                    n_jobs=-1)"
      ],
      "text/html": [
       "<style>#sk-container-id-6 {color: black;background-color: white;}#sk-container-id-6 pre{padding: 0;}#sk-container-id-6 div.sk-toggleable {background-color: white;}#sk-container-id-6 label.sk-toggleable__label {cursor: pointer;display: block;width: 100%;margin-bottom: 0;padding: 0.3em;box-sizing: border-box;text-align: center;}#sk-container-id-6 label.sk-toggleable__label-arrow:before {content: \"▸\";float: left;margin-right: 0.25em;color: #696969;}#sk-container-id-6 label.sk-toggleable__label-arrow:hover:before {color: black;}#sk-container-id-6 div.sk-estimator:hover label.sk-toggleable__label-arrow:before {color: black;}#sk-container-id-6 div.sk-toggleable__content {max-height: 0;max-width: 0;overflow: hidden;text-align: left;background-color: #f0f8ff;}#sk-container-id-6 div.sk-toggleable__content pre {margin: 0.2em;color: black;border-radius: 0.25em;background-color: #f0f8ff;}#sk-container-id-6 input.sk-toggleable__control:checked~div.sk-toggleable__content {max-height: 200px;max-width: 100%;overflow: auto;}#sk-container-id-6 input.sk-toggleable__control:checked~label.sk-toggleable__label-arrow:before {content: \"▾\";}#sk-container-id-6 div.sk-estimator input.sk-toggleable__control:checked~label.sk-toggleable__label {background-color: #d4ebff;}#sk-container-id-6 div.sk-label input.sk-toggleable__control:checked~label.sk-toggleable__label {background-color: #d4ebff;}#sk-container-id-6 input.sk-hidden--visually {border: 0;clip: rect(1px 1px 1px 1px);clip: rect(1px, 1px, 1px, 1px);height: 1px;margin: -1px;overflow: hidden;padding: 0;position: absolute;width: 1px;}#sk-container-id-6 div.sk-estimator {font-family: monospace;background-color: #f0f8ff;border: 1px dotted black;border-radius: 0.25em;box-sizing: border-box;margin-bottom: 0.5em;}#sk-container-id-6 div.sk-estimator:hover {background-color: #d4ebff;}#sk-container-id-6 div.sk-parallel-item::after {content: \"\";width: 100%;border-bottom: 1px solid gray;flex-grow: 1;}#sk-container-id-6 div.sk-label:hover label.sk-toggleable__label {background-color: #d4ebff;}#sk-container-id-6 div.sk-serial::before {content: \"\";position: absolute;border-left: 1px solid gray;box-sizing: border-box;top: 0;bottom: 0;left: 50%;z-index: 0;}#sk-container-id-6 div.sk-serial {display: flex;flex-direction: column;align-items: center;background-color: white;padding-right: 0.2em;padding-left: 0.2em;position: relative;}#sk-container-id-6 div.sk-item {position: relative;z-index: 1;}#sk-container-id-6 div.sk-parallel {display: flex;align-items: stretch;justify-content: center;background-color: white;position: relative;}#sk-container-id-6 div.sk-item::before, #sk-container-id-6 div.sk-parallel-item::before {content: \"\";position: absolute;border-left: 1px solid gray;box-sizing: border-box;top: 0;bottom: 0;left: 50%;z-index: -1;}#sk-container-id-6 div.sk-parallel-item {display: flex;flex-direction: column;z-index: 1;position: relative;background-color: white;}#sk-container-id-6 div.sk-parallel-item:first-child::after {align-self: flex-end;width: 50%;}#sk-container-id-6 div.sk-parallel-item:last-child::after {align-self: flex-start;width: 50%;}#sk-container-id-6 div.sk-parallel-item:only-child::after {width: 0;}#sk-container-id-6 div.sk-dashed-wrapped {border: 1px dashed gray;margin: 0 0.4em 0.5em 0.4em;box-sizing: border-box;padding-bottom: 0.4em;background-color: white;}#sk-container-id-6 div.sk-label label {font-family: monospace;font-weight: bold;display: inline-block;line-height: 1.2em;}#sk-container-id-6 div.sk-label-container {text-align: center;}#sk-container-id-6 div.sk-container {/* jupyter's `normalize.less` sets `[hidden] { display: none; }` but bootstrap.min.css set `[hidden] { display: none !important; }` so we also need the `!important` here to be able to override the default hidden behavior on the sphinx rendered scikit-learn.org. See: https://github.com/scikit-learn/scikit-learn/issues/21755 */display: inline-block !important;position: relative;}#sk-container-id-6 div.sk-text-repr-fallback {display: none;}</style><div id=\"sk-container-id-6\" class=\"sk-top-container\"><div class=\"sk-text-repr-fallback\"><pre>OneVsRestClassifier(estimator=XGBClassifier(base_score=None, booster=None,\n",
       "                                            callbacks=None,\n",
       "                                            colsample_bylevel=None,\n",
       "                                            colsample_bynode=None,\n",
       "                                            colsample_bytree=0.3917832805927743,\n",
       "                                            device=&#x27;cuda&#x27;,\n",
       "                                            early_stopping_rounds=None,\n",
       "                                            enable_categorical=False,\n",
       "                                            eval_metric=None,\n",
       "                                            feature_types=None,\n",
       "                                            gamma=1.3709170616495476,\n",
       "                                            grow_policy=None,\n",
       "                                            importance_type=None,\n",
       "                                            interaction_constraints=None,\n",
       "                                            learning_rate=0.03345813619660515,\n",
       "                                            max_bin=None,\n",
       "                                            max_cat_threshold=None,\n",
       "                                            max_cat_to_onehot=None,\n",
       "                                            max_delta_step=None, max_depth=8,\n",
       "                                            max_leaves=None,\n",
       "                                            min_child_weight=34, missing=nan,\n",
       "                                            monotone_constraints=None,\n",
       "                                            multi_strategy=None,\n",
       "                                            n_estimators=879, n_jobs=None,\n",
       "                                            num_class=7, num_parallel_tree=None, ...),\n",
       "                    n_jobs=-1)</pre><b>In a Jupyter environment, please rerun this cell to show the HTML representation or trust the notebook. <br />On GitHub, the HTML representation is unable to render, please try loading this page with nbviewer.org.</b></div><div class=\"sk-container\" hidden><div class=\"sk-item sk-dashed-wrapped\"><div class=\"sk-label-container\"><div class=\"sk-label sk-toggleable\"><input class=\"sk-toggleable__control sk-hidden--visually\" id=\"sk-estimator-id-10\" type=\"checkbox\" ><label for=\"sk-estimator-id-10\" class=\"sk-toggleable__label sk-toggleable__label-arrow\">OneVsRestClassifier</label><div class=\"sk-toggleable__content\"><pre>OneVsRestClassifier(estimator=XGBClassifier(base_score=None, booster=None,\n",
       "                                            callbacks=None,\n",
       "                                            colsample_bylevel=None,\n",
       "                                            colsample_bynode=None,\n",
       "                                            colsample_bytree=0.3917832805927743,\n",
       "                                            device=&#x27;cuda&#x27;,\n",
       "                                            early_stopping_rounds=None,\n",
       "                                            enable_categorical=False,\n",
       "                                            eval_metric=None,\n",
       "                                            feature_types=None,\n",
       "                                            gamma=1.3709170616495476,\n",
       "                                            grow_policy=None,\n",
       "                                            importance_type=None,\n",
       "                                            interaction_constraints=None,\n",
       "                                            learning_rate=0.03345813619660515,\n",
       "                                            max_bin=None,\n",
       "                                            max_cat_threshold=None,\n",
       "                                            max_cat_to_onehot=None,\n",
       "                                            max_delta_step=None, max_depth=8,\n",
       "                                            max_leaves=None,\n",
       "                                            min_child_weight=34, missing=nan,\n",
       "                                            monotone_constraints=None,\n",
       "                                            multi_strategy=None,\n",
       "                                            n_estimators=879, n_jobs=None,\n",
       "                                            num_class=7, num_parallel_tree=None, ...),\n",
       "                    n_jobs=-1)</pre></div></div></div><div class=\"sk-parallel\"><div class=\"sk-parallel-item\"><div class=\"sk-item\"><div class=\"sk-label-container\"><div class=\"sk-label sk-toggleable\"><input class=\"sk-toggleable__control sk-hidden--visually\" id=\"sk-estimator-id-11\" type=\"checkbox\" ><label for=\"sk-estimator-id-11\" class=\"sk-toggleable__label sk-toggleable__label-arrow\">estimator: XGBClassifier</label><div class=\"sk-toggleable__content\"><pre>XGBClassifier(base_score=None, booster=None, callbacks=None,\n",
       "              colsample_bylevel=None, colsample_bynode=None,\n",
       "              colsample_bytree=0.3917832805927743, device=&#x27;cuda&#x27;,\n",
       "              early_stopping_rounds=None, enable_categorical=False,\n",
       "              eval_metric=None, feature_types=None, gamma=1.3709170616495476,\n",
       "              grow_policy=None, importance_type=None,\n",
       "              interaction_constraints=None, learning_rate=0.03345813619660515,\n",
       "              max_bin=None, max_cat_threshold=None, max_cat_to_onehot=None,\n",
       "              max_delta_step=None, max_depth=8, max_leaves=None,\n",
       "              min_child_weight=34, missing=nan, monotone_constraints=None,\n",
       "              multi_strategy=None, n_estimators=879, n_jobs=None, num_class=7,\n",
       "              num_parallel_tree=None, ...)</pre></div></div></div><div class=\"sk-serial\"><div class=\"sk-item\"><div class=\"sk-estimator sk-toggleable\"><input class=\"sk-toggleable__control sk-hidden--visually\" id=\"sk-estimator-id-12\" type=\"checkbox\" ><label for=\"sk-estimator-id-12\" class=\"sk-toggleable__label sk-toggleable__label-arrow\">XGBClassifier</label><div class=\"sk-toggleable__content\"><pre>XGBClassifier(base_score=None, booster=None, callbacks=None,\n",
       "              colsample_bylevel=None, colsample_bynode=None,\n",
       "              colsample_bytree=0.3917832805927743, device=&#x27;cuda&#x27;,\n",
       "              early_stopping_rounds=None, enable_categorical=False,\n",
       "              eval_metric=None, feature_types=None, gamma=1.3709170616495476,\n",
       "              grow_policy=None, importance_type=None,\n",
       "              interaction_constraints=None, learning_rate=0.03345813619660515,\n",
       "              max_bin=None, max_cat_threshold=None, max_cat_to_onehot=None,\n",
       "              max_delta_step=None, max_depth=8, max_leaves=None,\n",
       "              min_child_weight=34, missing=nan, monotone_constraints=None,\n",
       "              multi_strategy=None, n_estimators=879, n_jobs=None, num_class=7,\n",
       "              num_parallel_tree=None, ...)</pre></div></div></div></div></div></div></div></div></div></div>"
      ]
     },
     "metadata": {},
     "execution_count": 56
    }
   ]
  },
  {
   "cell_type": "code",
   "source": [
    "ovr_predicted = ovr.predict(X_test)"
   ],
   "metadata": {
    "id": "9Dwe-0fQ5sV0"
   },
   "execution_count": null,
   "outputs": []
  },
  {
   "cell_type": "code",
   "source": [
    "print(y_test.shape)\n",
    "print(ovr_predicted.shape)"
   ],
   "metadata": {
    "colab": {
     "base_uri": "https://localhost:8080/"
    },
    "id": "i5Ha4_5o8iV-",
    "outputId": "adeaf61b-ac17-42bf-c01a-0ad390f075d3"
   },
   "execution_count": null,
   "outputs": [
    {
     "output_type": "stream",
     "name": "stdout",
     "text": [
      "(7,)\n",
      "(5766,)\n"
     ]
    }
   ]
  },
  {
   "cell_type": "code",
   "source": [
    "from sklearn.metrics import classification_report, accuracy_score\n",
    "print(classification_report(y_test, ovr_predicted))\n",
    "print(\"--\" * 30)\n",
    "print(accuracy_score(y_test, ovr_predicted))"
   ],
   "metadata": {
    "colab": {
     "base_uri": "https://localhost:8080/",
     "height": 353
    },
    "id": "JE2PvhK58-7H",
    "outputId": "59259b40-f28e-423f-896a-5de910188c5f"
   },
   "execution_count": null,
   "outputs": [
    {
     "output_type": "error",
     "ename": "ValueError",
     "evalue": "Found input variables with inconsistent numbers of samples: [7, 5766]",
     "traceback": [
      "\u001B[0;31m---------------------------------------------------------------------------\u001B[0m",
      "\u001B[0;31mValueError\u001B[0m                                Traceback (most recent call last)",
      "\u001B[0;32m<ipython-input-66-14bfe4423b69>\u001B[0m in \u001B[0;36m<cell line: 2>\u001B[0;34m()\u001B[0m\n\u001B[1;32m      1\u001B[0m \u001B[0;32mfrom\u001B[0m \u001B[0msklearn\u001B[0m\u001B[0;34m.\u001B[0m\u001B[0mmetrics\u001B[0m \u001B[0;32mimport\u001B[0m \u001B[0mclassification_report\u001B[0m\u001B[0;34m,\u001B[0m \u001B[0maccuracy_score\u001B[0m\u001B[0;34m\u001B[0m\u001B[0;34m\u001B[0m\u001B[0m\n\u001B[0;32m----> 2\u001B[0;31m \u001B[0mprint\u001B[0m\u001B[0;34m(\u001B[0m\u001B[0mclassification_report\u001B[0m\u001B[0;34m(\u001B[0m\u001B[0my_test\u001B[0m\u001B[0;34m,\u001B[0m \u001B[0movr_predicted\u001B[0m\u001B[0;34m)\u001B[0m\u001B[0;34m)\u001B[0m\u001B[0;34m\u001B[0m\u001B[0;34m\u001B[0m\u001B[0m\n\u001B[0m\u001B[1;32m      3\u001B[0m \u001B[0mprint\u001B[0m\u001B[0;34m(\u001B[0m\u001B[0;34m\"--\"\u001B[0m \u001B[0;34m*\u001B[0m \u001B[0;36m30\u001B[0m\u001B[0;34m)\u001B[0m\u001B[0;34m\u001B[0m\u001B[0;34m\u001B[0m\u001B[0m\n\u001B[1;32m      4\u001B[0m \u001B[0mprint\u001B[0m\u001B[0;34m(\u001B[0m\u001B[0maccuracy_score\u001B[0m\u001B[0;34m(\u001B[0m\u001B[0my_test\u001B[0m\u001B[0;34m,\u001B[0m \u001B[0movr_predicted\u001B[0m\u001B[0;34m)\u001B[0m\u001B[0;34m)\u001B[0m\u001B[0;34m\u001B[0m\u001B[0;34m\u001B[0m\u001B[0m\n",
      "\u001B[0;32m/usr/local/lib/python3.10/dist-packages/sklearn/metrics/_classification.py\u001B[0m in \u001B[0;36mclassification_report\u001B[0;34m(y_true, y_pred, labels, target_names, sample_weight, digits, output_dict, zero_division)\u001B[0m\n\u001B[1;32m   2308\u001B[0m     \"\"\"\n\u001B[1;32m   2309\u001B[0m \u001B[0;34m\u001B[0m\u001B[0m\n\u001B[0;32m-> 2310\u001B[0;31m     \u001B[0my_type\u001B[0m\u001B[0;34m,\u001B[0m \u001B[0my_true\u001B[0m\u001B[0;34m,\u001B[0m \u001B[0my_pred\u001B[0m \u001B[0;34m=\u001B[0m \u001B[0m_check_targets\u001B[0m\u001B[0;34m(\u001B[0m\u001B[0my_true\u001B[0m\u001B[0;34m,\u001B[0m \u001B[0my_pred\u001B[0m\u001B[0;34m)\u001B[0m\u001B[0;34m\u001B[0m\u001B[0;34m\u001B[0m\u001B[0m\n\u001B[0m\u001B[1;32m   2311\u001B[0m \u001B[0;34m\u001B[0m\u001B[0m\n\u001B[1;32m   2312\u001B[0m     \u001B[0;32mif\u001B[0m \u001B[0mlabels\u001B[0m \u001B[0;32mis\u001B[0m \u001B[0;32mNone\u001B[0m\u001B[0;34m:\u001B[0m\u001B[0;34m\u001B[0m\u001B[0;34m\u001B[0m\u001B[0m\n",
      "\u001B[0;32m/usr/local/lib/python3.10/dist-packages/sklearn/metrics/_classification.py\u001B[0m in \u001B[0;36m_check_targets\u001B[0;34m(y_true, y_pred)\u001B[0m\n\u001B[1;32m     84\u001B[0m     \u001B[0my_pred\u001B[0m \u001B[0;34m:\u001B[0m \u001B[0marray\u001B[0m \u001B[0;32mor\u001B[0m \u001B[0mindicator\u001B[0m \u001B[0mmatrix\u001B[0m\u001B[0;34m\u001B[0m\u001B[0;34m\u001B[0m\u001B[0m\n\u001B[1;32m     85\u001B[0m     \"\"\"\n\u001B[0;32m---> 86\u001B[0;31m     \u001B[0mcheck_consistent_length\u001B[0m\u001B[0;34m(\u001B[0m\u001B[0my_true\u001B[0m\u001B[0;34m,\u001B[0m \u001B[0my_pred\u001B[0m\u001B[0;34m)\u001B[0m\u001B[0;34m\u001B[0m\u001B[0;34m\u001B[0m\u001B[0m\n\u001B[0m\u001B[1;32m     87\u001B[0m     \u001B[0mtype_true\u001B[0m \u001B[0;34m=\u001B[0m \u001B[0mtype_of_target\u001B[0m\u001B[0;34m(\u001B[0m\u001B[0my_true\u001B[0m\u001B[0;34m,\u001B[0m \u001B[0minput_name\u001B[0m\u001B[0;34m=\u001B[0m\u001B[0;34m\"y_true\"\u001B[0m\u001B[0;34m)\u001B[0m\u001B[0;34m\u001B[0m\u001B[0;34m\u001B[0m\u001B[0m\n\u001B[1;32m     88\u001B[0m     \u001B[0mtype_pred\u001B[0m \u001B[0;34m=\u001B[0m \u001B[0mtype_of_target\u001B[0m\u001B[0;34m(\u001B[0m\u001B[0my_pred\u001B[0m\u001B[0;34m,\u001B[0m \u001B[0minput_name\u001B[0m\u001B[0;34m=\u001B[0m\u001B[0;34m\"y_pred\"\u001B[0m\u001B[0;34m)\u001B[0m\u001B[0;34m\u001B[0m\u001B[0;34m\u001B[0m\u001B[0m\n",
      "\u001B[0;32m/usr/local/lib/python3.10/dist-packages/sklearn/utils/validation.py\u001B[0m in \u001B[0;36mcheck_consistent_length\u001B[0;34m(*arrays)\u001B[0m\n\u001B[1;32m    395\u001B[0m     \u001B[0muniques\u001B[0m \u001B[0;34m=\u001B[0m \u001B[0mnp\u001B[0m\u001B[0;34m.\u001B[0m\u001B[0munique\u001B[0m\u001B[0;34m(\u001B[0m\u001B[0mlengths\u001B[0m\u001B[0;34m)\u001B[0m\u001B[0;34m\u001B[0m\u001B[0;34m\u001B[0m\u001B[0m\n\u001B[1;32m    396\u001B[0m     \u001B[0;32mif\u001B[0m \u001B[0mlen\u001B[0m\u001B[0;34m(\u001B[0m\u001B[0muniques\u001B[0m\u001B[0;34m)\u001B[0m \u001B[0;34m>\u001B[0m \u001B[0;36m1\u001B[0m\u001B[0;34m:\u001B[0m\u001B[0;34m\u001B[0m\u001B[0;34m\u001B[0m\u001B[0m\n\u001B[0;32m--> 397\u001B[0;31m         raise ValueError(\n\u001B[0m\u001B[1;32m    398\u001B[0m             \u001B[0;34m\"Found input variables with inconsistent numbers of samples: %r\"\u001B[0m\u001B[0;34m\u001B[0m\u001B[0;34m\u001B[0m\u001B[0m\n\u001B[1;32m    399\u001B[0m             \u001B[0;34m%\u001B[0m \u001B[0;34m[\u001B[0m\u001B[0mint\u001B[0m\u001B[0;34m(\u001B[0m\u001B[0ml\u001B[0m\u001B[0;34m)\u001B[0m \u001B[0;32mfor\u001B[0m \u001B[0ml\u001B[0m \u001B[0;32min\u001B[0m \u001B[0mlengths\u001B[0m\u001B[0;34m]\u001B[0m\u001B[0;34m\u001B[0m\u001B[0;34m\u001B[0m\u001B[0m\n",
      "\u001B[0;31mValueError\u001B[0m: Found input variables with inconsistent numbers of samples: [7, 5766]"
     ]
    }
   ]
  },
  {
   "cell_type": "markdown",
   "source": [
    "## Results"
   ],
   "metadata": {
    "id": "ndmBv2fEq1ae"
   }
  },
  {
   "cell_type": "code",
   "source": [
    "pred_df = XGB.predict_proba(test)"
   ],
   "metadata": {
    "id": "5vjZArb4qufg",
    "ExecuteTime": {
     "end_time": "2024-03-11T14:32:47.553719100Z",
     "start_time": "2024-03-11T14:32:47.203945300Z"
    }
   },
   "execution_count": 44,
   "outputs": []
  },
  {
   "cell_type": "code",
   "source": [
    "target = [\"Pastry\", \"Z_Scratch\", \"K_Scatch\", \"Stains\", \"Dirtiness\", \"Bumps\", \"Other_Faults\"]\n",
    "\n",
    "sample_submission.iloc[:, 1:] = pred_df[:,1:]\n",
    "sample_submission.to_csv(\"submission.csv\", index=False)\n",
    "sample_submission.head()"
   ],
   "metadata": {
    "id": "ONTuk83iqybk",
    "colab": {
     "base_uri": "https://localhost:8080/"
    },
    "outputId": "21fd1be6-6d65-45a0-bc50-fca6e9f04175",
    "ExecuteTime": {
     "end_time": "2024-03-11T14:32:48.502009200Z",
     "start_time": "2024-03-11T14:32:48.307625600Z"
    }
   },
   "execution_count": 45,
   "outputs": [
    {
     "data": {
      "text/plain": "      id    Pastry  Z_Scratch  K_Scatch    Stains  Dirtiness     Bumps  \\\n0  19219  0.535404   0.003151  0.005071  0.000928   0.015189  0.141637   \n1  19220  0.237833   0.037807  0.011842  0.001294   0.150024  0.187295   \n2  19221  0.004355   0.045051  0.035289  0.001398   0.013233  0.367061   \n3  19222  0.185323   0.007936  0.001507  0.002714   0.016749  0.391382   \n4  19223  0.003216   0.007348  0.002082  0.003235   0.008938  0.609870   \n\n   Other_Faults  \n0      0.271145  \n1      0.340381  \n2      0.475664  \n3      0.366244  \n4      0.332253  ",
      "text/html": "<div>\n<style scoped>\n    .dataframe tbody tr th:only-of-type {\n        vertical-align: middle;\n    }\n\n    .dataframe tbody tr th {\n        vertical-align: top;\n    }\n\n    .dataframe thead th {\n        text-align: right;\n    }\n</style>\n<table border=\"1\" class=\"dataframe\">\n  <thead>\n    <tr style=\"text-align: right;\">\n      <th></th>\n      <th>id</th>\n      <th>Pastry</th>\n      <th>Z_Scratch</th>\n      <th>K_Scatch</th>\n      <th>Stains</th>\n      <th>Dirtiness</th>\n      <th>Bumps</th>\n      <th>Other_Faults</th>\n    </tr>\n  </thead>\n  <tbody>\n    <tr>\n      <th>0</th>\n      <td>19219</td>\n      <td>0.535404</td>\n      <td>0.003151</td>\n      <td>0.005071</td>\n      <td>0.000928</td>\n      <td>0.015189</td>\n      <td>0.141637</td>\n      <td>0.271145</td>\n    </tr>\n    <tr>\n      <th>1</th>\n      <td>19220</td>\n      <td>0.237833</td>\n      <td>0.037807</td>\n      <td>0.011842</td>\n      <td>0.001294</td>\n      <td>0.150024</td>\n      <td>0.187295</td>\n      <td>0.340381</td>\n    </tr>\n    <tr>\n      <th>2</th>\n      <td>19221</td>\n      <td>0.004355</td>\n      <td>0.045051</td>\n      <td>0.035289</td>\n      <td>0.001398</td>\n      <td>0.013233</td>\n      <td>0.367061</td>\n      <td>0.475664</td>\n    </tr>\n    <tr>\n      <th>3</th>\n      <td>19222</td>\n      <td>0.185323</td>\n      <td>0.007936</td>\n      <td>0.001507</td>\n      <td>0.002714</td>\n      <td>0.016749</td>\n      <td>0.391382</td>\n      <td>0.366244</td>\n    </tr>\n    <tr>\n      <th>4</th>\n      <td>19223</td>\n      <td>0.003216</td>\n      <td>0.007348</td>\n      <td>0.002082</td>\n      <td>0.003235</td>\n      <td>0.008938</td>\n      <td>0.609870</td>\n      <td>0.332253</td>\n    </tr>\n  </tbody>\n</table>\n</div>"
     },
     "execution_count": 45,
     "metadata": {},
     "output_type": "execute_result"
    }
   ]
  },
  {
   "cell_type": "code",
   "source": [],
   "metadata": {
    "id": "GU5LWXNhNSnz"
   },
   "execution_count": null,
   "outputs": []
  }
 ]
}
